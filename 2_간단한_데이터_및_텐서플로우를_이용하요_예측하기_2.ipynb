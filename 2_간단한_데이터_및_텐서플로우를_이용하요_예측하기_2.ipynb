{
  "nbformat": 4,
  "nbformat_minor": 0,
  "metadata": {
    "colab": {
      "name": "2.간단한 데이터 및 텐서플로우를 이용하요 예측하기_2.ipynb",
      "provenance": [],
      "collapsed_sections": [],
      "toc_visible": true,
      "include_colab_link": true
    },
    "kernelspec": {
      "name": "python3",
      "display_name": "Python 3"
    }
  },
  "cells": [
    {
      "cell_type": "markdown",
      "metadata": {
        "id": "view-in-github",
        "colab_type": "text"
      },
      "source": [
        "<a href=\"https://colab.research.google.com/github/daawonn/dl_project/blob/master/2_%EA%B0%84%EB%8B%A8%ED%95%9C_%EB%8D%B0%EC%9D%B4%ED%84%B0_%EB%B0%8F_%ED%85%90%EC%84%9C%ED%94%8C%EB%A1%9C%EC%9A%B0%EB%A5%BC_%EC%9D%B4%EC%9A%A9%ED%95%98%EC%9A%94_%EC%98%88%EC%B8%A1%ED%95%98%EA%B8%B0_2.ipynb\" target=\"_parent\"><img src=\"https://colab.research.google.com/assets/colab-badge.svg\" alt=\"Open In Colab\"/></a>"
      ]
    },
    {
      "cell_type": "markdown",
      "metadata": {
        "id": "IHWeweKirYEI",
        "colab_type": "text"
      },
      "source": [
        "# 연구목표\n",
        "\n",
        "- BMI 지수 = (몸무게/키)*키\n",
        "- BMI를 이용하여 비만도를 측정한다\n",
        "- 알고리즘 SVM을 이용하여 BMI를 학습, 비만도 판정\n",
        "- 데이터\n",
        "  - 3_bmi.csv\n",
        "  - 업로드 하여 사용"
      ]
    },
    {
      "cell_type": "markdown",
      "metadata": {
        "id": "eyM_AG9DsGmY",
        "colab_type": "text"
      },
      "source": [
        "# 데이터 획득\n",
        "  - 개발환경이 colab으로 변경되서 로컬파일을 업로드하여 사용해야 될것 같다."
      ]
    },
    {
      "cell_type": "code",
      "metadata": {
        "id": "a8XmQML3t-QN",
        "colab_type": "code",
        "outputId": "fd8687bf-387d-4f95-c228-093a56c47d65",
        "colab": {
          "resources": {
            "http://localhost:8080/nbextensions/google.colab/files.js": {
              "data": "Ly8gQ29weXJpZ2h0IDIwMTcgR29vZ2xlIExMQwovLwovLyBMaWNlbnNlZCB1bmRlciB0aGUgQXBhY2hlIExpY2Vuc2UsIFZlcnNpb24gMi4wICh0aGUgIkxpY2Vuc2UiKTsKLy8geW91IG1heSBub3QgdXNlIHRoaXMgZmlsZSBleGNlcHQgaW4gY29tcGxpYW5jZSB3aXRoIHRoZSBMaWNlbnNlLgovLyBZb3UgbWF5IG9idGFpbiBhIGNvcHkgb2YgdGhlIExpY2Vuc2UgYXQKLy8KLy8gICAgICBodHRwOi8vd3d3LmFwYWNoZS5vcmcvbGljZW5zZXMvTElDRU5TRS0yLjAKLy8KLy8gVW5sZXNzIHJlcXVpcmVkIGJ5IGFwcGxpY2FibGUgbGF3IG9yIGFncmVlZCB0byBpbiB3cml0aW5nLCBzb2Z0d2FyZQovLyBkaXN0cmlidXRlZCB1bmRlciB0aGUgTGljZW5zZSBpcyBkaXN0cmlidXRlZCBvbiBhbiAiQVMgSVMiIEJBU0lTLAovLyBXSVRIT1VUIFdBUlJBTlRJRVMgT1IgQ09ORElUSU9OUyBPRiBBTlkgS0lORCwgZWl0aGVyIGV4cHJlc3Mgb3IgaW1wbGllZC4KLy8gU2VlIHRoZSBMaWNlbnNlIGZvciB0aGUgc3BlY2lmaWMgbGFuZ3VhZ2UgZ292ZXJuaW5nIHBlcm1pc3Npb25zIGFuZAovLyBsaW1pdGF0aW9ucyB1bmRlciB0aGUgTGljZW5zZS4KCi8qKgogKiBAZmlsZW92ZXJ2aWV3IEhlbHBlcnMgZm9yIGdvb2dsZS5jb2xhYiBQeXRob24gbW9kdWxlLgogKi8KKGZ1bmN0aW9uKHNjb3BlKSB7CmZ1bmN0aW9uIHNwYW4odGV4dCwgc3R5bGVBdHRyaWJ1dGVzID0ge30pIHsKICBjb25zdCBlbGVtZW50ID0gZG9jdW1lbnQuY3JlYXRlRWxlbWVudCgnc3BhbicpOwogIGVsZW1lbnQudGV4dENvbnRlbnQgPSB0ZXh0OwogIGZvciAoY29uc3Qga2V5IG9mIE9iamVjdC5rZXlzKHN0eWxlQXR0cmlidXRlcykpIHsKICAgIGVsZW1lbnQuc3R5bGVba2V5XSA9IHN0eWxlQXR0cmlidXRlc1trZXldOwogIH0KICByZXR1cm4gZWxlbWVudDsKfQoKLy8gTWF4IG51bWJlciBvZiBieXRlcyB3aGljaCB3aWxsIGJlIHVwbG9hZGVkIGF0IGEgdGltZS4KY29uc3QgTUFYX1BBWUxPQURfU0laRSA9IDEwMCAqIDEwMjQ7Ci8vIE1heCBhbW91bnQgb2YgdGltZSB0byBibG9jayB3YWl0aW5nIGZvciB0aGUgdXNlci4KY29uc3QgRklMRV9DSEFOR0VfVElNRU9VVF9NUyA9IDMwICogMTAwMDsKCmZ1bmN0aW9uIF91cGxvYWRGaWxlcyhpbnB1dElkLCBvdXRwdXRJZCkgewogIGNvbnN0IHN0ZXBzID0gdXBsb2FkRmlsZXNTdGVwKGlucHV0SWQsIG91dHB1dElkKTsKICBjb25zdCBvdXRwdXRFbGVtZW50ID0gZG9jdW1lbnQuZ2V0RWxlbWVudEJ5SWQob3V0cHV0SWQpOwogIC8vIENhY2hlIHN0ZXBzIG9uIHRoZSBvdXRwdXRFbGVtZW50IHRvIG1ha2UgaXQgYXZhaWxhYmxlIGZvciB0aGUgbmV4dCBjYWxsCiAgLy8gdG8gdXBsb2FkRmlsZXNDb250aW51ZSBmcm9tIFB5dGhvbi4KICBvdXRwdXRFbGVtZW50LnN0ZXBzID0gc3RlcHM7CgogIHJldHVybiBfdXBsb2FkRmlsZXNDb250aW51ZShvdXRwdXRJZCk7Cn0KCi8vIFRoaXMgaXMgcm91Z2hseSBhbiBhc3luYyBnZW5lcmF0b3IgKG5vdCBzdXBwb3J0ZWQgaW4gdGhlIGJyb3dzZXIgeWV0KSwKLy8gd2hlcmUgdGhlcmUgYXJlIG11bHRpcGxlIGFzeW5jaHJvbm91cyBzdGVwcyBhbmQgdGhlIFB5dGhvbiBzaWRlIGlzIGdvaW5nCi8vIHRvIHBvbGwgZm9yIGNvbXBsZXRpb24gb2YgZWFjaCBzdGVwLgovLyBUaGlzIHVzZXMgYSBQcm9taXNlIHRvIGJsb2NrIHRoZSBweXRob24gc2lkZSBvbiBjb21wbGV0aW9uIG9mIGVhY2ggc3RlcCwKLy8gdGhlbiBwYXNzZXMgdGhlIHJlc3VsdCBvZiB0aGUgcHJldmlvdXMgc3RlcCBhcyB0aGUgaW5wdXQgdG8gdGhlIG5leHQgc3RlcC4KZnVuY3Rpb24gX3VwbG9hZEZpbGVzQ29udGludWUob3V0cHV0SWQpIHsKICBjb25zdCBvdXRwdXRFbGVtZW50ID0gZG9jdW1lbnQuZ2V0RWxlbWVudEJ5SWQob3V0cHV0SWQpOwogIGNvbnN0IHN0ZXBzID0gb3V0cHV0RWxlbWVudC5zdGVwczsKCiAgY29uc3QgbmV4dCA9IHN0ZXBzLm5leHQob3V0cHV0RWxlbWVudC5sYXN0UHJvbWlzZVZhbHVlKTsKICByZXR1cm4gUHJvbWlzZS5yZXNvbHZlKG5leHQudmFsdWUucHJvbWlzZSkudGhlbigodmFsdWUpID0+IHsKICAgIC8vIENhY2hlIHRoZSBsYXN0IHByb21pc2UgdmFsdWUgdG8gbWFrZSBpdCBhdmFpbGFibGUgdG8gdGhlIG5leHQKICAgIC8vIHN0ZXAgb2YgdGhlIGdlbmVyYXRvci4KICAgIG91dHB1dEVsZW1lbnQubGFzdFByb21pc2VWYWx1ZSA9IHZhbHVlOwogICAgcmV0dXJuIG5leHQudmFsdWUucmVzcG9uc2U7CiAgfSk7Cn0KCi8qKgogKiBHZW5lcmF0b3IgZnVuY3Rpb24gd2hpY2ggaXMgY2FsbGVkIGJldHdlZW4gZWFjaCBhc3luYyBzdGVwIG9mIHRoZSB1cGxvYWQKICogcHJvY2Vzcy4KICogQHBhcmFtIHtzdHJpbmd9IGlucHV0SWQgRWxlbWVudCBJRCBvZiB0aGUgaW5wdXQgZmlsZSBwaWNrZXIgZWxlbWVudC4KICogQHBhcmFtIHtzdHJpbmd9IG91dHB1dElkIEVsZW1lbnQgSUQgb2YgdGhlIG91dHB1dCBkaXNwbGF5LgogKiBAcmV0dXJuIHshSXRlcmFibGU8IU9iamVjdD59IEl0ZXJhYmxlIG9mIG5leHQgc3RlcHMuCiAqLwpmdW5jdGlvbiogdXBsb2FkRmlsZXNTdGVwKGlucHV0SWQsIG91dHB1dElkKSB7CiAgY29uc3QgaW5wdXRFbGVtZW50ID0gZG9jdW1lbnQuZ2V0RWxlbWVudEJ5SWQoaW5wdXRJZCk7CiAgaW5wdXRFbGVtZW50LmRpc2FibGVkID0gZmFsc2U7CgogIGNvbnN0IG91dHB1dEVsZW1lbnQgPSBkb2N1bWVudC5nZXRFbGVtZW50QnlJZChvdXRwdXRJZCk7CiAgb3V0cHV0RWxlbWVudC5pbm5lckhUTUwgPSAnJzsKCiAgY29uc3QgcGlja2VkUHJvbWlzZSA9IG5ldyBQcm9taXNlKChyZXNvbHZlKSA9PiB7CiAgICBpbnB1dEVsZW1lbnQuYWRkRXZlbnRMaXN0ZW5lcignY2hhbmdlJywgKGUpID0+IHsKICAgICAgcmVzb2x2ZShlLnRhcmdldC5maWxlcyk7CiAgICB9KTsKICB9KTsKCiAgY29uc3QgY2FuY2VsID0gZG9jdW1lbnQuY3JlYXRlRWxlbWVudCgnYnV0dG9uJyk7CiAgaW5wdXRFbGVtZW50LnBhcmVudEVsZW1lbnQuYXBwZW5kQ2hpbGQoY2FuY2VsKTsKICBjYW5jZWwudGV4dENvbnRlbnQgPSAnQ2FuY2VsIHVwbG9hZCc7CiAgY29uc3QgY2FuY2VsUHJvbWlzZSA9IG5ldyBQcm9taXNlKChyZXNvbHZlKSA9PiB7CiAgICBjYW5jZWwub25jbGljayA9ICgpID0+IHsKICAgICAgcmVzb2x2ZShudWxsKTsKICAgIH07CiAgfSk7CgogIC8vIENhbmNlbCB1cGxvYWQgaWYgdXNlciBoYXNuJ3QgcGlja2VkIGFueXRoaW5nIGluIHRpbWVvdXQuCiAgY29uc3QgdGltZW91dFByb21pc2UgPSBuZXcgUHJvbWlzZSgocmVzb2x2ZSkgPT4gewogICAgc2V0VGltZW91dCgoKSA9PiB7CiAgICAgIHJlc29sdmUobnVsbCk7CiAgICB9LCBGSUxFX0NIQU5HRV9USU1FT1VUX01TKTsKICB9KTsKCiAgLy8gV2FpdCBmb3IgdGhlIHVzZXIgdG8gcGljayB0aGUgZmlsZXMuCiAgY29uc3QgZmlsZXMgPSB5aWVsZCB7CiAgICBwcm9taXNlOiBQcm9taXNlLnJhY2UoW3BpY2tlZFByb21pc2UsIHRpbWVvdXRQcm9taXNlLCBjYW5jZWxQcm9taXNlXSksCiAgICByZXNwb25zZTogewogICAgICBhY3Rpb246ICdzdGFydGluZycsCiAgICB9CiAgfTsKCiAgaWYgKCFmaWxlcykgewogICAgcmV0dXJuIHsKICAgICAgcmVzcG9uc2U6IHsKICAgICAgICBhY3Rpb246ICdjb21wbGV0ZScsCiAgICAgIH0KICAgIH07CiAgfQoKICBjYW5jZWwucmVtb3ZlKCk7CgogIC8vIERpc2FibGUgdGhlIGlucHV0IGVsZW1lbnQgc2luY2UgZnVydGhlciBwaWNrcyBhcmUgbm90IGFsbG93ZWQuCiAgaW5wdXRFbGVtZW50LmRpc2FibGVkID0gdHJ1ZTsKCiAgZm9yIChjb25zdCBmaWxlIG9mIGZpbGVzKSB7CiAgICBjb25zdCBsaSA9IGRvY3VtZW50LmNyZWF0ZUVsZW1lbnQoJ2xpJyk7CiAgICBsaS5hcHBlbmQoc3BhbihmaWxlLm5hbWUsIHtmb250V2VpZ2h0OiAnYm9sZCd9KSk7CiAgICBsaS5hcHBlbmQoc3BhbigKICAgICAgICBgKCR7ZmlsZS50eXBlIHx8ICduL2EnfSkgLSAke2ZpbGUuc2l6ZX0gYnl0ZXMsIGAgKwogICAgICAgIGBsYXN0IG1vZGlmaWVkOiAkewogICAgICAgICAgICBmaWxlLmxhc3RNb2RpZmllZERhdGUgPyBmaWxlLmxhc3RNb2RpZmllZERhdGUudG9Mb2NhbGVEYXRlU3RyaW5nKCkgOgogICAgICAgICAgICAgICAgICAgICAgICAgICAgICAgICAgICAnbi9hJ30gLSBgKSk7CiAgICBjb25zdCBwZXJjZW50ID0gc3BhbignMCUgZG9uZScpOwogICAgbGkuYXBwZW5kQ2hpbGQocGVyY2VudCk7CgogICAgb3V0cHV0RWxlbWVudC5hcHBlbmRDaGlsZChsaSk7CgogICAgY29uc3QgZmlsZURhdGFQcm9taXNlID0gbmV3IFByb21pc2UoKHJlc29sdmUpID0+IHsKICAgICAgY29uc3QgcmVhZGVyID0gbmV3IEZpbGVSZWFkZXIoKTsKICAgICAgcmVhZGVyLm9ubG9hZCA9IChlKSA9PiB7CiAgICAgICAgcmVzb2x2ZShlLnRhcmdldC5yZXN1bHQpOwogICAgICB9OwogICAgICByZWFkZXIucmVhZEFzQXJyYXlCdWZmZXIoZmlsZSk7CiAgICB9KTsKICAgIC8vIFdhaXQgZm9yIHRoZSBkYXRhIHRvIGJlIHJlYWR5LgogICAgbGV0IGZpbGVEYXRhID0geWllbGQgewogICAgICBwcm9taXNlOiBmaWxlRGF0YVByb21pc2UsCiAgICAgIHJlc3BvbnNlOiB7CiAgICAgICAgYWN0aW9uOiAnY29udGludWUnLAogICAgICB9CiAgICB9OwoKICAgIC8vIFVzZSBhIGNodW5rZWQgc2VuZGluZyB0byBhdm9pZCBtZXNzYWdlIHNpemUgbGltaXRzLiBTZWUgYi82MjExNTY2MC4KICAgIGxldCBwb3NpdGlvbiA9IDA7CiAgICB3aGlsZSAocG9zaXRpb24gPCBmaWxlRGF0YS5ieXRlTGVuZ3RoKSB7CiAgICAgIGNvbnN0IGxlbmd0aCA9IE1hdGgubWluKGZpbGVEYXRhLmJ5dGVMZW5ndGggLSBwb3NpdGlvbiwgTUFYX1BBWUxPQURfU0laRSk7CiAgICAgIGNvbnN0IGNodW5rID0gbmV3IFVpbnQ4QXJyYXkoZmlsZURhdGEsIHBvc2l0aW9uLCBsZW5ndGgpOwogICAgICBwb3NpdGlvbiArPSBsZW5ndGg7CgogICAgICBjb25zdCBiYXNlNjQgPSBidG9hKFN0cmluZy5mcm9tQ2hhckNvZGUuYXBwbHkobnVsbCwgY2h1bmspKTsKICAgICAgeWllbGQgewogICAgICAgIHJlc3BvbnNlOiB7CiAgICAgICAgICBhY3Rpb246ICdhcHBlbmQnLAogICAgICAgICAgZmlsZTogZmlsZS5uYW1lLAogICAgICAgICAgZGF0YTogYmFzZTY0LAogICAgICAgIH0sCiAgICAgIH07CiAgICAgIHBlcmNlbnQudGV4dENvbnRlbnQgPQogICAgICAgICAgYCR7TWF0aC5yb3VuZCgocG9zaXRpb24gLyBmaWxlRGF0YS5ieXRlTGVuZ3RoKSAqIDEwMCl9JSBkb25lYDsKICAgIH0KICB9CgogIC8vIEFsbCBkb25lLgogIHlpZWxkIHsKICAgIHJlc3BvbnNlOiB7CiAgICAgIGFjdGlvbjogJ2NvbXBsZXRlJywKICAgIH0KICB9Owp9CgpzY29wZS5nb29nbGUgPSBzY29wZS5nb29nbGUgfHwge307CnNjb3BlLmdvb2dsZS5jb2xhYiA9IHNjb3BlLmdvb2dsZS5jb2xhYiB8fCB7fTsKc2NvcGUuZ29vZ2xlLmNvbGFiLl9maWxlcyA9IHsKICBfdXBsb2FkRmlsZXMsCiAgX3VwbG9hZEZpbGVzQ29udGludWUsCn07Cn0pKHNlbGYpOwo=",
              "ok": true,
              "headers": [
                [
                  "content-type",
                  "application/javascript"
                ]
              ],
              "status": 200,
              "status_text": ""
            }
          },
          "base_uri": "https://localhost:8080/",
          "height": 96
        }
      },
      "source": [
        "from google.colab import files\n",
        "\n",
        "uploaded = files.upload()\n",
        "\n",
        "for fn in uploaded.keys():\n",
        "  print('User uploaded file \"{name}\" with length {length} bytes'.format(\n",
        "      name=fn, length=len(uploaded[fn])))"
      ],
      "execution_count": 0,
      "outputs": [
        {
          "output_type": "display_data",
          "data": {
            "text/html": [
              "\n",
              "     <input type=\"file\" id=\"files-db499ed1-451c-41d0-a50f-9cd8d2e95d72\" name=\"files[]\" multiple disabled />\n",
              "     <output id=\"result-db499ed1-451c-41d0-a50f-9cd8d2e95d72\">\n",
              "      Upload widget is only available when the cell has been executed in the\n",
              "      current browser session. Please rerun this cell to enable.\n",
              "      </output>\n",
              "      <script src=\"/nbextensions/google.colab/files.js\"></script> "
            ],
            "text/plain": [
              "<IPython.core.display.HTML object>"
            ]
          },
          "metadata": {
            "tags": []
          }
        },
        {
          "output_type": "stream",
          "text": [
            "Saving 3_bmi.csv to 3_bmi (1).csv\n",
            "User uploaded file \"3_bmi.csv\" with length 264371 bytes\n"
          ],
          "name": "stdout"
        }
      ]
    },
    {
      "cell_type": "code",
      "metadata": {
        "id": "ZZpQF3dGuEu-",
        "colab_type": "code",
        "colab": {}
      },
      "source": [
        "import numpy as np\n",
        "import pandas as pd"
      ],
      "execution_count": 0,
      "outputs": []
    },
    {
      "cell_type": "code",
      "metadata": {
        "id": "TCWY5kVGuIG9",
        "colab_type": "code",
        "outputId": "adf221fd-f247-474e-db93-13ada938ee1d",
        "colab": {
          "base_uri": "https://localhost:8080/",
          "height": 111
        }
      },
      "source": [
        "df = pd.read_csv('/content/3_bmi.csv')\n",
        "df.head(2)"
      ],
      "execution_count": 0,
      "outputs": [
        {
          "output_type": "execute_result",
          "data": {
            "text/html": [
              "<div>\n",
              "<style scoped>\n",
              "    .dataframe tbody tr th:only-of-type {\n",
              "        vertical-align: middle;\n",
              "    }\n",
              "\n",
              "    .dataframe tbody tr th {\n",
              "        vertical-align: top;\n",
              "    }\n",
              "\n",
              "    .dataframe thead th {\n",
              "        text-align: right;\n",
              "    }\n",
              "</style>\n",
              "<table border=\"1\" class=\"dataframe\">\n",
              "  <thead>\n",
              "    <tr style=\"text-align: right;\">\n",
              "      <th></th>\n",
              "      <th>height</th>\n",
              "      <th>weight</th>\n",
              "      <th>label</th>\n",
              "    </tr>\n",
              "  </thead>\n",
              "  <tbody>\n",
              "    <tr>\n",
              "      <th>0</th>\n",
              "      <td>178</td>\n",
              "      <td>69</td>\n",
              "      <td>normal</td>\n",
              "    </tr>\n",
              "    <tr>\n",
              "      <th>1</th>\n",
              "      <td>190</td>\n",
              "      <td>62</td>\n",
              "      <td>thin</td>\n",
              "    </tr>\n",
              "  </tbody>\n",
              "</table>\n",
              "</div>"
            ],
            "text/plain": [
              "   height  weight   label\n",
              "0     178      69  normal\n",
              "1     190      62    thin"
            ]
          },
          "metadata": {
            "tags": []
          },
          "execution_count": 6
        }
      ]
    },
    {
      "cell_type": "markdown",
      "metadata": {
        "id": "MvBNYN1gsGuN",
        "colab_type": "text"
      },
      "source": [
        "# 데이터 준비\n",
        "  - 품질 향상"
      ]
    },
    {
      "cell_type": "code",
      "metadata": {
        "id": "bFTBd8Umyi_e",
        "colab_type": "code",
        "outputId": "8022bdf8-af82-4abe-9ad0-3c63f7ac9c48",
        "colab": {
          "base_uri": "https://localhost:8080/",
          "height": 71
        }
      },
      "source": [
        "# 데이터의 크기, 컬럼(피처의 종류), 레이블(종속변수)의 종류\n",
        "df.shape, df.columns, df['label'].unique()"
      ],
      "execution_count": 0,
      "outputs": [
        {
          "output_type": "execute_result",
          "data": {
            "text/plain": [
              "((20000, 3),\n",
              " Index(['height', 'weight', 'label'], dtype='object'),\n",
              " array(['normal', 'thin', 'fat'], dtype=object))"
            ]
          },
          "metadata": {
            "tags": []
          },
          "execution_count": 7
        }
      ]
    },
    {
      "cell_type": "code",
      "metadata": {
        "id": "QQUVOt7mzXAE",
        "colab_type": "code",
        "outputId": "eb6dd723-41c7-4689-c0d2-8ad04d15d778",
        "colab": {
          "base_uri": "https://localhost:8080/",
          "height": 89
        }
      },
      "source": [
        "df.dtypes"
      ],
      "execution_count": 0,
      "outputs": [
        {
          "output_type": "execute_result",
          "data": {
            "text/plain": [
              "height     int64\n",
              "weight     int64\n",
              "label     object\n",
              "dtype: object"
            ]
          },
          "metadata": {
            "tags": []
          },
          "execution_count": 8
        }
      ]
    },
    {
      "cell_type": "code",
      "metadata": {
        "id": "NDacnelYzSTt",
        "colab_type": "code",
        "outputId": "345dcb37-1bb2-4ab7-f9da-dda95fc748f0",
        "colab": {
          "base_uri": "https://localhost:8080/",
          "height": 35
        }
      },
      "source": [
        "df['height'].max(), df['height'].min(), df['weight'].max(), df['weight'].min()"
      ],
      "execution_count": 0,
      "outputs": [
        {
          "output_type": "execute_result",
          "data": {
            "text/plain": [
              "(200, 120, 80, 35)"
            ]
          },
          "metadata": {
            "tags": []
          },
          "execution_count": 9
        }
      ]
    },
    {
      "cell_type": "code",
      "metadata": {
        "id": "hjMvhXEUz4iz",
        "colab_type": "code",
        "outputId": "0a835a21-84fe-44b5-eb32-bf44e0f5169b",
        "colab": {
          "base_uri": "https://localhost:8080/",
          "height": 111
        }
      },
      "source": [
        "# 데이터 정규화 -> 무게, 키의 최대치를 기준으로 처리하시오\n",
        "# 처리된 값을 다시 해당 컬럼에 대입한다\n",
        "df['height'] = df['height'] / df['height'].max()\n",
        "df['weight'] = df['weight'] / df['weight'].max()\n",
        "df.head(2)"
      ],
      "execution_count": 0,
      "outputs": [
        {
          "output_type": "execute_result",
          "data": {
            "text/html": [
              "<div>\n",
              "<style scoped>\n",
              "    .dataframe tbody tr th:only-of-type {\n",
              "        vertical-align: middle;\n",
              "    }\n",
              "\n",
              "    .dataframe tbody tr th {\n",
              "        vertical-align: top;\n",
              "    }\n",
              "\n",
              "    .dataframe thead th {\n",
              "        text-align: right;\n",
              "    }\n",
              "</style>\n",
              "<table border=\"1\" class=\"dataframe\">\n",
              "  <thead>\n",
              "    <tr style=\"text-align: right;\">\n",
              "      <th></th>\n",
              "      <th>height</th>\n",
              "      <th>weight</th>\n",
              "      <th>label</th>\n",
              "    </tr>\n",
              "  </thead>\n",
              "  <tbody>\n",
              "    <tr>\n",
              "      <th>0</th>\n",
              "      <td>0.89</td>\n",
              "      <td>0.8625</td>\n",
              "      <td>normal</td>\n",
              "    </tr>\n",
              "    <tr>\n",
              "      <th>1</th>\n",
              "      <td>0.95</td>\n",
              "      <td>0.7750</td>\n",
              "      <td>thin</td>\n",
              "    </tr>\n",
              "  </tbody>\n",
              "</table>\n",
              "</div>"
            ],
            "text/plain": [
              "   height  weight   label\n",
              "0    0.89  0.8625  normal\n",
              "1    0.95  0.7750    thin"
            ]
          },
          "metadata": {
            "tags": []
          },
          "execution_count": 10
        }
      ]
    },
    {
      "cell_type": "code",
      "metadata": {
        "id": "h8SLjMS11BN1",
        "colab_type": "code",
        "outputId": "9b11e455-d77a-4477-80fb-f7177aceb754",
        "colab": {
          "base_uri": "https://localhost:8080/",
          "height": 35
        }
      },
      "source": [
        "# 레이블을 종속변수인데 분류를 백터화 해서 처리\n",
        "# 케이스가 총 3개 -> 0 0 1, 0 1 0, 1 0 0\n",
        "# thin   -> [ 1,0,0 ]\n",
        "# normal -> [ 0,1,0 ]\n",
        "# fat    -> [ 0,0,1 ] 값이 변경되도록 처리하시오\n",
        "matchingTable = {\n",
        "    'thin'  :np.array([1,0,0]),\n",
        "    'normal':np.array([0,1,0]),\n",
        "    'fat'   :np.array([0,0,1])\n",
        "}\n",
        "matchingTable"
      ],
      "execution_count": 0,
      "outputs": [
        {
          "output_type": "execute_result",
          "data": {
            "text/plain": [
              "{'fat': array([0, 0, 1]), 'normal': array([0, 1, 0]), 'thin': array([1, 0, 0])}"
            ]
          },
          "metadata": {
            "tags": []
          },
          "execution_count": 11
        }
      ]
    },
    {
      "cell_type": "code",
      "metadata": {
        "id": "d2dkRui33Wws",
        "colab_type": "code",
        "outputId": "90653eb0-135d-4a3c-e3f5-048c17e91281",
        "colab": {
          "base_uri": "https://localhost:8080/",
          "height": 111
        }
      },
      "source": [
        "df['label'] = df['label'].apply( lambda x: matchingTable[x] )\n",
        "df.head(2)"
      ],
      "execution_count": 0,
      "outputs": [
        {
          "output_type": "execute_result",
          "data": {
            "text/html": [
              "<div>\n",
              "<style scoped>\n",
              "    .dataframe tbody tr th:only-of-type {\n",
              "        vertical-align: middle;\n",
              "    }\n",
              "\n",
              "    .dataframe tbody tr th {\n",
              "        vertical-align: top;\n",
              "    }\n",
              "\n",
              "    .dataframe thead th {\n",
              "        text-align: right;\n",
              "    }\n",
              "</style>\n",
              "<table border=\"1\" class=\"dataframe\">\n",
              "  <thead>\n",
              "    <tr style=\"text-align: right;\">\n",
              "      <th></th>\n",
              "      <th>height</th>\n",
              "      <th>weight</th>\n",
              "      <th>label</th>\n",
              "    </tr>\n",
              "  </thead>\n",
              "  <tbody>\n",
              "    <tr>\n",
              "      <th>0</th>\n",
              "      <td>0.89</td>\n",
              "      <td>0.8625</td>\n",
              "      <td>[0, 1, 0]</td>\n",
              "    </tr>\n",
              "    <tr>\n",
              "      <th>1</th>\n",
              "      <td>0.95</td>\n",
              "      <td>0.7750</td>\n",
              "      <td>[1, 0, 0]</td>\n",
              "    </tr>\n",
              "  </tbody>\n",
              "</table>\n",
              "</div>"
            ],
            "text/plain": [
              "   height  weight      label\n",
              "0    0.89  0.8625  [0, 1, 0]\n",
              "1    0.95  0.7750  [1, 0, 0]"
            ]
          },
          "metadata": {
            "tags": []
          },
          "execution_count": 12
        }
      ]
    },
    {
      "cell_type": "code",
      "metadata": {
        "id": "qNS4jO58z4lj",
        "colab_type": "code",
        "colab": {}
      },
      "source": [
        "# 데이터를 훈련용, 테스트용으로 분류한다\n",
        "from sklearn.model_selection import train_test_split"
      ],
      "execution_count": 0,
      "outputs": []
    },
    {
      "cell_type": "code",
      "metadata": {
        "id": "dXJCuCMO5WBL",
        "colab_type": "code",
        "colab": {}
      },
      "source": [
        "# 비율 75:25, 난수 0으로 고정하려 분류하시오\n",
        "# X_..  , y_... 변수명\n",
        "#X_train, X_test, y_train, y_test = train_test_split(독립변수:DF, 종속변수:Se, 비율, 난수)\n",
        "# df[ df.columns[:2] ] => df[ ['',''] ] => df.iloc[ : , :2 ]\n",
        "X_train, X_test, y_train, y_test = train_test_split(df[ df.columns[:2] ], \n",
        "                                                    df['label'], \n",
        "                                                    test_size=0.25 , \n",
        "                                                    random_state=0)"
      ],
      "execution_count": 0,
      "outputs": []
    },
    {
      "cell_type": "code",
      "metadata": {
        "id": "fhd18vOlAcG6",
        "colab_type": "code",
        "outputId": "2ef30660-4965-4176-9453-5d6a08ded5de",
        "colab": {
          "base_uri": "https://localhost:8080/",
          "height": 35
        }
      },
      "source": [
        "X_train.shape, X_test.shape, y_train.shape, y_test.shape"
      ],
      "execution_count": 0,
      "outputs": [
        {
          "output_type": "execute_result",
          "data": {
            "text/plain": [
              "((15000, 2), (5000, 2), (15000,), (5000,))"
            ]
          },
          "metadata": {
            "tags": []
          },
          "execution_count": 15
        }
      ]
    },
    {
      "cell_type": "markdown",
      "metadata": {
        "id": "IWr572H4sG0m",
        "colab_type": "text"
      },
      "source": [
        "# 데이터 분석\n",
        "- 생략"
      ]
    },
    {
      "cell_type": "markdown",
      "metadata": {
        "id": "UWEX5iH_sG51",
        "colab_type": "text"
      },
      "source": [
        "# 머신러닝 모델링(딥러닝, 텐서플로우 사용)\n",
        "\n",
        "- 각각의 출력값에 대해서, 가중치를 곱하고 합한후, 바이어스(편향, 조정한값)를 더해서 softmax라는 함수(판단보류)로 적용한것(간단한 퍼셉트론을 표현)\n",
        "- 해당 이론을 수식으로 정리하여 함수로 표현\n",
        " [ 그림 sm0, sm1, sm2, sm3 참조 ]\n",
        "- 간단하게 표현\n",
        "  - y = softmax( Wx + b )\n",
        "- 해당 수식을 데이터 플로우 그래프로 표현\n",
        "\n"
      ]
    },
    {
      "cell_type": "markdown",
      "metadata": {
        "id": "I53UdXyUEb6I",
        "colab_type": "text"
      },
      "source": [
        "\n",
        "## 데이터 플로우 그래프 준비"
      ]
    },
    {
      "cell_type": "code",
      "metadata": {
        "id": "Bg6Bgtb6JZgz",
        "colab_type": "code",
        "outputId": "682b90c1-49bb-4a74-9f67-598f75b9f354",
        "colab": {
          "base_uri": "https://localhost:8080/",
          "height": 34
        }
      },
      "source": [
        "from IPython.display import Image\n",
        "# 소프트맥스 함수 표현\n",
        "# 활성화 함수중에 하나로, \n",
        "# 입력받은 값을 출력으로 0~1사이의 값으로 모두 정규화하며 출력 값들의 총합은 \n",
        "# 항상 1이 되는 특성을 가진 함수\n",
        "Image('sm0.png', width=300)"
      ],
      "execution_count": 0,
      "outputs": [
        {
          "output_type": "execute_result",
          "data": {
            "image/png": "sm0.png",
            "text/plain": [
              "<IPython.core.display.Image object>"
            ]
          },
          "metadata": {
            "tags": [],
            "image/png": {
              "width": 300
            }
          },
          "execution_count": 16
        }
      ]
    },
    {
      "cell_type": "code",
      "metadata": {
        "id": "DfXQRM5RJcFL",
        "colab_type": "code",
        "outputId": "cc34c86d-122b-485c-9615-7d2ef7f050cc",
        "colab": {
          "base_uri": "https://localhost:8080/",
          "height": 34
        }
      },
      "source": [
        "# 퍼셉트론을 구현한 그림1\n",
        "Image('sm1.png', width=300)"
      ],
      "execution_count": 0,
      "outputs": [
        {
          "output_type": "execute_result",
          "data": {
            "image/png": "sm1.png",
            "text/plain": [
              "<IPython.core.display.Image object>"
            ]
          },
          "metadata": {
            "tags": [],
            "image/png": {
              "width": 300
            }
          },
          "execution_count": 17
        }
      ]
    },
    {
      "cell_type": "code",
      "metadata": {
        "id": "EUIslXp9JcIM",
        "colab_type": "code",
        "outputId": "2e293868-a411-48cc-ce08-2a86b49594da",
        "colab": {
          "base_uri": "https://localhost:8080/",
          "height": 34
        }
      },
      "source": [
        "# 그림1을 수식으로 표현한 그림2\n",
        "Image('sm2.png', width=300)"
      ],
      "execution_count": 0,
      "outputs": [
        {
          "output_type": "execute_result",
          "data": {
            "image/png": "sm2.png",
            "text/plain": [
              "<IPython.core.display.Image object>"
            ]
          },
          "metadata": {
            "tags": [],
            "image/png": {
              "width": 300
            }
          },
          "execution_count": 18
        }
      ]
    },
    {
      "cell_type": "code",
      "metadata": {
        "id": "IfYrG9r6JcKp",
        "colab_type": "code",
        "outputId": "a776b16b-8c6b-4769-8a0c-f15abc460e89",
        "colab": {
          "base_uri": "https://localhost:8080/",
          "height": 34
        }
      },
      "source": [
        "# 그림2의 수식을 간결하게 표현\n",
        "Image('sm3.png', width=300)"
      ],
      "execution_count": 0,
      "outputs": [
        {
          "output_type": "execute_result",
          "data": {
            "image/png": "sm3.png",
            "text/plain": [
              "<IPython.core.display.Image object>"
            ]
          },
          "metadata": {
            "tags": [],
            "image/png": {
              "width": 300
            }
          },
          "execution_count": 19
        }
      ]
    },
    {
      "cell_type": "code",
      "metadata": {
        "id": "54t90H0mJcNc",
        "colab_type": "code",
        "colab": {}
      },
      "source": [
        ""
      ],
      "execution_count": 0,
      "outputs": []
    },
    {
      "cell_type": "code",
      "metadata": {
        "id": "YD7wCrK1Dg6g",
        "colab_type": "code",
        "outputId": "662ddb2d-8ecf-4676-aeca-153f56348322",
        "colab": {
          "base_uri": "https://localhost:8080/",
          "height": 64
        }
      },
      "source": [
        "import tensorflow as tf\n",
        "%tensorflow_version 1.x"
      ],
      "execution_count": 0,
      "outputs": [
        {
          "output_type": "display_data",
          "data": {
            "text/html": [
              "<p style=\"color: red;\">\n",
              "The default version of TensorFlow in Colab will soon switch to TensorFlow 2.x.<br>\n",
              "We recommend you <a href=\"https://www.tensorflow.org/guide/migrate\" target=\"_blank\">upgrade</a> now \n",
              "or ensure your notebook will continue to use TensorFlow 1.x via the <code>%tensorflow_version 1.x</code> magic:\n",
              "<a href=\"https://colab.research.google.com/notebooks/tensorflow_version.ipynb\" target=\"_blank\">more info</a>.</p>\n"
            ],
            "text/plain": [
              "<IPython.core.display.HTML object>"
            ]
          },
          "metadata": {
            "tags": []
          }
        }
      ]
    },
    {
      "cell_type": "code",
      "metadata": {
        "id": "EXlK7jq1A2s2",
        "colab_type": "code",
        "colab": {}
      },
      "source": [
        "# 텐서플로우로 이 수식을 처리하기 위해 구현\n",
        "# 입력 x : 키, 몸무게\n",
        "x = tf.placeholder( tf.float32, [None,2] )"
      ],
      "execution_count": 0,
      "outputs": []
    },
    {
      "cell_type": "code",
      "metadata": {
        "id": "euhIVBoWA2vW",
        "colab_type": "code",
        "colab": {}
      },
      "source": [
        "# 가중치 => 변할수있다 => 변수\n",
        "# shape 형태를 고려\n",
        "# tf.zeros()를 사용하면 초기값을 0. 부여하여 전체 타입을 float32로 통일\n",
        "W = tf.Variable( tf.zeros([2, 3]) ) "
      ],
      "execution_count": 0,
      "outputs": []
    },
    {
      "cell_type": "code",
      "metadata": {
        "id": "o__Zvo6lGPld",
        "colab_type": "code",
        "colab": {}
      },
      "source": [
        "# 편향, 바이어스 => 변수\n",
        "b = tf.Variable( tf.zeros([3]) )"
      ],
      "execution_count": 0,
      "outputs": []
    },
    {
      "cell_type": "code",
      "metadata": {
        "id": "NCFaBrF9A2yN",
        "colab_type": "code",
        "colab": {}
      },
      "source": [
        "# y = softmax( Wx + b )\n",
        "# 데이터 플로우 그래프 -> 계산식\n",
        "# x는 matrix, 2차 행렬, [none, 2] \n",
        "# 행렬의 곱 (none, 2) * ( 2, 3 ) => (none, 3)\n",
        "# 3은 결과(y의 총 케이스수:정답의 개수(정상, 마름, 비만))\n",
        "# 바이어스(편향)값은 브로드 캐스팅에 의해서 행렬을 확장시켜 계산 처리 된다\n",
        "y = tf.nn.softmax(tf.matmul(x,W) + b)"
      ],
      "execution_count": 0,
      "outputs": []
    },
    {
      "cell_type": "code",
      "metadata": {
        "id": "EwlS79MDCmzm",
        "colab_type": "code",
        "colab": {}
      },
      "source": [
        ""
      ],
      "execution_count": 0,
      "outputs": []
    },
    {
      "cell_type": "code",
      "metadata": {
        "id": "xikeJ9coA20_",
        "colab_type": "code",
        "outputId": "6614636e-f8eb-4ba0-9507-e0c96df884ac",
        "colab": {
          "base_uri": "https://localhost:8080/",
          "height": 35
        }
      },
      "source": [
        "# 데이터 플로우 그래프이 핵심 => shape을 맞춰야 한다\n",
        "'%s X %s + %s = %s' % (x.shape, W.shape, b.shape, y.shape)"
      ],
      "execution_count": 0,
      "outputs": [
        {
          "output_type": "execute_result",
          "data": {
            "text/plain": [
              "'(?, 2) X (2, 3) + (3,) = (?, 3)'"
            ]
          },
          "metadata": {
            "tags": []
          },
          "execution_count": 25
        }
      ]
    },
    {
      "cell_type": "markdown",
      "metadata": {
        "id": "zK3Wh9a-EN2Y",
        "colab_type": "text"
      },
      "source": [
        "## 학습에 필요한 데이터 플로우 그래프 추가\n",
        "\n",
        "- 좋은 모델을 만들기 위한 장치\n",
        "  - 기준점\n",
        "    - 비용(cost), 손실(loss)등 값들이 원하는 값에서 얼마나 떨어져 있는가 이것을 판단의 지표로 본다\n",
        "    - 이 값들을 줄이는 방향으로 전개된다\n",
        "    - 이런 처리를 위해서 \"크로스 엔트로피\"와 같은 알고리즘을 적용\n",
        "    - 정보 이론 분야의 정보 압축 알고리즘으로 고안되었고,\n",
        "    - 실제로는 베팅, 머신러닝쪽에서 중요한 알고리즘,아이디어로 사용된다"
      ]
    },
    {
      "cell_type": "code",
      "metadata": {
        "id": "mPHqL7coJPy9",
        "colab_type": "code",
        "outputId": "99555457-bf07-4456-8707-a9230599659f",
        "colab": {
          "base_uri": "https://localhost:8080/",
          "height": 64
        }
      },
      "source": [
        "# 크로스 엔트로피 함수\n",
        "Image('sm4.png', width=200)"
      ],
      "execution_count": 0,
      "outputs": [
        {
          "output_type": "execute_result",
          "data": {
            "image/png": "[encoded data removed]",
            "text/plain": [
              "<IPython.core.display.Image object>"
            ]
          },
          "metadata": {
            "tags": [],
            "image/png": {
              "width": 200
            }
          },
          "execution_count": 27
        }
      ]
    },
    {
      "cell_type": "code",
      "metadata": {
        "id": "n92ifPmnJP1d",
        "colab_type": "code",
        "colab": {}
      },
      "source": [
        "# y_ : 정답 레이블\n",
        "# y  : 예측 레이블 \n",
        "# y_ : [1,0,0], [0,1,0], [0, 0, 1], .... => [None, 3]\n",
        "y_ = tf.placeholder( tf.float32, [None, 3] )"
      ],
      "execution_count": 0,
      "outputs": []
    },
    {
      "cell_type": "code",
      "metadata": {
        "id": "wmrIxXXhJP31",
        "colab_type": "code",
        "colab": {}
      },
      "source": [
        "# 크로스 엔트로피를 구성\n",
        "cross_entropy = -tf.reduce_sum( y_ * tf.log(y) )"
      ],
      "execution_count": 0,
      "outputs": []
    },
    {
      "cell_type": "code",
      "metadata": {
        "id": "Gr-hGkuZJP6a",
        "colab_type": "code",
        "colab": {}
      },
      "source": [
        "# 크로스 엔트로피가 최소화 되도록 작업을 진행시킨다\n",
        "# 경사 하강법(Gradient descent algorithm)으로 수행\n",
        "# 경사 하강법을 적용하면, 텐서플로우가 변수를 비용을 줄이는 방향으로 조금씩 이동시켜서 연산수행\n",
        "# => 비용, 손실등을 최소가 되겠금, 오차율을 최소로 만들게끔 처리\n",
        "# 하이퍼파라미터는 일단 0.01 적용\n",
        "optimazer = tf.train.GradientDescentOptimizer(0.01)"
      ],
      "execution_count": 0,
      "outputs": []
    },
    {
      "cell_type": "code",
      "metadata": {
        "id": "NNXh9HlzJP8i",
        "colab_type": "code",
        "colab": {}
      },
      "source": [
        "# 훈련을 정의\n",
        "# 최소화 하기 위해서 minimize() 사용\n",
        "train = optimazer.minimize( cross_entropy )"
      ],
      "execution_count": 0,
      "outputs": []
    },
    {
      "cell_type": "code",
      "metadata": {
        "id": "E1lV7QMkKrJp",
        "colab_type": "code",
        "colab": {}
      },
      "source": [
        "# 정답률 예측 정의\n",
        "# y  : 예측 레이블 \n",
        "# y_ : 정답 레이블\n",
        "# tf.argmax( y, 1) : 모델이 판단하기에 각 데이터별로 적합하다고 판단되는 레이블 값으로 취한다\n",
        "predict = tf.equal( tf.argmax(y,1), tf.argmax(y_, 1) )"
      ],
      "execution_count": 0,
      "outputs": []
    },
    {
      "cell_type": "code",
      "metadata": {
        "id": "nSTYSFEtJP-9",
        "colab_type": "code",
        "outputId": "cb84dcb9-f6e2-4912-c3e8-b15f236aefd0",
        "colab": {
          "base_uri": "https://localhost:8080/",
          "height": 89
        }
      },
      "source": [
        "predict, train, optimazer, cross_entropy"
      ],
      "execution_count": 0,
      "outputs": [
        {
          "output_type": "execute_result",
          "data": {
            "text/plain": [
              "(<tf.Tensor 'Equal:0' shape=(?,) dtype=bool>,\n",
              " <tf.Operation 'GradientDescent' type=NoOp>,\n",
              " <tensorflow.python.training.gradient_descent.GradientDescentOptimizer at 0x7f322339c4a8>,\n",
              " <tf.Tensor 'Neg:0' shape=() dtype=float32>)"
            ]
          },
          "metadata": {
            "tags": []
          },
          "execution_count": 31
        }
      ]
    },
    {
      "cell_type": "code",
      "metadata": {
        "id": "nVELrYf0JQBe",
        "colab_type": "code",
        "colab": {}
      },
      "source": [
        "# 정확도 => 부동소수 변환하여 평균값을 획득\n",
        "accuracy = tf.reduce_mean( tf.cast(predict, tf.float32) )"
      ],
      "execution_count": 0,
      "outputs": []
    },
    {
      "cell_type": "markdown",
      "metadata": {
        "id": "8hAitPX2O0Pl",
        "colab_type": "text"
      },
      "source": [
        "## 세션 가동 실행\n",
        "\n",
        "- Session을 구해서 처리\n",
        "- 데이터를 증가시키면서 반복 학습\n",
        "  - 데이터를 양을 0-100, 0-200 이런 느낌으로 증가\n",
        "  - 데이터를 0-100, 100-200, 횟수를 증가할것인가\n",
        "    - 횟수를 증가, 새로운 데이터로 학습"
      ]
    },
    {
      "cell_type": "code",
      "metadata": {
        "id": "KwEkEIjYSf-7",
        "colab_type": "code",
        "outputId": "9c493a46-7114-483d-fc2f-b192019010d0",
        "colab": {
          "base_uri": "https://localhost:8080/",
          "height": 35
        }
      },
      "source": [
        "type(X_train), X_train.shape[0] #데이터의 총개수"
      ],
      "execution_count": 0,
      "outputs": [
        {
          "output_type": "execute_result",
          "data": {
            "text/plain": [
              "(pandas.core.frame.DataFrame, 15000)"
            ]
          },
          "metadata": {
            "tags": []
          },
          "execution_count": 33
        }
      ]
    },
    {
      "cell_type": "code",
      "metadata": {
        "id": "WfRxsMsqWN7Y",
        "colab_type": "code",
        "outputId": "a6d6d90d-0dce-497c-f785-d42dc1e6251c",
        "colab": {
          "base_uri": "https://localhost:8080/",
          "height": 107
        }
      },
      "source": [
        "# 모든 컬럼을 포함한 상태로 연속적인 인덱스를 기준으로 데이터를 추출\n",
        "# df[ : ] 사용하면 간단하게 해결\n",
        "X_train.head()[1:3], X_train.head().iloc[1:3, :]"
      ],
      "execution_count": 0,
      "outputs": [
        {
          "output_type": "execute_result",
          "data": {
            "text/plain": [
              "(       height  weight\n",
              " 17768   0.750  0.8375\n",
              " 19492   0.675  0.4500,        height  weight\n",
              " 17768   0.750  0.8375\n",
              " 19492   0.675  0.4500)"
            ]
          },
          "metadata": {
            "tags": []
          },
          "execution_count": 34
        }
      ]
    },
    {
      "cell_type": "code",
      "metadata": {
        "id": "dMQ1JWvOab94",
        "colab_type": "code",
        "outputId": "3b572e20-0126-4938-b4f6-ab09a80daf6b",
        "colab": {
          "base_uri": "https://localhost:8080/",
          "height": 111
        }
      },
      "source": [
        "tmps = X_train[0:100]\n",
        "tmps.head(2)\n",
        "# 훈련시 컬럼 순서를 재조정해야 한다면 활용, 테스트 데이터등 컬럼순서 검토\n",
        "#tmps[ ['weight','height'] ].head(2)"
      ],
      "execution_count": 0,
      "outputs": [
        {
          "output_type": "execute_result",
          "data": {
            "text/html": [
              "<div>\n",
              "<style scoped>\n",
              "    .dataframe tbody tr th:only-of-type {\n",
              "        vertical-align: middle;\n",
              "    }\n",
              "\n",
              "    .dataframe tbody tr th {\n",
              "        vertical-align: top;\n",
              "    }\n",
              "\n",
              "    .dataframe thead th {\n",
              "        text-align: right;\n",
              "    }\n",
              "</style>\n",
              "<table border=\"1\" class=\"dataframe\">\n",
              "  <thead>\n",
              "    <tr style=\"text-align: right;\">\n",
              "      <th></th>\n",
              "      <th>height</th>\n",
              "      <th>weight</th>\n",
              "    </tr>\n",
              "  </thead>\n",
              "  <tbody>\n",
              "    <tr>\n",
              "      <th>16152</th>\n",
              "      <td>0.91</td>\n",
              "      <td>0.8125</td>\n",
              "    </tr>\n",
              "    <tr>\n",
              "      <th>17768</th>\n",
              "      <td>0.75</td>\n",
              "      <td>0.8375</td>\n",
              "    </tr>\n",
              "  </tbody>\n",
              "</table>\n",
              "</div>"
            ],
            "text/plain": [
              "       height  weight\n",
              "16152    0.91  0.8125\n",
              "17768    0.75  0.8375"
            ]
          },
          "metadata": {
            "tags": []
          },
          "execution_count": 35
        }
      ]
    },
    {
      "cell_type": "code",
      "metadata": {
        "id": "YBD6n_ZebT3n",
        "colab_type": "code",
        "outputId": "ed9e7710-4393-4689-dd67-26cfdcd698b6",
        "colab": {
          "base_uri": "https://localhost:8080/",
          "height": 71
        }
      },
      "source": [
        "y_train[0:100][:2]"
      ],
      "execution_count": 0,
      "outputs": [
        {
          "output_type": "execute_result",
          "data": {
            "text/plain": [
              "16152    [0, 1, 0]\n",
              "17768    [0, 0, 1]\n",
              "Name: label, dtype: object"
            ]
          },
          "metadata": {
            "tags": []
          },
          "execution_count": 36
        }
      ]
    },
    {
      "cell_type": "code",
      "metadata": {
        "id": "CFTK6RlFJQD6",
        "colab_type": "code",
        "outputId": "6ac13b1a-f7f7-48af-8bdd-72cf01d0ee55",
        "colab": {
          "base_uri": "https://localhost:8080/",
          "height": 305
        }
      },
      "source": [
        "with tf.Session() as sess:\n",
        "  # 1. 변수 초기화(조건 초기화)\n",
        "  sess.run( tf.global_variables_initializer() )\n",
        "  # 2. 훈련 데이터를 나눠서 훈련시 주입하기 위한 기준값 정의  \n",
        "  # 2-1. 훈련 한번 수행시 데이터 크기\n",
        "  TRAIN_TERM = 100  \n",
        "  # 2-2. 몇번까지 훈련을 진행할 것인가 훈련 횟수 \n",
        "  train_count = int(X_train.shape[0] / TRAIN_TERM)\n",
        "  # 3. 학습 수행, 반복적으로\n",
        "  for step in range(train_count): # step:(0~149)\n",
        "    # 3-1. 훈련데이터에서 데이터를 순차적으로 추출\n",
        "    # step:(0~149)*100=>0~14900\n",
        "    offset = step*TRAIN_TERM\n",
        "    datas  = X_train[ offset : offset + TRAIN_TERM]\n",
        "    # 3-2. 학습\n",
        "    # 학습 데이터 준비\n",
        "    # 플레이스홀더 변수값을 채운다\n",
        "    # datas : 컬럼 순서 주의(피처의 순서), 테스트 데이터의 피처 순서와 동일\n",
        "    fd = { x:datas , y_:list(y_train[ offset : offset + TRAIN_TERM]) }\n",
        "    # 훈련 데이터 주입 => feed_dict=\n",
        "    # 학습 수행\n",
        "    sess.run( train, feed_dict=fd )\n",
        "    # 중간 확인 : 결론만 보지말고, 과정을 확인해서, 어던 변화가 있었는지를 점검\n",
        "    # 10번째 마다 결과를확인하겠다, 0도 포함\n",
        "    if step%10 == 0:\n",
        "      # 크로스 엔트로피 값 획득 해라\n",
        "      cross_en = sess.run( cross_entropy, feed_dict=fd )\n",
        "      # 정확도 획득 해라\n",
        "      # 정확도 => 한번도 접하지 못한 데이터를 넣어서 예측한값을 정답과 비교하여\n",
        "      # 측정하는것이다 => 데이터 주입 : 테스트 데이터, 테스트 데이터의 답\n",
        "      acc      = sess.run( accuracy, feed_dict={x:X_test, y_:list(y_test)} )\n",
        "      # 로그 출력\n",
        "      print( 'step=%s, cro=%s, acc=%s' % (step, cross_en, acc) )\n",
        "    pass # end for\n",
        "  # step 149번 최종 정확도\n",
        "  acc      = sess.run( accuracy, feed_dict={x:X_test, y_:list(y_test)} )\n",
        "  print( '마지막회수의 정확도', acc )\n",
        "  pass # end with"
      ],
      "execution_count": 0,
      "outputs": [
        {
          "output_type": "stream",
          "text": [
            "step=0, cro=106.28909, acc=0.3788\n",
            "step=10, cro=101.96707, acc=0.534\n",
            "step=20, cro=100.24037, acc=0.6822\n",
            "step=30, cro=94.6657, acc=0.6798\n",
            "step=40, cro=93.02731, acc=0.6716\n",
            "step=50, cro=91.353935, acc=0.6862\n",
            "step=60, cro=81.40004, acc=0.6728\n",
            "step=70, cro=84.915985, acc=0.7228\n",
            "step=80, cro=84.13021, acc=0.695\n",
            "step=90, cro=81.22965, acc=0.6832\n",
            "step=100, cro=78.59924, acc=0.7426\n",
            "step=110, cro=78.421616, acc=0.6772\n",
            "step=120, cro=75.88559, acc=0.7066\n",
            "step=130, cro=77.74769, acc=0.6844\n",
            "step=140, cro=68.8153, acc=0.6914\n",
            "마지막회수의 정확도 0.7456\n"
          ],
          "name": "stdout"
        }
      ]
    },
    {
      "cell_type": "code",
      "metadata": {
        "id": "_zN8t18Dwxyl",
        "colab_type": "code",
        "outputId": "bbee364e-53d5-4ccb-c36c-895f75f8a2b4",
        "colab": {
          "base_uri": "https://localhost:8080/",
          "height": 1000
        }
      },
      "source": [
        "with tf.Session() as sess:\n",
        "  # 1. 변수 초기화(조건 초기화)\n",
        "  sess.run( tf.global_variables_initializer() )\n",
        "  # 2. 훈련 데이터를 나눠서 훈련시 주입하기 위한 기준값 정의  \n",
        "  # 2-1. 훈련 한번 수행시 데이터 크기\n",
        "  TRAIN_TERM = 100  \n",
        "\n",
        "\n",
        "  \n",
        "  # 2-2. 몇번까지 훈련을 진행할 것인가 훈련 횟수 \n",
        "  train_count = int(X_train.shape[0] / TRAIN_TERM)\n",
        "  # 횟수를 4배 증가\n",
        "  STEP_SEGMENT = 2*2*2*2  # 수치를 2, 4 등 넣어보니 증가는 하지만 증가치가 감속한다.\n",
        "  # 2 -> 10% 증가, 4 -> 5% 증가, 8-> 2.5% 증가 ..등등\n",
        "  # 실제로 적용해 보니 상승폭이 더 둔화되었다 => 93.4% 도달\n",
        "  # 중복적으로 훈련된 데이터가 수치가 커질수록 많아져서 떨어지지 않았을까?  => 아이디어\n",
        "  # 3. 학습 수행, 반복적으로\n",
        "  for step in range(train_count*STEP_SEGMENT): # step:(0~149)\n",
        "    # 3-1. 훈련데이터에서 데이터를 순차적으로 추출\n",
        "    # step:(0~149)*100=>0~14900\n",
        "    offset = int(step*TRAIN_TERM/STEP_SEGMENT)\n",
        "    datas  = X_train[ offset : offset + TRAIN_TERM]\n",
        "    # 3-2. 학습\n",
        "    # 학습 데이터 준비\n",
        "    # 플레이스홀더 변수값을 채운다\n",
        "    # datas : 컬럼 순서 주의(피처의 순서), 테스트 데이터의 피처 순서와 동일\n",
        "    fd = { x:datas , y_:list(y_train[ offset : offset + TRAIN_TERM]) }\n",
        "    # 훈련 데이터 주입 => feed_dict=\n",
        "    # 학습 수행\n",
        "    sess.run( train, feed_dict=fd )\n",
        "    # 중간 확인 : 결론만 보지말고, 과정을 확인해서, 어던 변화가 있었는지를 점검\n",
        "    # 10번째 마다 결과를확인하겠다, 0도 포함\n",
        "    if step%10 == 0:\n",
        "      # 크로스 엔트로피 값 획득 해라\n",
        "      cross_en = sess.run( cross_entropy, feed_dict=fd )\n",
        "      # 정확도 획득 해라\n",
        "      # 정확도 => 한번도 접하지 못한 데이터를 넣어서 예측한값을 정답과 비교하여\n",
        "      # 측정하는것이다 => 데이터 주입 : 테스트 데이터, 테스트 데이터의 답\n",
        "      acc      = sess.run( accuracy, feed_dict={x:X_test, y_:list(y_test)} )\n",
        "      # 로그 출력\n",
        "      print( 'step=%s, cro=%s, acc=%s' % (step, cross_en, acc) )\n",
        "    pass # end for\n",
        "  # step 149번 최종 정확도\n",
        "  acc      = sess.run( accuracy, feed_dict={x:X_test, y_:list(y_test)} )\n",
        "  print( '마지막회수의 정확도', acc )\n",
        "  pass # end with"
      ],
      "execution_count": 0,
      "outputs": [
        {
          "output_type": "stream",
          "text": [
            "step=0, cro=106.28909, acc=0.3788\n",
            "step=10, cro=101.6417, acc=0.3788\n",
            "step=20, cro=95.83631, acc=0.46\n",
            "step=30, cro=94.224106, acc=0.6388\n",
            "step=40, cro=92.86491, acc=0.7148\n",
            "step=50, cro=92.2722, acc=0.6984\n",
            "step=60, cro=89.7535, acc=0.793\n",
            "step=70, cro=84.31235, acc=0.5318\n",
            "step=80, cro=81.48253, acc=0.805\n",
            "step=90, cro=80.034706, acc=0.6806\n",
            "step=100, cro=80.55241, acc=0.6814\n",
            "step=110, cro=79.41415, acc=0.6986\n",
            "step=120, cro=75.05969, acc=0.8148\n",
            "step=130, cro=74.690384, acc=0.8082\n",
            "step=140, cro=75.44251, acc=0.8008\n",
            "step=150, cro=75.71866, acc=0.8212\n",
            "step=160, cro=68.12229, acc=0.691\n",
            "step=170, cro=62.88241, acc=0.6848\n",
            "step=180, cro=68.56894, acc=0.6824\n",
            "step=190, cro=63.02624, acc=0.6752\n",
            "step=200, cro=68.01746, acc=0.7302\n",
            "step=210, cro=67.419556, acc=0.7324\n",
            "step=220, cro=64.86983, acc=0.7268\n",
            "step=230, cro=64.678894, acc=0.7784\n",
            "step=240, cro=65.125626, acc=0.8458\n",
            "step=250, cro=67.98277, acc=0.8662\n",
            "step=260, cro=66.837654, acc=0.7834\n",
            "step=270, cro=60.797077, acc=0.715\n",
            "step=280, cro=60.655125, acc=0.7608\n",
            "step=290, cro=58.17644, acc=0.7054\n",
            "step=300, cro=56.07966, acc=0.704\n",
            "step=310, cro=61.81646, acc=0.7542\n",
            "step=320, cro=61.36272, acc=0.815\n",
            "step=330, cro=59.13226, acc=0.8612\n",
            "step=340, cro=61.019, acc=0.871\n",
            "step=350, cro=56.32035, acc=0.8522\n",
            "step=360, cro=60.702675, acc=0.8748\n",
            "step=370, cro=58.703735, acc=0.827\n",
            "step=380, cro=56.847717, acc=0.8578\n",
            "step=390, cro=56.10468, acc=0.8772\n",
            "step=400, cro=55.819664, acc=0.8086\n",
            "step=410, cro=55.017445, acc=0.8094\n",
            "step=420, cro=56.528988, acc=0.8582\n",
            "step=430, cro=57.069527, acc=0.8626\n",
            "step=440, cro=50.775917, acc=0.8112\n",
            "step=450, cro=53.247738, acc=0.7836\n",
            "step=460, cro=52.819267, acc=0.7698\n",
            "step=470, cro=52.20148, acc=0.8166\n",
            "step=480, cro=51.642178, acc=0.8814\n",
            "step=490, cro=48.788177, acc=0.8052\n",
            "step=500, cro=53.709194, acc=0.8434\n",
            "step=510, cro=50.98936, acc=0.8158\n",
            "step=520, cro=50.066692, acc=0.8142\n",
            "step=530, cro=52.479755, acc=0.8292\n",
            "step=540, cro=53.85205, acc=0.8312\n",
            "step=550, cro=48.1169, acc=0.8294\n",
            "step=560, cro=48.51446, acc=0.826\n",
            "step=570, cro=50.95203, acc=0.8486\n",
            "step=580, cro=48.846855, acc=0.8742\n",
            "step=590, cro=46.828407, acc=0.819\n",
            "step=600, cro=47.29678, acc=0.8024\n",
            "step=610, cro=51.53762, acc=0.8688\n",
            "step=620, cro=49.29727, acc=0.8932\n",
            "step=630, cro=49.34305, acc=0.8296\n",
            "step=640, cro=51.68503, acc=0.8596\n",
            "step=650, cro=50.45067, acc=0.8702\n",
            "step=660, cro=49.153706, acc=0.8976\n",
            "step=670, cro=50.04635, acc=0.8558\n",
            "step=680, cro=49.26844, acc=0.861\n",
            "step=690, cro=48.46548, acc=0.904\n",
            "step=700, cro=49.66335, acc=0.89\n",
            "step=710, cro=49.09001, acc=0.893\n",
            "step=720, cro=44.001724, acc=0.883\n",
            "step=730, cro=43.10618, acc=0.8586\n",
            "step=740, cro=39.330933, acc=0.8676\n",
            "step=750, cro=43.458797, acc=0.8424\n",
            "step=760, cro=49.77388, acc=0.9112\n",
            "step=770, cro=50.573177, acc=0.8912\n",
            "step=780, cro=46.747223, acc=0.9078\n",
            "step=790, cro=48.28725, acc=0.9094\n",
            "step=800, cro=52.11923, acc=0.9046\n",
            "step=810, cro=45.1127, acc=0.8642\n",
            "step=820, cro=45.96019, acc=0.8722\n",
            "step=830, cro=41.628223, acc=0.903\n",
            "step=840, cro=40.15594, acc=0.8698\n",
            "step=850, cro=45.424694, acc=0.8696\n",
            "step=860, cro=46.80008, acc=0.8858\n",
            "step=870, cro=44.744587, acc=0.891\n",
            "step=880, cro=43.33405, acc=0.8542\n",
            "step=890, cro=42.246407, acc=0.8344\n",
            "step=900, cro=48.980053, acc=0.9154\n",
            "step=910, cro=41.77284, acc=0.9002\n",
            "step=920, cro=41.989254, acc=0.8752\n",
            "step=930, cro=44.843063, acc=0.9084\n",
            "step=940, cro=39.81746, acc=0.868\n",
            "step=950, cro=38.434956, acc=0.8786\n",
            "step=960, cro=38.203392, acc=0.8532\n",
            "step=970, cro=34.394333, acc=0.8414\n",
            "step=980, cro=37.427338, acc=0.844\n",
            "step=990, cro=42.74188, acc=0.9022\n",
            "step=1000, cro=36.131588, acc=0.8702\n",
            "step=1010, cro=39.034107, acc=0.8908\n",
            "step=1020, cro=43.36613, acc=0.9168\n",
            "step=1030, cro=42.004223, acc=0.888\n",
            "step=1040, cro=39.79689, acc=0.9154\n",
            "step=1050, cro=41.921383, acc=0.9134\n",
            "step=1060, cro=42.709805, acc=0.8984\n",
            "step=1070, cro=43.841175, acc=0.9146\n",
            "step=1080, cro=42.441242, acc=0.887\n",
            "step=1090, cro=41.227608, acc=0.8978\n",
            "step=1100, cro=39.75847, acc=0.8666\n",
            "step=1110, cro=40.074306, acc=0.8852\n",
            "step=1120, cro=40.978966, acc=0.9084\n",
            "step=1130, cro=41.33881, acc=0.916\n",
            "step=1140, cro=41.464832, acc=0.9204\n",
            "step=1150, cro=40.876404, acc=0.9196\n",
            "step=1160, cro=43.396538, acc=0.8988\n",
            "step=1170, cro=39.569504, acc=0.921\n",
            "step=1180, cro=38.123413, acc=0.906\n",
            "step=1190, cro=34.448692, acc=0.81\n",
            "step=1200, cro=34.898884, acc=0.807\n",
            "step=1210, cro=41.252598, acc=0.908\n",
            "step=1220, cro=45.019596, acc=0.9258\n",
            "step=1230, cro=41.804222, acc=0.9248\n",
            "step=1240, cro=40.01109, acc=0.9082\n",
            "step=1250, cro=40.11494, acc=0.906\n",
            "step=1260, cro=34.00274, acc=0.8316\n",
            "step=1270, cro=33.815197, acc=0.8572\n",
            "step=1280, cro=41.321533, acc=0.9278\n",
            "step=1290, cro=37.971184, acc=0.924\n",
            "step=1300, cro=39.139877, acc=0.8264\n",
            "step=1310, cro=45.31013, acc=0.932\n",
            "step=1320, cro=42.06356, acc=0.9158\n",
            "step=1330, cro=40.713932, acc=0.908\n",
            "step=1340, cro=35.873222, acc=0.9314\n",
            "step=1350, cro=36.007065, acc=0.9278\n",
            "step=1360, cro=39.46239, acc=0.9248\n",
            "step=1370, cro=41.371933, acc=0.9192\n",
            "step=1380, cro=36.569077, acc=0.8792\n",
            "step=1390, cro=35.476498, acc=0.9284\n",
            "step=1400, cro=37.011612, acc=0.935\n",
            "step=1410, cro=35.82889, acc=0.9272\n",
            "step=1420, cro=36.702198, acc=0.927\n",
            "step=1430, cro=42.443676, acc=0.92\n",
            "step=1440, cro=40.02216, acc=0.894\n",
            "step=1450, cro=38.967056, acc=0.9214\n",
            "step=1460, cro=38.486107, acc=0.9326\n",
            "step=1470, cro=37.221943, acc=0.931\n",
            "step=1480, cro=37.385742, acc=0.903\n",
            "step=1490, cro=37.53686, acc=0.9234\n",
            "step=1500, cro=41.243557, acc=0.9206\n",
            "step=1510, cro=37.793713, acc=0.9144\n",
            "step=1520, cro=36.031677, acc=0.919\n",
            "step=1530, cro=31.133781, acc=0.8566\n",
            "step=1540, cro=34.65925, acc=0.8844\n",
            "step=1550, cro=35.14469, acc=0.9348\n",
            "step=1560, cro=38.25596, acc=0.9146\n",
            "step=1570, cro=41.527073, acc=0.9238\n",
            "step=1580, cro=38.499664, acc=0.9406\n",
            "step=1590, cro=37.522007, acc=0.935\n",
            "step=1600, cro=34.833794, acc=0.94\n",
            "step=1610, cro=39.092503, acc=0.9158\n",
            "step=1620, cro=37.224144, acc=0.9254\n",
            "step=1630, cro=37.613693, acc=0.9396\n",
            "step=1640, cro=33.65591, acc=0.8608\n",
            "step=1650, cro=37.417427, acc=0.9412\n",
            "step=1660, cro=34.412754, acc=0.9354\n",
            "step=1670, cro=38.97091, acc=0.9356\n",
            "step=1680, cro=32.623566, acc=0.9104\n",
            "step=1690, cro=32.16329, acc=0.9416\n",
            "step=1700, cro=38.186474, acc=0.9406\n",
            "step=1710, cro=38.893787, acc=0.9284\n",
            "step=1720, cro=34.984097, acc=0.9192\n",
            "step=1730, cro=31.94167, acc=0.923\n",
            "step=1740, cro=40.007835, acc=0.9268\n",
            "step=1750, cro=36.66205, acc=0.9042\n",
            "step=1760, cro=36.436047, acc=0.906\n",
            "step=1770, cro=38.158928, acc=0.9408\n",
            "step=1780, cro=37.600098, acc=0.9388\n",
            "step=1790, cro=35.62021, acc=0.9266\n",
            "step=1800, cro=37.167957, acc=0.9396\n",
            "step=1810, cro=36.52229, acc=0.9382\n",
            "step=1820, cro=35.68677, acc=0.911\n",
            "step=1830, cro=36.205112, acc=0.9268\n",
            "step=1840, cro=34.002888, acc=0.9298\n",
            "step=1850, cro=37.334484, acc=0.9446\n",
            "step=1860, cro=38.48079, acc=0.9384\n",
            "step=1870, cro=34.286198, acc=0.933\n",
            "step=1880, cro=37.326607, acc=0.9432\n",
            "step=1890, cro=35.940243, acc=0.9414\n",
            "step=1900, cro=32.528233, acc=0.9388\n",
            "step=1910, cro=37.393116, acc=0.921\n",
            "step=1920, cro=33.478714, acc=0.9398\n",
            "step=1930, cro=33.891342, acc=0.9254\n",
            "step=1940, cro=38.51693, acc=0.9348\n",
            "step=1950, cro=38.163845, acc=0.9444\n",
            "step=1960, cro=33.005604, acc=0.9502\n",
            "step=1970, cro=36.310833, acc=0.9516\n",
            "step=1980, cro=30.913738, acc=0.9478\n",
            "step=1990, cro=34.764202, acc=0.9424\n",
            "step=2000, cro=34.48612, acc=0.9374\n",
            "step=2010, cro=35.63783, acc=0.9468\n",
            "step=2020, cro=32.69157, acc=0.9288\n",
            "step=2030, cro=32.654808, acc=0.9176\n",
            "step=2040, cro=30.129728, acc=0.9484\n",
            "step=2050, cro=30.519918, acc=0.9514\n",
            "step=2060, cro=32.582623, acc=0.9356\n",
            "step=2070, cro=33.35404, acc=0.9532\n",
            "step=2080, cro=37.001545, acc=0.9354\n",
            "step=2090, cro=38.559933, acc=0.9482\n",
            "step=2100, cro=30.25189, acc=0.9516\n",
            "step=2110, cro=28.64716, acc=0.9248\n",
            "step=2120, cro=32.124565, acc=0.9446\n",
            "step=2130, cro=31.660973, acc=0.9438\n",
            "step=2140, cro=32.970684, acc=0.9356\n",
            "step=2150, cro=29.158115, acc=0.8882\n",
            "step=2160, cro=33.175873, acc=0.9494\n",
            "step=2170, cro=34.067303, acc=0.9488\n",
            "step=2180, cro=34.3326, acc=0.951\n",
            "step=2190, cro=31.309204, acc=0.9536\n",
            "step=2200, cro=32.87248, acc=0.9366\n",
            "step=2210, cro=33.030136, acc=0.9494\n",
            "step=2220, cro=30.666677, acc=0.9224\n",
            "step=2230, cro=31.510073, acc=0.9426\n",
            "step=2240, cro=30.202108, acc=0.9186\n",
            "step=2250, cro=28.756714, acc=0.9482\n",
            "step=2260, cro=28.699846, acc=0.9548\n",
            "step=2270, cro=30.563362, acc=0.9086\n",
            "step=2280, cro=35.64096, acc=0.9406\n",
            "step=2290, cro=36.966705, acc=0.9452\n",
            "step=2300, cro=30.322433, acc=0.9526\n",
            "step=2310, cro=31.885006, acc=0.9506\n",
            "step=2320, cro=33.46129, acc=0.9428\n",
            "step=2330, cro=31.648073, acc=0.952\n",
            "step=2340, cro=31.415833, acc=0.9364\n",
            "step=2350, cro=35.610474, acc=0.9398\n",
            "step=2360, cro=30.878426, acc=0.9506\n",
            "step=2370, cro=29.3186, acc=0.9402\n",
            "step=2380, cro=29.757963, acc=0.9432\n",
            "step=2390, cro=19.244871, acc=0.9522\n",
            "마지막회수의 정확도 0.9344\n"
          ],
          "name": "stdout"
        }
      ]
    },
    {
      "cell_type": "code",
      "metadata": {
        "id": "fjJ35GqDxVij",
        "colab_type": "code",
        "outputId": "b057c330-0645-4667-c934-a623ed011d48",
        "colab": {
          "base_uri": "https://localhost:8080/",
          "height": 1000
        }
      },
      "source": [
        "with tf.Session() as sess:\n",
        "  sess.run( tf.global_variables_initializer() )\n",
        "  TRAIN_TERM = 100  \n",
        "  train_count = int(X_train.shape[0] / TRAIN_TERM)\n",
        "  STEP_SEGMENT = 2*2*2*2 \n",
        "  for step in range(train_count*STEP_SEGMENT):\n",
        "    offset = int(step*TRAIN_TERM/STEP_SEGMENT)\n",
        "    datas  = X_train[ offset : offset + TRAIN_TERM]\n",
        "    fd = { x:datas , y_:list(y_train[ offset : offset + TRAIN_TERM]) }\n",
        "    sess.run( train, feed_dict=fd )\n",
        "    if step%STEP_SEGMENT == 0:\n",
        "      cross_en = sess.run( cross_entropy, feed_dict=fd )\n",
        "      acc      = sess.run( accuracy, feed_dict={x:X_test, y_:list(y_test)} )\n",
        "      print( 'step=%s, cro=%s, acc=%s' % (step, cross_en, acc) )\n",
        "    pass # end for\n",
        "  acc      = sess.run( accuracy, feed_dict={x:X_test, y_:list(y_test)} )\n",
        "  print( '마지막회수의 정확도', acc )\n",
        "  pass # end with"
      ],
      "execution_count": 0,
      "outputs": [
        {
          "output_type": "stream",
          "text": [
            "step=0, cro=106.28909, acc=0.3788\n",
            "step=16, cro=97.68382, acc=0.4046\n",
            "step=32, cro=94.6158, acc=0.623\n",
            "step=48, cro=91.69449, acc=0.7016\n",
            "step=64, cro=87.549416, acc=0.719\n",
            "step=80, cro=81.48253, acc=0.805\n",
            "step=96, cro=81.0717, acc=0.661\n",
            "step=112, cro=78.853745, acc=0.7536\n",
            "step=128, cro=73.00946, acc=0.7486\n",
            "step=144, cro=75.01828, acc=0.818\n",
            "step=160, cro=68.12229, acc=0.691\n",
            "step=176, cro=62.463814, acc=0.6828\n",
            "step=192, cro=65.49155, acc=0.6866\n",
            "step=208, cro=67.22739, acc=0.7402\n",
            "step=224, cro=64.77496, acc=0.7442\n",
            "step=240, cro=65.125626, acc=0.8458\n",
            "step=256, cro=68.32594, acc=0.862\n",
            "step=272, cro=62.622192, acc=0.7408\n",
            "step=288, cro=53.81114, acc=0.7004\n",
            "step=304, cro=59.383442, acc=0.775\n",
            "step=320, cro=61.36272, acc=0.815\n",
            "step=336, cro=60.890743, acc=0.8784\n",
            "step=352, cro=59.502785, acc=0.8822\n",
            "step=368, cro=60.583725, acc=0.8654\n",
            "step=384, cro=54.07996, acc=0.8678\n",
            "step=400, cro=55.819664, acc=0.8086\n",
            "step=416, cro=57.83302, acc=0.8924\n",
            "step=432, cro=55.281403, acc=0.8532\n",
            "step=448, cro=52.920937, acc=0.7788\n",
            "step=464, cro=51.30915, acc=0.7766\n",
            "step=480, cro=51.642178, acc=0.8814\n",
            "step=496, cro=50.181995, acc=0.8158\n",
            "step=512, cro=49.678387, acc=0.8234\n",
            "step=528, cro=51.510536, acc=0.8276\n",
            "step=544, cro=49.864693, acc=0.81\n",
            "step=560, cro=48.51446, acc=0.826\n",
            "step=576, cro=51.248405, acc=0.8974\n",
            "step=592, cro=46.807274, acc=0.8146\n",
            "step=608, cro=51.70813, acc=0.8578\n",
            "step=624, cro=48.025368, acc=0.8508\n",
            "step=640, cro=51.68503, acc=0.8596\n",
            "step=656, cro=49.100906, acc=0.8696\n",
            "step=672, cro=49.4144, acc=0.8548\n",
            "step=688, cro=47.326115, acc=0.8988\n",
            "step=704, cro=50.41569, acc=0.905\n",
            "step=720, cro=44.001724, acc=0.883\n",
            "step=736, cro=41.4389, acc=0.8886\n",
            "step=752, cro=44.401512, acc=0.8462\n",
            "step=768, cro=52.40029, acc=0.881\n",
            "step=784, cro=46.948162, acc=0.8986\n",
            "step=800, cro=52.11923, acc=0.9046\n",
            "step=816, cro=42.56564, acc=0.8726\n",
            "step=832, cro=42.32799, acc=0.8928\n",
            "step=848, cro=44.975586, acc=0.851\n",
            "step=864, cro=46.18118, acc=0.9068\n",
            "step=880, cro=43.33405, acc=0.8542\n",
            "step=896, cro=48.959984, acc=0.896\n",
            "step=912, cro=39.766975, acc=0.8586\n",
            "step=928, cro=42.84902, acc=0.9156\n",
            "step=944, cro=38.338207, acc=0.8576\n",
            "step=960, cro=38.203392, acc=0.8532\n",
            "step=976, cro=37.883804, acc=0.8562\n",
            "step=992, cro=43.413876, acc=0.9134\n",
            "step=1008, cro=36.155224, acc=0.8728\n",
            "step=1024, cro=41.376476, acc=0.8988\n",
            "step=1040, cro=39.79689, acc=0.9154\n",
            "step=1056, cro=41.090748, acc=0.8998\n",
            "step=1072, cro=41.43325, acc=0.916\n",
            "step=1088, cro=39.82251, acc=0.8944\n",
            "step=1104, cro=43.132515, acc=0.8708\n",
            "step=1120, cro=40.978966, acc=0.9084\n",
            "step=1136, cro=40.795025, acc=0.9238\n",
            "step=1152, cro=40.842773, acc=0.915\n",
            "step=1168, cro=42.524776, acc=0.92\n",
            "step=1184, cro=38.22757, acc=0.8898\n",
            "step=1200, cro=34.898884, acc=0.807\n",
            "step=1216, cro=43.660507, acc=0.9256\n",
            "step=1232, cro=41.745293, acc=0.923\n",
            "step=1248, cro=39.35427, acc=0.9004\n",
            "step=1264, cro=32.632317, acc=0.8394\n",
            "step=1280, cro=41.321533, acc=0.9278\n",
            "step=1296, cro=31.930279, acc=0.826\n",
            "step=1312, cro=47.706867, acc=0.9266\n",
            "step=1328, cro=39.934673, acc=0.9086\n",
            "step=1344, cro=34.39252, acc=0.9296\n",
            "step=1360, cro=39.46239, acc=0.9248\n",
            "step=1376, cro=40.875023, acc=0.9086\n",
            "step=1392, cro=35.714878, acc=0.9212\n",
            "step=1408, cro=38.539833, acc=0.9304\n",
            "step=1424, cro=38.078545, acc=0.9278\n",
            "step=1440, cro=40.02216, acc=0.894\n",
            "step=1456, cro=38.21722, acc=0.9342\n",
            "step=1472, cro=38.7312, acc=0.9322\n",
            "step=1488, cro=39.986614, acc=0.9346\n",
            "step=1504, cro=38.537807, acc=0.9278\n",
            "step=1520, cro=36.031677, acc=0.919\n",
            "step=1536, cro=33.726597, acc=0.872\n",
            "step=1552, cro=34.92503, acc=0.9358\n",
            "step=1568, cro=40.23166, acc=0.9216\n",
            "step=1584, cro=38.892086, acc=0.9412\n",
            "step=1600, cro=34.833794, acc=0.94\n",
            "step=1616, cro=40.45525, acc=0.9154\n",
            "step=1632, cro=36.112118, acc=0.9086\n",
            "step=1648, cro=35.443604, acc=0.9152\n",
            "step=1664, cro=36.946648, acc=0.9428\n",
            "step=1680, cro=32.623566, acc=0.9104\n",
            "step=1696, cro=36.889458, acc=0.94\n",
            "step=1712, cro=38.1421, acc=0.9332\n",
            "step=1728, cro=32.059303, acc=0.9382\n",
            "step=1744, cro=40.175575, acc=0.9246\n",
            "step=1760, cro=36.436047, acc=0.906\n",
            "step=1776, cro=37.348354, acc=0.9356\n",
            "step=1792, cro=35.440086, acc=0.9274\n",
            "step=1808, cro=36.010612, acc=0.9234\n",
            "step=1824, cro=38.854137, acc=0.9066\n",
            "step=1840, cro=34.002888, acc=0.9298\n",
            "step=1856, cro=38.021557, acc=0.9298\n",
            "step=1872, cro=35.09642, acc=0.9406\n",
            "step=1888, cro=36.63945, acc=0.9444\n",
            "step=1904, cro=35.88865, acc=0.9116\n",
            "step=1920, cro=33.478714, acc=0.9398\n",
            "step=1936, cro=37.66327, acc=0.9428\n",
            "step=1952, cro=36.92216, acc=0.9508\n",
            "step=1968, cro=35.38108, acc=0.9488\n",
            "step=1984, cro=30.449642, acc=0.9516\n",
            "step=2000, cro=34.48612, acc=0.9374\n",
            "step=2016, cro=32.62149, acc=0.9416\n",
            "step=2032, cro=32.459877, acc=0.9394\n",
            "step=2048, cro=30.650599, acc=0.9518\n",
            "step=2064, cro=31.462004, acc=0.9454\n",
            "step=2080, cro=37.001545, acc=0.9354\n",
            "step=2096, cro=31.785473, acc=0.943\n",
            "step=2112, cro=30.102686, acc=0.9174\n",
            "step=2128, cro=31.355179, acc=0.936\n",
            "step=2144, cro=30.764353, acc=0.9262\n",
            "step=2160, cro=33.175873, acc=0.9494\n",
            "step=2176, cro=35.75714, acc=0.9542\n",
            "step=2192, cro=31.574093, acc=0.9502\n",
            "step=2208, cro=31.94935, acc=0.9518\n",
            "step=2224, cro=31.160387, acc=0.93\n",
            "step=2240, cro=30.202108, acc=0.9186\n",
            "step=2256, cro=30.237322, acc=0.9522\n",
            "step=2272, cro=31.845833, acc=0.9218\n",
            "step=2288, cro=37.69994, acc=0.9412\n",
            "step=2304, cro=31.010801, acc=0.9458\n",
            "step=2320, cro=33.46129, acc=0.9428\n",
            "step=2336, cro=28.545618, acc=0.9096\n",
            "step=2352, cro=36.397533, acc=0.9294\n",
            "step=2368, cro=28.7714, acc=0.9476\n",
            "step=2384, cro=28.66328, acc=0.9528\n",
            "마지막회수의 정확도 0.9344\n"
          ],
          "name": "stdout"
        }
      ]
    },
    {
      "cell_type": "markdown",
      "metadata": {
        "id": "k-EMZAGzzULN",
        "colab_type": "text"
      },
      "source": [
        "# 텐서보드\n",
        "- 목적\n",
        "  - 텐서보드를 이용하여 그래프를 시각적으로 확인\n",
        "  - 데이터의 플로우(흐름)을 볼 수 있다\n",
        "- 방법\n",
        "  - 로컬pc에서 수행하는 방법\n",
        "  - colab에서 수행하는 방법\n",
        "  - 데이터가 누적되기때문에 클리어후 처리하는게 정확하게 나온다  "
      ]
    },
    {
      "cell_type": "code",
      "metadata": {
        "id": "HRr84zQZx2Hw",
        "colab_type": "code",
        "outputId": "1f590504-b6cd-44f2-85ad-4687c7180bf6",
        "colab": {
          "base_uri": "https://localhost:8080/",
          "height": 1000
        }
      },
      "source": [
        "# 총정리\n",
        "# 1. 텐서 데이터 플로우 구현\n",
        "x = tf.placeholder( tf.float32, [None,2] )\n",
        "W = tf.Variable( tf.zeros([2, 3]) ) \n",
        "b = tf.Variable( tf.zeros([3]) )\n",
        "y = tf.nn.softmax(tf.matmul(x,W) + b)\n",
        "y_ = tf.placeholder( tf.float32, [None, 3] )\n",
        "cross_entropy = -tf.reduce_sum( y_ * tf.log(y) )\n",
        "optimazer = tf.train.GradientDescentOptimizer(0.01)\n",
        "train = optimazer.minimize( cross_entropy )\n",
        "predict = tf.equal( tf.argmax(y,1), tf.argmax(y_, 1) )\n",
        "accuracy = tf.reduce_mean( tf.cast(predict, tf.float32) )\n",
        "\n",
        "\n",
        "# 2. 텐서보드를 위해서 추가된 코드(코랩에서 사용하는 스타일)\n",
        "from tensorboardcolab import *\n",
        "import shutil, os\n",
        "# 디렉토리 및 그 이하 파일가지 삭제, 에러나면 무시\n",
        "shutil.rmtree('./Graph', ignore_errors=True)\n",
        "# 디렉토리 생성\n",
        "os.mkdir('./Graph')\n",
        "# 기존의 tf에 만들어진 요소들을 초기화처리(에러 날수도 있음)\n",
        "# tf.reset_default_graph()\n",
        "# 텐서보드 객체 생성\n",
        "tbc = TensorBoardColab()\n",
        "\n",
        "# 3. 실행을 통한 학습, 예측 처리\n",
        "with tf.Session() as sess:\n",
        "  sess.run( tf.global_variables_initializer() )\n",
        "  TRAIN_TERM = 100  \n",
        "  train_count = int(X_train.shape[0] / TRAIN_TERM)\n",
        "  STEP_SEGMENT = 2*2*2*2 \n",
        "  for step in range(train_count*STEP_SEGMENT):\n",
        "    offset = int(step*TRAIN_TERM/STEP_SEGMENT)\n",
        "    datas  = X_train[ offset : offset + TRAIN_TERM]\n",
        "    fd = { x:datas , y_:list(y_train[ offset : offset + TRAIN_TERM]) }\n",
        "    sess.run( train, feed_dict=fd )\n",
        "    if step%STEP_SEGMENT == 0:\n",
        "      cross_en = sess.run( cross_entropy, feed_dict=fd )\n",
        "      acc      = sess.run( accuracy, feed_dict={x:X_test, y_:list(y_test)} )\n",
        "      #print( 'step=%s, cro=%s, acc=%s' % (step, cross_en, acc) )\n",
        "    pass # end for\n",
        "  acc      = sess.run( accuracy, feed_dict={x:X_test, y_:list(y_test)} )\n",
        "  #print( '정확도', acc )\n",
        "  # 코랩 텐서보드의 물리적위치에 그래프를 기록\n",
        "  writer = tbc.get_writer()\n",
        "  writer.add_graph( sess.graph )  # 그래프 추가\n",
        "  writer.flush() # 강제로 전송\n",
        "\n",
        "  pass # end with\n",
        "\n",
        "# 4. 텐서보드를 닫는다\n",
        "tbc.close()"
      ],
      "execution_count": 0,
      "outputs": [
        {
          "output_type": "stream",
          "text": [
            "Wait for 8 seconds...\n",
            "TensorBoard link:\n",
            "http://7b385084.ngrok.io\n",
            "step=0, cro=106.28909, acc=0.3788\n",
            "step=16, cro=97.68382, acc=0.4046\n",
            "step=32, cro=94.6158, acc=0.623\n",
            "step=48, cro=91.69449, acc=0.7016\n",
            "step=64, cro=87.549416, acc=0.719\n",
            "step=80, cro=81.48253, acc=0.805\n",
            "step=96, cro=81.0717, acc=0.661\n",
            "step=112, cro=78.853745, acc=0.7536\n",
            "step=128, cro=73.00946, acc=0.7486\n",
            "step=144, cro=75.01828, acc=0.818\n",
            "step=160, cro=68.12229, acc=0.691\n",
            "step=176, cro=62.463814, acc=0.6828\n",
            "step=192, cro=65.49155, acc=0.6866\n",
            "step=208, cro=67.22739, acc=0.7402\n",
            "step=224, cro=64.77496, acc=0.7442\n",
            "step=240, cro=65.125626, acc=0.8458\n",
            "step=256, cro=68.32594, acc=0.862\n",
            "step=272, cro=62.622192, acc=0.7408\n",
            "step=288, cro=53.81114, acc=0.7004\n",
            "step=304, cro=59.383442, acc=0.775\n",
            "step=320, cro=61.36272, acc=0.815\n",
            "step=336, cro=60.890743, acc=0.8784\n",
            "step=352, cro=59.502785, acc=0.8822\n",
            "step=368, cro=60.583725, acc=0.8654\n",
            "step=384, cro=54.07996, acc=0.8678\n",
            "step=400, cro=55.819664, acc=0.8086\n",
            "step=416, cro=57.83302, acc=0.8924\n",
            "step=432, cro=55.281403, acc=0.8532\n",
            "step=448, cro=52.920937, acc=0.7788\n",
            "step=464, cro=51.30915, acc=0.7766\n",
            "step=480, cro=51.642178, acc=0.8814\n",
            "step=496, cro=50.181995, acc=0.8158\n",
            "step=512, cro=49.678387, acc=0.8234\n",
            "step=528, cro=51.510536, acc=0.8276\n",
            "step=544, cro=49.864693, acc=0.81\n",
            "step=560, cro=48.51446, acc=0.826\n",
            "step=576, cro=51.248405, acc=0.8974\n",
            "step=592, cro=46.807274, acc=0.8146\n",
            "step=608, cro=51.70813, acc=0.8578\n",
            "step=624, cro=48.025368, acc=0.8508\n",
            "step=640, cro=51.68503, acc=0.8596\n",
            "step=656, cro=49.100906, acc=0.8696\n",
            "step=672, cro=49.4144, acc=0.8548\n",
            "step=688, cro=47.326115, acc=0.8988\n",
            "step=704, cro=50.41569, acc=0.905\n",
            "step=720, cro=44.001724, acc=0.883\n",
            "step=736, cro=41.4389, acc=0.8886\n",
            "step=752, cro=44.401512, acc=0.8462\n",
            "step=768, cro=52.40029, acc=0.881\n",
            "step=784, cro=46.948162, acc=0.8986\n",
            "step=800, cro=52.11923, acc=0.9046\n",
            "step=816, cro=42.56564, acc=0.8726\n",
            "step=832, cro=42.32799, acc=0.8928\n",
            "step=848, cro=44.975586, acc=0.851\n",
            "step=864, cro=46.18118, acc=0.9068\n",
            "step=880, cro=43.33405, acc=0.8542\n",
            "step=896, cro=48.959984, acc=0.896\n",
            "step=912, cro=39.766975, acc=0.8586\n",
            "step=928, cro=42.84902, acc=0.9156\n",
            "step=944, cro=38.338207, acc=0.8576\n",
            "step=960, cro=38.203392, acc=0.8532\n",
            "step=976, cro=37.883804, acc=0.8562\n",
            "step=992, cro=43.413876, acc=0.9134\n",
            "step=1008, cro=36.155224, acc=0.8728\n",
            "step=1024, cro=41.376476, acc=0.8988\n",
            "step=1040, cro=39.79689, acc=0.9154\n",
            "step=1056, cro=41.090748, acc=0.8998\n",
            "step=1072, cro=41.43325, acc=0.916\n",
            "step=1088, cro=39.82251, acc=0.8944\n",
            "step=1104, cro=43.132515, acc=0.8708\n",
            "step=1120, cro=40.978966, acc=0.9084\n",
            "step=1136, cro=40.795025, acc=0.9238\n",
            "step=1152, cro=40.842773, acc=0.915\n",
            "step=1168, cro=42.524776, acc=0.92\n",
            "step=1184, cro=38.22757, acc=0.8898\n",
            "step=1200, cro=34.898884, acc=0.807\n",
            "step=1216, cro=43.660507, acc=0.9256\n",
            "step=1232, cro=41.745293, acc=0.923\n",
            "step=1248, cro=39.35427, acc=0.9004\n",
            "step=1264, cro=32.632317, acc=0.8394\n",
            "step=1280, cro=41.321533, acc=0.9278\n",
            "step=1296, cro=31.930279, acc=0.826\n",
            "step=1312, cro=47.706867, acc=0.9266\n",
            "step=1328, cro=39.934673, acc=0.9086\n",
            "step=1344, cro=34.39252, acc=0.9296\n",
            "step=1360, cro=39.46239, acc=0.9248\n",
            "step=1376, cro=40.875023, acc=0.9086\n",
            "step=1392, cro=35.714878, acc=0.9212\n",
            "step=1408, cro=38.539833, acc=0.9304\n",
            "step=1424, cro=38.078545, acc=0.9278\n",
            "step=1440, cro=40.02216, acc=0.894\n",
            "step=1456, cro=38.21722, acc=0.9342\n",
            "step=1472, cro=38.7312, acc=0.9322\n",
            "step=1488, cro=39.986614, acc=0.9346\n",
            "step=1504, cro=38.537807, acc=0.9278\n",
            "step=1520, cro=36.031677, acc=0.919\n",
            "step=1536, cro=33.726597, acc=0.872\n",
            "step=1552, cro=34.92503, acc=0.9358\n",
            "step=1568, cro=40.23166, acc=0.9216\n",
            "step=1584, cro=38.892086, acc=0.9412\n",
            "step=1600, cro=34.833794, acc=0.94\n",
            "step=1616, cro=40.45525, acc=0.9154\n",
            "step=1632, cro=36.112118, acc=0.9086\n",
            "step=1648, cro=35.443604, acc=0.9152\n",
            "step=1664, cro=36.946648, acc=0.9428\n",
            "step=1680, cro=32.623566, acc=0.9104\n",
            "step=1696, cro=36.889458, acc=0.94\n",
            "step=1712, cro=38.1421, acc=0.9332\n",
            "step=1728, cro=32.059303, acc=0.9382\n",
            "step=1744, cro=40.175575, acc=0.9246\n",
            "step=1760, cro=36.436047, acc=0.906\n",
            "step=1776, cro=37.348354, acc=0.9356\n",
            "step=1792, cro=35.440086, acc=0.9274\n",
            "step=1808, cro=36.010612, acc=0.9234\n",
            "step=1824, cro=38.854137, acc=0.9066\n",
            "step=1840, cro=34.002888, acc=0.9298\n",
            "step=1856, cro=38.021557, acc=0.9298\n",
            "step=1872, cro=35.09642, acc=0.9406\n",
            "step=1888, cro=36.63945, acc=0.9444\n",
            "step=1904, cro=35.88865, acc=0.9116\n",
            "step=1920, cro=33.478714, acc=0.9398\n",
            "step=1936, cro=37.66327, acc=0.9428\n",
            "step=1952, cro=36.92216, acc=0.9508\n",
            "step=1968, cro=35.38108, acc=0.9488\n",
            "step=1984, cro=30.449642, acc=0.9516\n",
            "step=2000, cro=34.48612, acc=0.9374\n",
            "step=2016, cro=32.62149, acc=0.9416\n",
            "step=2032, cro=32.459877, acc=0.9394\n",
            "step=2048, cro=30.650599, acc=0.9518\n",
            "step=2064, cro=31.462004, acc=0.9454\n",
            "step=2080, cro=37.001545, acc=0.9354\n",
            "step=2096, cro=31.785473, acc=0.943\n",
            "step=2112, cro=30.102686, acc=0.9174\n",
            "step=2128, cro=31.355179, acc=0.936\n",
            "step=2144, cro=30.764353, acc=0.9262\n",
            "step=2160, cro=33.175873, acc=0.9494\n",
            "step=2176, cro=35.75714, acc=0.9542\n",
            "step=2192, cro=31.574093, acc=0.9502\n",
            "step=2208, cro=31.94935, acc=0.9518\n",
            "step=2224, cro=31.160387, acc=0.93\n",
            "step=2240, cro=30.202108, acc=0.9186\n",
            "step=2256, cro=30.237322, acc=0.9522\n",
            "step=2272, cro=31.845833, acc=0.9218\n",
            "step=2288, cro=37.69994, acc=0.9412\n",
            "step=2304, cro=31.010801, acc=0.9458\n",
            "step=2320, cro=33.46129, acc=0.9428\n",
            "step=2336, cro=28.545618, acc=0.9096\n",
            "step=2352, cro=36.397533, acc=0.9294\n",
            "step=2368, cro=28.7714, acc=0.9476\n",
            "step=2384, cro=28.66328, acc=0.9528\n",
            "정확도 0.9344\n",
            "WARNING:tensorflow:From /usr/local/lib/python3.6/dist-packages/tensorboardcolab/core.py:49: The name tf.summary.FileWriter is deprecated. Please use tf.compat.v1.summary.FileWriter instead.\n",
            "\n"
          ],
          "name": "stdout"
        }
      ]
    },
    {
      "cell_type": "code",
      "metadata": {
        "id": "PI3jvEJT73zd",
        "colab_type": "code",
        "outputId": "507b2768-e3bb-4c52-cca9-244944d29e6a",
        "colab": {
          "base_uri": "https://localhost:8080/",
          "height": 71
        }
      },
      "source": [
        "# 기존의 tf에 만들어진 요소들을 초기화처리(에러 날수도 있음)\n",
        "tf.reset_default_graph()\n",
        "\n",
        "# 텐서보드에 네임스페이스를 부여하기 위해 조정\n",
        "x  = tf.placeholder( tf.float32, [None,2] )\n",
        "y_ = tf.placeholder( tf.float32, [None, 3] ) # 정답\n",
        "\n",
        "with tf.name_scope('interface') as scope:\n",
        "  W = tf.Variable( tf.zeros([2, 3]) ) \n",
        "  b = tf.Variable( tf.zeros([3]) )\n",
        "  with tf.name_scope('activation') as scope:\n",
        "    y = tf.nn.softmax(tf.matmul(x,W) + b)                      # 간단한 입출력층 구성\n",
        "\n",
        "with tf.name_scope('loss') as scope:\n",
        "  cross_entropy = -tf.reduce_sum( y_ * tf.log(y) )             # 크로스엔트로피\n",
        "\n",
        "with tf.name_scope('training') as scope:  \n",
        "  optimazer = tf.train.GradientDescentOptimizer(0.01)          # 경사하강법\n",
        "  train = optimazer.minimize( cross_entropy )                  # 훈련\n",
        "\n",
        "with tf.name_scope('accuracy') as scope:\n",
        "  predict = tf.equal( tf.argmax(y,1), tf.argmax(y_, 1) )       # 예측\n",
        "  accuracy = tf.reduce_mean( tf.cast(predict, tf.float32) )    # 평가\n",
        "\n",
        "\n",
        "# 텐서보드를 위해서 추가된 코드(코랩에서 사용하는 스타일)\n",
        "from tensorboardcolab import *\n",
        "import shutil, os\n",
        "# 디렉토리 및 그 이하 파일가지 삭제, 에러나면 무시\n",
        "shutil.rmtree('./Graph', ignore_errors=True)\n",
        "# 디렉토리 생성\n",
        "os.mkdir('./Graph')\n",
        "# 텐서보드 객체 생성\n",
        "tbc = TensorBoardColab()\n",
        "\n",
        "# 실행을 통한 학습, 예측 처리\n",
        "with tf.Session() as sess:\n",
        "  sess.run( tf.global_variables_initializer() )\n",
        "  TRAIN_TERM = 100  \n",
        "  train_count = int(X_train.shape[0] / TRAIN_TERM)\n",
        "  STEP_SEGMENT = 2*2*2*2 \n",
        "  for step in range(train_count*STEP_SEGMENT):\n",
        "    offset = int(step*TRAIN_TERM/STEP_SEGMENT)\n",
        "    datas  = X_train[ offset : offset + TRAIN_TERM]\n",
        "    fd = { x:datas , y_:list(y_train[ offset : offset + TRAIN_TERM]) }\n",
        "    sess.run( train, feed_dict=fd )\n",
        "    if step%STEP_SEGMENT == 0:\n",
        "      cross_en = sess.run( cross_entropy, feed_dict=fd )\n",
        "      acc      = sess.run( accuracy, feed_dict={x:X_test, y_:list(y_test)} )\n",
        "      #print( 'step=%s, cro=%s, acc=%s' % (step, cross_en, acc) )\n",
        "    pass # end for\n",
        "  acc      = sess.run( accuracy, feed_dict={x:X_test, y_:list(y_test)} )\n",
        "  #print( '정확도', acc )\n",
        "  # 코랩 텐서보드의 물리적위치에 그래프를 기록\n",
        "  writer = tbc.get_writer()\n",
        "  writer.add_graph( sess.graph )  # 그래프 추가\n",
        "  writer.flush() # 강제로 전송\n",
        "\n",
        "  pass # end with\n",
        "\n",
        "# 텐서보드를 닫는다\n",
        "tbc.close()"
      ],
      "execution_count": 0,
      "outputs": [
        {
          "output_type": "stream",
          "text": [
            "Wait for 8 seconds...\n",
            "TensorBoard link:\n",
            "https://7b385084.ngrok.io\n"
          ],
          "name": "stdout"
        }
      ]
    },
    {
      "cell_type": "markdown",
      "metadata": {
        "id": "F28ru04KsG9e",
        "colab_type": "text"
      },
      "source": [
        "# 시스템 통합\n",
        "- 산출물 없다 : skip"
      ]
    },
    {
      "cell_type": "markdown",
      "metadata": {
        "id": "PeeDycDjsHA2",
        "colab_type": "text"
      },
      "source": [
        ""
      ]
    },
    {
      "cell_type": "code",
      "metadata": {
        "id": "xITdyQ6qqnnu",
        "colab_type": "code",
        "colab": {}
      },
      "source": [
        ""
      ],
      "execution_count": 0,
      "outputs": []
    }
  ]
}