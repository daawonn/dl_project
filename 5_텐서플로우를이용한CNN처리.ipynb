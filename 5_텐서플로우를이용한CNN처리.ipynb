{
  "nbformat": 4,
  "nbformat_minor": 0,
  "metadata": {
    "colab": {
      "name": "5.텐서플로우를이용한CNN처리.ipynb",
      "provenance": [],
      "toc_visible": true,
      "authorship_tag": "ABX9TyOYGxwK0ckPFOcv5An1CzuN",
      "include_colab_link": true
    },
    "kernelspec": {
      "name": "python3",
      "display_name": "Python 3"
    }
  },
  "cells": [
    {
      "cell_type": "markdown",
      "metadata": {
        "id": "view-in-github",
        "colab_type": "text"
      },
      "source": [
        "<a href=\"https://colab.research.google.com/github/daawonn/dl_project/blob/master/5_%ED%85%90%EC%84%9C%ED%94%8C%EB%A1%9C%EC%9A%B0%EB%A5%BC%EC%9D%B4%EC%9A%A9%ED%95%9CCNN%EC%B2%98%EB%A6%AC.ipynb\" target=\"_parent\"><img src=\"https://colab.research.google.com/assets/colab-badge.svg\" alt=\"Open In Colab\"/></a>"
      ]
    },
    {
      "cell_type": "markdown",
      "metadata": {
        "id": "wvhZG54ZzLn4",
        "colab_type": "text"
      },
      "source": [
        "# 1. 연구목표\n",
        "\n",
        "- MNIST 손글씨 이미지 데이터를 사용\n",
        "- 손글씨 이미지를 분류 0 ~ 9\n",
        "- 알고리즘\n",
        "  - 딥러닝의 CNN을 이용하여서 손글씨를 예측하는 모델을 구축\n",
        "  - 예측 모델, 정확도를 평가, 관찰\n",
        "- 딥러닝 엔진 중 텐서플로우를 이용하여 구현한다\n"
      ]
    },
    {
      "cell_type": "markdown",
      "metadata": {
        "id": "ibSMyUE0zLzA",
        "colab_type": "text"
      },
      "source": [
        "# 2. 데이터 확보/수집"
      ]
    },
    {
      "cell_type": "code",
      "metadata": {
        "id": "HFjDe4lW2Pfi",
        "colab_type": "code",
        "colab": {
          "base_uri": "https://localhost:8080/",
          "height": 64
        },
        "outputId": "734a2620-1020-4dd8-89a0-442972fdef0a"
      },
      "source": [
        "import tensorflow as tf\n",
        "%tensorflow_version 1.x"
      ],
      "execution_count": 1,
      "outputs": [
        {
          "output_type": "display_data",
          "data": {
            "text/html": [
              "<p style=\"color: red;\">\n",
              "The default version of TensorFlow in Colab will soon switch to TensorFlow 2.x.<br>\n",
              "We recommend you <a href=\"https://www.tensorflow.org/guide/migrate\" target=\"_blank\">upgrade</a> now \n",
              "or ensure your notebook will continue to use TensorFlow 1.x via the <code>%tensorflow_version 1.x</code> magic:\n",
              "<a href=\"https://colab.research.google.com/notebooks/tensorflow_version.ipynb\" target=\"_blank\">more info</a>.</p>\n"
            ],
            "text/plain": [
              "<IPython.core.display.HTML object>"
            ]
          },
          "metadata": {
            "tags": []
          }
        }
      ]
    },
    {
      "cell_type": "code",
      "metadata": {
        "id": "_E56Z09g2ZwZ",
        "colab_type": "code",
        "colab": {
          "base_uri": "https://localhost:8080/",
          "height": 53
        },
        "outputId": "74672782-0d94-436a-f928-469de71bcdae"
      },
      "source": [
        "mnist = tf.keras.datasets.mnist.load_data(path='mnist.npz')"
      ],
      "execution_count": 2,
      "outputs": [
        {
          "output_type": "stream",
          "text": [
            "Downloading data from https://storage.googleapis.com/tensorflow/tf-keras-datasets/mnist.npz\n",
            "11493376/11490434 [==============================] - 0s 0us/step\n"
          ],
          "name": "stdout"
        }
      ]
    },
    {
      "cell_type": "code",
      "metadata": {
        "id": "ZJVSjOUU2Z1C",
        "colab_type": "code",
        "outputId": "d9475c6b-ea46-40ee-e594-f90a83aa2530",
        "colab": {
          "base_uri": "https://localhost:8080/",
          "height": 107
        }
      },
      "source": [
        "type(mnist), len(mnist[0][0]), mnist[0][1], len(mnist[1][0]), mnist[1][1]\n",
        "# 훈련용 데이터 : mnist[0][0]\n",
        "# 훈련용 레이블 : mnist[0][1]\n",
        "# 테스트용 데이터 : mnist[1][0]\n",
        "# 테스트용 레이블 : mnist[1][1]\n",
        "# 레이블 데이터는 벡터화처리가 되지 않았고 분류형으로 0~9까지 배치되어있다"
      ],
      "execution_count": 3,
      "outputs": [
        {
          "output_type": "execute_result",
          "data": {
            "text/plain": [
              "(tuple,\n",
              " 60000,\n",
              " array([5, 0, 4, ..., 5, 6, 8], dtype=uint8),\n",
              " 10000,\n",
              " array([7, 2, 1, ..., 4, 5, 6], dtype=uint8))"
            ]
          },
          "metadata": {
            "tags": []
          },
          "execution_count": 3
        }
      ]
    },
    {
      "cell_type": "code",
      "metadata": {
        "id": "MwPGseTA2Z3p",
        "colab_type": "code",
        "outputId": "6d49b814-e25f-4235-9d29-ec2a45b9436b",
        "colab": {
          "base_uri": "https://localhost:8080/",
          "height": 559
        }
      },
      "source": [
        "# 레이블이 이미 벡터화된 채로 제공하는 tf의 데이터셋을 활용\n",
        "# 단 1.x에서만 사용가능\n",
        "from tensorflow.examples.tutorials.mnist import input_data\n",
        "mnist = input_data.read_data_sets('./data/mnist/', one_hot=True)"
      ],
      "execution_count": 4,
      "outputs": [
        {
          "output_type": "stream",
          "text": [
            "WARNING:tensorflow:From <ipython-input-4-cdafdb58513a>:2: read_data_sets (from tensorflow.contrib.learn.python.learn.datasets.mnist) is deprecated and will be removed in a future version.\n",
            "Instructions for updating:\n",
            "Please use alternatives such as official/mnist/dataset.py from tensorflow/models.\n",
            "WARNING:tensorflow:From /usr/local/lib/python3.6/dist-packages/tensorflow_core/contrib/learn/python/learn/datasets/mnist.py:260: maybe_download (from tensorflow.contrib.learn.python.learn.datasets.base) is deprecated and will be removed in a future version.\n",
            "Instructions for updating:\n",
            "Please write your own downloading logic.\n",
            "WARNING:tensorflow:From /usr/local/lib/python3.6/dist-packages/tensorflow_core/contrib/learn/python/learn/datasets/base.py:252: _internal_retry.<locals>.wrap.<locals>.wrapped_fn (from tensorflow.contrib.learn.python.learn.datasets.base) is deprecated and will be removed in a future version.\n",
            "Instructions for updating:\n",
            "Please use urllib or similar directly.\n",
            "Successfully downloaded train-images-idx3-ubyte.gz 9912422 bytes.\n",
            "WARNING:tensorflow:From /usr/local/lib/python3.6/dist-packages/tensorflow_core/contrib/learn/python/learn/datasets/mnist.py:262: extract_images (from tensorflow.contrib.learn.python.learn.datasets.mnist) is deprecated and will be removed in a future version.\n",
            "Instructions for updating:\n",
            "Please use tf.data to implement this functionality.\n",
            "Extracting ./data/mnist/train-images-idx3-ubyte.gz\n",
            "Successfully downloaded train-labels-idx1-ubyte.gz 28881 bytes.\n",
            "WARNING:tensorflow:From /usr/local/lib/python3.6/dist-packages/tensorflow_core/contrib/learn/python/learn/datasets/mnist.py:267: extract_labels (from tensorflow.contrib.learn.python.learn.datasets.mnist) is deprecated and will be removed in a future version.\n",
            "Instructions for updating:\n",
            "Please use tf.data to implement this functionality.\n",
            "Extracting ./data/mnist/train-labels-idx1-ubyte.gz\n",
            "WARNING:tensorflow:From /usr/local/lib/python3.6/dist-packages/tensorflow_core/contrib/learn/python/learn/datasets/mnist.py:110: dense_to_one_hot (from tensorflow.contrib.learn.python.learn.datasets.mnist) is deprecated and will be removed in a future version.\n",
            "Instructions for updating:\n",
            "Please use tf.one_hot on tensors.\n",
            "Successfully downloaded t10k-images-idx3-ubyte.gz 1648877 bytes.\n",
            "Extracting ./data/mnist/t10k-images-idx3-ubyte.gz\n",
            "Successfully downloaded t10k-labels-idx1-ubyte.gz 4542 bytes.\n",
            "Extracting ./data/mnist/t10k-labels-idx1-ubyte.gz\n",
            "WARNING:tensorflow:From /usr/local/lib/python3.6/dist-packages/tensorflow_core/contrib/learn/python/learn/datasets/mnist.py:290: DataSet.__init__ (from tensorflow.contrib.learn.python.learn.datasets.mnist) is deprecated and will be removed in a future version.\n",
            "Instructions for updating:\n",
            "Please use alternatives such as official/mnist/dataset.py from tensorflow/models.\n"
          ],
          "name": "stdout"
        }
      ]
    },
    {
      "cell_type": "code",
      "metadata": {
        "id": "LXGB7uSx3nDr",
        "colab_type": "code",
        "outputId": "2a80eb70-444e-4c23-b922-a408d5a097b6",
        "colab": {
          "base_uri": "https://localhost:8080/",
          "height": 35
        }
      },
      "source": [
        "type(mnist)"
      ],
      "execution_count": 5,
      "outputs": [
        {
          "output_type": "execute_result",
          "data": {
            "text/plain": [
              "tensorflow.contrib.learn.python.learn.datasets.base.Datasets"
            ]
          },
          "metadata": {
            "tags": []
          },
          "execution_count": 5
        }
      ]
    },
    {
      "cell_type": "code",
      "metadata": {
        "id": "qJqdGr-R3nJZ",
        "colab_type": "code",
        "outputId": "f86a670a-a9a5-45cd-c164-ccba363d43ef",
        "colab": {
          "base_uri": "https://localhost:8080/",
          "height": 35
        }
      },
      "source": [
        "mnist.train.images.shape, mnist.train.labels.shape, mnist.test.images.shape"
      ],
      "execution_count": 6,
      "outputs": [
        {
          "output_type": "execute_result",
          "data": {
            "text/plain": [
              "((55000, 784), (55000, 10), (10000, 784))"
            ]
          },
          "metadata": {
            "tags": []
          },
          "execution_count": 6
        }
      ]
    },
    {
      "cell_type": "code",
      "metadata": {
        "id": "wLTY3j122Z6J",
        "colab_type": "code",
        "outputId": "65d37e15-5589-44e1-c5f2-557af10d8ea7",
        "colab": {
          "base_uri": "https://localhost:8080/",
          "height": 53
        }
      },
      "source": [
        "# 이미지 데이터가 28x28 픽셀로 처리되었고 레이블은 0 ~ 9 를 벡터화 처리가 되어있음을 알 수 있다.\n",
        "mnist.train.labels[:2]"
      ],
      "execution_count": 7,
      "outputs": [
        {
          "output_type": "execute_result",
          "data": {
            "text/plain": [
              "array([[0., 0., 0., 0., 0., 0., 0., 1., 0., 0.],\n",
              "       [0., 0., 0., 1., 0., 0., 0., 0., 0., 0.]])"
            ]
          },
          "metadata": {
            "tags": []
          },
          "execution_count": 7
        }
      ]
    },
    {
      "cell_type": "code",
      "metadata": {
        "id": "l0wVtpq5Lv8d",
        "colab_type": "code",
        "outputId": "da6d2955-9020-4558-e23a-f0c2b05b7623",
        "colab": {
          "base_uri": "https://localhost:8080/",
          "height": 143
        }
      },
      "source": [
        "# 이미지 데이터는 float이다\n",
        "mnist.train.images"
      ],
      "execution_count": 8,
      "outputs": [
        {
          "output_type": "execute_result",
          "data": {
            "text/plain": [
              "array([[0., 0., 0., ..., 0., 0., 0.],\n",
              "       [0., 0., 0., ..., 0., 0., 0.],\n",
              "       [0., 0., 0., ..., 0., 0., 0.],\n",
              "       ...,\n",
              "       [0., 0., 0., ..., 0., 0., 0.],\n",
              "       [0., 0., 0., ..., 0., 0., 0.],\n",
              "       [0., 0., 0., ..., 0., 0., 0.]], dtype=float32)"
            ]
          },
          "metadata": {
            "tags": []
          },
          "execution_count": 8
        }
      ]
    },
    {
      "cell_type": "markdown",
      "metadata": {
        "id": "OM1K2yeFzL2I",
        "colab_type": "text"
      },
      "source": [
        "# 3. 데이터준비"
      ]
    },
    {
      "cell_type": "code",
      "metadata": {
        "id": "0sAAqnHZ5IZM",
        "colab_type": "code",
        "outputId": "b45ad078-585c-4c0e-8636-158e4f7eb78e",
        "colab": {
          "base_uri": "https://localhost:8080/",
          "height": 35
        }
      },
      "source": [
        "# 벡터화된 레이블을 보고 원래값 0 ~ 9 를 찾아내는 방법 확인\n",
        "# 힌트 : 배열 10칸 중에서 1이 존재하는 인덱스값 => 실제 숫자 값 (0 ~ 9)\n",
        "import numpy as np\n",
        "np.where(mnist.train.labels[:1][0])[0][0]"
      ],
      "execution_count": 9,
      "outputs": [
        {
          "output_type": "execute_result",
          "data": {
            "text/plain": [
              "7"
            ]
          },
          "metadata": {
            "tags": []
          },
          "execution_count": 9
        }
      ]
    },
    {
      "cell_type": "code",
      "metadata": {
        "id": "eSUxloNa5IcL",
        "colab_type": "code",
        "outputId": "aa363ba4-f383-40cc-e300-7cb11324a13a",
        "colab": {
          "base_uri": "https://localhost:8080/",
          "height": 35
        }
      },
      "source": [
        "# 이미지 1개당 피쳐의 크기\n",
        "pixels = mnist.train.images.shape[1]\n",
        "pixels"
      ],
      "execution_count": 10,
      "outputs": [
        {
          "output_type": "execute_result",
          "data": {
            "text/plain": [
              "784"
            ]
          },
          "metadata": {
            "tags": []
          },
          "execution_count": 10
        }
      ]
    },
    {
      "cell_type": "code",
      "metadata": {
        "id": "22rXwp4i5Ie5",
        "colab_type": "code",
        "outputId": "ed141c1f-29cf-4ada-d3fb-4e5ae5aeee23",
        "colab": {
          "base_uri": "https://localhost:8080/",
          "height": 35
        }
      },
      "source": [
        "# 레이블 1개당 피쳐의 크기\n",
        "nums = mnist.train.labels.shape[1]\n",
        "nums"
      ],
      "execution_count": 11,
      "outputs": [
        {
          "output_type": "execute_result",
          "data": {
            "text/plain": [
              "10"
            ]
          },
          "metadata": {
            "tags": []
          },
          "execution_count": 11
        }
      ]
    },
    {
      "cell_type": "code",
      "metadata": {
        "id": "KiB_VZ0f5Ihj",
        "colab_type": "code",
        "outputId": "9b5a0cef-32fe-4ff9-ee29-ba351ada1631",
        "colab": {
          "base_uri": "https://localhost:8080/",
          "height": 35
        }
      },
      "source": [
        "# 이미지 가로크기 혹은 세로크기(정사각형이므로 동일)\n",
        "pixel_wh_size = int(np.sqrt(pixels))\n",
        "pixel_wh_size"
      ],
      "execution_count": 12,
      "outputs": [
        {
          "output_type": "execute_result",
          "data": {
            "text/plain": [
              "28"
            ]
          },
          "metadata": {
            "tags": []
          },
          "execution_count": 12
        }
      ]
    },
    {
      "cell_type": "markdown",
      "metadata": {
        "id": "3o57uaY1zL5D",
        "colab_type": "text"
      },
      "source": [
        "# 4. 데이터분석(생략)"
      ]
    },
    {
      "cell_type": "markdown",
      "metadata": {
        "id": "GeaKJbMKzUWZ",
        "colab_type": "text"
      },
      "source": [
        "# 5. 모델 구축/모델링\n",
        "\n",
        "## 5-1. 데이터 플로우 그래프 구축\n",
        "- 상수, 변수, 플레이스홀더, 연산등의 요소를 레이어로 구축하면서 정의(Define)\n",
        "- Layer 구축 및 연결(원칙: 앞단계의 출력이 뒷단계의 입력이다)\n",
        "  - 입력층\n",
        "  - 합성곱층 1\n",
        "  - 풀링층 1\n",
        "  - 합성곱층 2\n",
        "  - 풀링층 2\n",
        "  - 전결합층\n",
        "  - 드롭아웃층\n",
        "  - 출력층\n",
        "\n",
        "\n",
        "## 5-2. 실행\n",
        "- 데이터를 준비(betch사이즈...) -> 학습 -> 예측 -> 평가(출력)"
      ]
    },
    {
      "cell_type": "markdown",
      "metadata": {
        "id": "1kF0kD840xOe",
        "colab_type": "text"
      },
      "source": [
        "## 5-1. 데이터 플로우 그래프 구축"
      ]
    },
    {
      "cell_type": "markdown",
      "metadata": {
        "id": "KHi4PSETJ2r1",
        "colab_type": "text"
      },
      "source": [
        "### 입력층"
      ]
    },
    {
      "cell_type": "code",
      "metadata": {
        "id": "8kVX2v3bKjED",
        "colab_type": "code",
        "colab": {}
      },
      "source": [
        "# x\n",
        "# 손글씨 이미지 데이터 들어오는 플레이스홀더 (외부에서 학습시 데이터가 주입된다)\n",
        "# 이미지 1개를 표현 하는데 데이터가 784개의 피쳐가 필요\n",
        "# 이런 이미지가 여러개 주입될 수 있다 => n개\n",
        "# shape : (None , 784)\n",
        "x = tf.placeholder( tf.float32, shape=(None, pixels), name= 'x') # 앞서 [None,2]랑 다른 형태 shape=(,)"
      ],
      "execution_count": 0,
      "outputs": []
    },
    {
      "cell_type": "markdown",
      "metadata": {
        "id": "-sDeyG8QJ6H7",
        "colab_type": "text"
      },
      "source": [
        "### 합성곱층1\n",
        "\n",
        "### W\n",
        "- 가중치를 파라미터로 가지는 필터\n",
        "- 행렬, 외부에서 주입(x), 내부적인 함수를 활용해서 한다 -> 텐서의 타입 중 Variable사용\n",
        "- 두개의 합성곱층에서 w 가 각각 필요하다 => 2군데 이상 코드에서 w가 필요하다 => w를 만드는 함수를 생성하자.\n"
      ]
    },
    {
      "cell_type": "code",
      "metadata": {
        "id": "hyLkcNkONpwe",
        "colab_type": "code",
        "colab": {}
      },
      "source": [
        "# 가중치를 초기화 하고 W를 생성해서 리턴하는 함수 생성\n",
        "# shape : 가중치를 공용파라미터로 가지는 필터(커널)의 형태\n",
        "# 커널의 크기가 유동적일 수 있기 때문\n",
        "# name  : 각 구성원들의 이름을 구분하기 위해서 자동생성하지 않고 직접부여\n",
        "def make_Weight_Variable(shape,name):\n",
        "  # 변수의 초기값 -> 절단정규분포를 통한 난수를 발생하는 함수를 활용(설정) \n",
        "  # shape이 크기에 맞춰서 배열을 만들고 함수가 계산해서 난수를 배치\n",
        "  # stddev : 표준편차\n",
        "  # shape 크기대로 난수가 배치되었다 (커널 크기만큼 행렬이 만들어지고 난수가 설정되었다)\n",
        "  W_initValue = tf.truncated_normal( shape, stddev=0.1 )\n",
        "  # 변수 생성\n",
        "  W = tf.Variable( W_initValue, name='W_' + name )\n",
        "  return W"
      ],
      "execution_count": 0,
      "outputs": []
    },
    {
      "cell_type": "code",
      "metadata": {
        "id": "_Mu1lruHQ-2f",
        "colab_type": "code",
        "colab": {}
      },
      "source": [
        "# 편향(Bias) B도 초기화 함수 생성\n",
        "# 변수로 정의하고 고정값(임계치)으로 0.1을 임시부여\n",
        "def make_Bias_Variable( shape, name ):\n",
        "  b_initValue = tf.constant( 0.1, shape=[shape] )\n",
        "  # 변수생성\n",
        "  b = tf.Variable( b_initValue, name='B_' + name )\n",
        "  return b"
      ],
      "execution_count": 0,
      "outputs": []
    },
    {
      "cell_type": "code",
      "metadata": {
        "id": "y_6yqhjzSlPd",
        "colab_type": "code",
        "outputId": "e97f90d4-4f7c-4425-8691-ea0745643a7f",
        "colab": {
          "base_uri": "https://localhost:8080/",
          "height": 55
        }
      },
      "source": [
        "# 합성곱 계층을 만드는 함수\n",
        "def make_Conv2d( x,W ):\n",
        "  conv2d = tf.nn.conv2d(x, W, strides=[1,1,1,1],padding='SAME') # padding=VALID\n",
        "  return conv2d\n",
        "\"\"\"\n",
        " tf.nn.conv2d(\n",
        "    input = x -> [ batch(1회 훈련하고자 할때 이미지의 총 개수), in_height(세로크기), in_width(가로크기), in_channels(칼라에따라 다름 1 or 3) ]\n",
        "    filters : 커널(=필터), 필터의 공용파라미터:필터를 구성하는 구성원의 값 W\n",
        "              [filter_height, filter_width : 필터의 세로, 가로 크기 => 내 마음대로 정함\n",
        "               in_channels  : 입력 채널 수 -> 1 \n",
        "               out_channels : 출력 채널 수 -> 본인이 설정(1or3의 개념이 아닌 이미지를 집어 넣었을때 출력되는 이미지의 개수를 의미) ]\n",
        "    strides : 정수값, 정수값의 리스트로만 구성 lenth : 1, 2나 4\n",
        "              [ batch, w, h, depth ]\n",
        "              통상적으로 batch, depth => 1을 사용\n",
        "              w와 h 는 일반적으로 같은 값 부여\n",
        "              [ 1, 1, 1, 1 ] => batch, w, h, depth\n",
        "    padding : 특정맵을 보정한다. 자르다보면 외곽선 부분에서 개수가 부족하게 나올수도 있다\n",
        "              이를 통상 0 으로 테두리를 치면 보정\n",
        "              SAME 이라는 값을 적용\n",
        "    data_format='NHWC',\n",
        "    dilations=None,\n",
        "    name=None\n",
        ")\n",
        "\"\"\""
      ],
      "execution_count": 16,
      "outputs": [
        {
          "output_type": "execute_result",
          "data": {
            "text/plain": [
              "\"\\n tf.nn.conv2d(\\n    input = x -> [ batch(1회 훈련하고자 할때 이미지의 총 개수), in_height(세로크기), in_width(가로크기), in_channels(칼라에따라 다름 1 or 3) ]\\n    filters : 커널(=필터), 필터의 공용파라미터:필터를 구성하는 구성원의 값 W\\n              [filter_height, filter_width : 필터의 세로, 가로 크기 => 내 마음대로 정함\\n               in_channels  : 입력 채널 수 -> 1 \\n               out_channels : 출력 채널 수 -> 본인이 설정(1or3의 개념이 아닌 이미지를 집어 넣었을때 출력되는 이미지의 개수를 의미) ]\\n    strides : 정수값, 정수값의 리스트로만 구성 lenth : 1, 2나 4\\n              [ batch, w, h, depth ]\\n              통상적으로 batch, depth => 1을 사용\\n              w와 h 는 일반적으로 같은 값 부여\\n              [ 1, 1, 1, 1 ] => batch, w, h, depth\\n    padding : 특정맵을 보정한다. 자르다보면 외곽선 부분에서 개수가 부족하게 나올수도 있다\\n              이를 통상 0 으로 테두리를 치면 보정\\n              SAME 이라는 값을 적용\\n    data_format='NHWC',\\n    dilations=None,\\n    name=None\\n)\\n\""
            ]
          },
          "metadata": {
            "tags": []
          },
          "execution_count": 16
        }
      ]
    },
    {
      "cell_type": "code",
      "metadata": {
        "id": "iXjVePF3YHUm",
        "colab_type": "code",
        "colab": {}
      },
      "source": [
        "# 합성곱층 1 생성 : 텐서보드상에 작업공간 잡기\n",
        "with tf.name_scope('conv1') as scope:\n",
        "  # W\n",
        "  # shape = [필터세로크기, 필터가로크기, 입력채널수, 출력채널수]\n",
        "  # 설정값 : 5, 5, 1, 32  => 5x5 필터를 원본이미지에서 스트라이드해서 나온 피쳐맵이 총 32개가 된다.\n",
        "  W_conv1 = make_Weight_Variable( [ 5, 5, 1, 32 ], name='conv1' )\n",
        "\n",
        "  # b\n",
        "  # 가중치의 출력채널과 같은값\n",
        "  b_conv1 = make_Bias_Variable( 32, 'conv1' ) \n",
        "\n",
        "  # x => [ batch, height, weight, channels ]\n",
        "  # x => [None, 784] => [ batch, height, weight, channels ]\n",
        "  # pixel_wh_size => 28 세로,가로 둘 다\n",
        "  x_image = tf.reshape( x, [ -1 , pixel_wh_size, pixel_wh_size, 1] ) # batch사이즈 모를땐 -1\n",
        "\n",
        "  # 컨볼루전 레이어 생성\n",
        "  # 활성화 함수를 통과시켜서 레이어의 출력물(특성맵)을 비선형으로 보정처리한다\n",
        "  # 이렇게 되면 특성맵이 활성화맵으로 되었다라고 표현할 수 있다\n",
        "  h_conv1 = tf.nn.relu( make_Conv2d( x_image, W_conv1) + b_conv1 )\n",
        "  # h_conv1은 합성곱층1의 출력물, 활성화맵, 다른 풀링층1의 입력데이터가 된다"
      ],
      "execution_count": 0,
      "outputs": []
    },
    {
      "cell_type": "code",
      "metadata": {
        "id": "e9ZC25-MmX-X",
        "colab_type": "code",
        "outputId": "d162c3b9-f8a7-4cae-f970-67e93c71a23e",
        "colab": {
          "base_uri": "https://localhost:8080/",
          "height": 35
        }
      },
      "source": [
        "h_conv1.shape\n",
        "# 합성곱층을 통과했을때 특성맵의 크기는 원본과 같을수도 다를수도있다\n",
        "# 크기를 결정하는 요인으로 -> stride, padding\n",
        "# 합성곱의 핵심을 원본이미지의 특성을 추출한 이미지가 출력채널수만큼 생성된다는 점\n",
        "# padding"
      ],
      "execution_count": 18,
      "outputs": [
        {
          "output_type": "execute_result",
          "data": {
            "text/plain": [
              "TensorShape([Dimension(None), Dimension(28), Dimension(28), Dimension(32)])"
            ]
          },
          "metadata": {
            "tags": []
          },
          "execution_count": 18
        }
      ]
    },
    {
      "cell_type": "code",
      "metadata": {
        "id": "R8vKHo41vA43",
        "colab_type": "code",
        "outputId": "6c9ca380-7721-4c68-cd78-cf7b77303958",
        "colab": {
          "base_uri": "https://localhost:8080/",
          "height": 35
        }
      },
      "source": [
        "h_conv1"
      ],
      "execution_count": 19,
      "outputs": [
        {
          "output_type": "execute_result",
          "data": {
            "text/plain": [
              "<tf.Tensor 'conv1/Relu:0' shape=(?, 28, 28, 32) dtype=float32>"
            ]
          },
          "metadata": {
            "tags": []
          },
          "execution_count": 19
        }
      ]
    },
    {
      "cell_type": "markdown",
      "metadata": {
        "id": "k5WSzh5WJ-Ci",
        "colab_type": "text"
      },
      "source": [
        "### 풀링층1\n",
        "\n",
        "- 특성맵(or 활성화맵)의 특성을 강화\n",
        "- 최대풀링, 평균풀링, 최소풀링 등등 여러개 값 중 하나를 선택해서 행렬을 새로 구성(축소)\n",
        "- 샘플링한다고 표현\n",
        "- 크기에 관여 => 얼만큼 이동시키면서 처리할것인가? => stride, 커널에는 파라미터가 없고 (최대,최소,평균)등을 의미\n",
        "- 입력 : 이전 계층 합성곱층1의 결과물 => h_conv1"
      ]
    },
    {
      "cell_type": "code",
      "metadata": {
        "id": "7w1_R9oyp3df",
        "colab_type": "code",
        "outputId": "f5d215be-a96f-4861-9519-583f26ffafb8",
        "colab": {
          "base_uri": "https://localhost:8080/",
          "height": 55
        }
      },
      "source": [
        "def make_Max_Pooling( x ):\n",
        "  return tf.nn.max_pool( x,ksize=[ 1,2,2,1 ],strides=[ 1,2,2,1 ],padding='SAME') \n",
        "'''\n",
        "  tn.nn.maxpool(\n",
        "    value   : 이전계층의 출력값, [ batch, h , w , channels ]\n",
        "    ksize   : 최대값풀링을 수행하기 위한 슬라이딩윈도우(=커널)의 크기\n",
        "              [ ,h,w, ]\n",
        "    strides : ksize의 이동 폭, 몇 칸씩 이동 할 것인가?\n",
        "              [ batch, w, h, depth ]\n",
        "    padding : 보정, 크기가 맞지 않을때 사용 SAME,...\n",
        "  )\n",
        "  일반적으로 풀링에서 ksize와 strides는 같은값을 쓴다\n",
        "'''  \n"
      ],
      "execution_count": 20,
      "outputs": [
        {
          "output_type": "execute_result",
          "data": {
            "text/plain": [
              "'\\n  tn.nn.maxpool(\\n    value   : 이전계층의 출력값, [ batch, h , w , channels ]\\n    ksize   : 최대값풀링을 수행하기 위한 슬라이딩윈도우(=커널)의 크기\\n              [ ,h,w, ]\\n    strides : ksize의 이동 폭, 몇 칸씩 이동 할 것인가?\\n              [ batch, w, h, depth ]\\n    padding : 보정, 크기가 맞지 않을때 사용 SAME,...\\n  )\\n  일반적으로 풀링에서 ksize와 strides는 같은값을 쓴다\\n'"
            ]
          },
          "metadata": {
            "tags": []
          },
          "execution_count": 20
        }
      ]
    },
    {
      "cell_type": "code",
      "metadata": {
        "id": "P70IR4mbp3g0",
        "colab_type": "code",
        "colab": {}
      },
      "source": [
        "# 풀링층 생성\n",
        "with tf.name_scope('pool1') as scope:\n",
        "  h_pool1 = make_Max_Pooling(h_conv1)"
      ],
      "execution_count": 0,
      "outputs": []
    },
    {
      "cell_type": "code",
      "metadata": {
        "id": "VqlzmWb_tVKl",
        "colab_type": "code",
        "outputId": "9fb036fa-2b70-437a-fb3d-aea2c8928bd2",
        "colab": {
          "base_uri": "https://localhost:8080/",
          "height": 35
        }
      },
      "source": [
        "# 이미지의 크기(사이즈)는 바뀔 수 있으나 채널수는 변함이 없다\n",
        "h_pool1.shape"
      ],
      "execution_count": 22,
      "outputs": [
        {
          "output_type": "execute_result",
          "data": {
            "text/plain": [
              "TensorShape([Dimension(None), Dimension(14), Dimension(14), Dimension(32)])"
            ]
          },
          "metadata": {
            "tags": []
          },
          "execution_count": 22
        }
      ]
    },
    {
      "cell_type": "markdown",
      "metadata": {
        "id": "LW6wxOTFKDhl",
        "colab_type": "text"
      },
      "source": [
        "### 합성곱층2\n"
      ]
    },
    {
      "cell_type": "code",
      "metadata": {
        "id": "kT_E8iXQnC-c",
        "colab_type": "code",
        "colab": {}
      },
      "source": [
        "# 레이어를 하나 더 추가한다\n",
        "with tf.name_scope('conv2') as scope:\n",
        "  W_conv2  = make_Weight_Variable( [ 5, 5, 32, 64 ], name='conv2' )\n",
        "  b_conv2  = make_Bias_Variable( 64, 'conv2' ) \n",
        "  h_conv2 = tf.nn.relu( make_Conv2d( h_pool1, W_conv2) + b_conv2 )"
      ],
      "execution_count": 0,
      "outputs": []
    },
    {
      "cell_type": "markdown",
      "metadata": {
        "id": "ukS_SHF4KE6K",
        "colab_type": "text"
      },
      "source": [
        "### 풀링층2"
      ]
    },
    {
      "cell_type": "code",
      "metadata": {
        "id": "Y45DjM3LoRmm",
        "colab_type": "code",
        "colab": {}
      },
      "source": [
        "with tf.name_scope('pool2') as scope:\n",
        "  h_pool2 = make_Max_Pooling(h_conv2)"
      ],
      "execution_count": 0,
      "outputs": []
    },
    {
      "cell_type": "code",
      "metadata": {
        "id": "onJhAc9Xo7x-",
        "colab_type": "code",
        "colab": {
          "base_uri": "https://localhost:8080/",
          "height": 35
        },
        "outputId": "1c532f20-dc64-49cd-e2d8-9a4afd85746e"
      },
      "source": [
        "h_pool2"
      ],
      "execution_count": 25,
      "outputs": [
        {
          "output_type": "execute_result",
          "data": {
            "text/plain": [
              "<tf.Tensor 'pool2/MaxPool:0' shape=(?, 7, 7, 64) dtype=float32>"
            ]
          },
          "metadata": {
            "tags": []
          },
          "execution_count": 25
        }
      ]
    },
    {
      "cell_type": "markdown",
      "metadata": {
        "id": "xgenI5WJKG89",
        "colab_type": "text"
      },
      "source": [
        "### 전결합층\n",
        "\n",
        "- 원본 이미지는 풀링계층을 2번 통과하면서 그 크기가 : (28 / 2 )/ 2 =7 이 되었다\n",
        "- 전결합층에서는 출력층으로 가기 직전 단계로서, 행렬 데이터를 Flatten(펴주는, h , w, channel을 한줄의 데이터로 펴준다 : 동일 사이즈도 가능하고 줄여서도 가능하다)하는 것이 목적\n",
        "- 최종 데이터는 [ n, size(조정) ]"
      ]
    },
    {
      "cell_type": "code",
      "metadata": {
        "id": "Oc3ogHWcq14d",
        "colab_type": "code",
        "colab": {
          "base_uri": "https://localhost:8080/",
          "height": 35
        },
        "outputId": "64a7ef43-7fee-4e31-d2d6-a494188c4e01"
      },
      "source": [
        "with tf.name_scope('fully_connected') as scope:\n",
        "  # 이미지 데이터 size => n \n",
        "  n = 7 * 7 * 64\n",
        "  # 1024는 설정값 n(=3136) -> 1024로 줄이는 느낌으로 생각하기\n",
        "  W_fc = make_Weight_Variable( [n , 1024] ,'fc')\n",
        "  b_fc = make_Bias_Variable( 1024 ,'fc')\n",
        "  # 이전 계층의 출력데이터를 flatten 처리 했다\n",
        "  h_pool2_flatten = tf.reshape( h_pool2, [-1,n])\n",
        "  h_fc = tf.nn.relu( tf.matmul( h_pool2_flatten , W_fc ) + b_fc )\n",
        "h_fc  "
      ],
      "execution_count": 26,
      "outputs": [
        {
          "output_type": "execute_result",
          "data": {
            "text/plain": [
              "<tf.Tensor 'fully_connected/Relu:0' shape=(?, 1024) dtype=float32>"
            ]
          },
          "metadata": {
            "tags": []
          },
          "execution_count": 26
        }
      ]
    },
    {
      "cell_type": "markdown",
      "metadata": {
        "id": "iNwt2xLNKMAi",
        "colab_type": "text"
      },
      "source": [
        "### 드롭아웃층\n",
        "\n",
        "- 과적합(over-fitting)을 방지하기 위해 사용\n",
        "- 뉴런을 일부 죽여서 학습을 못하게 랜덤으로 처리 => 학습양을 떨어트림\n",
        "- 학습 데이터에 길들여지지 않게 처리하는 목적"
      ]
    },
    {
      "cell_type": "code",
      "metadata": {
        "id": "TrtwX52gwTkU",
        "colab_type": "code",
        "colab": {}
      },
      "source": [
        "with tf.name_scope('dropout1') as scope:\n",
        "  keep_prob = tf.placeholder(tf.float32)\n",
        "  h_fc_drop = tf.nn.dropout( h_fc , rate=1-keep_prob )"
      ],
      "execution_count": 0,
      "outputs": []
    },
    {
      "cell_type": "code",
      "metadata": {
        "id": "YuQliiF3xT5w",
        "colab_type": "code",
        "colab": {
          "base_uri": "https://localhost:8080/",
          "height": 35
        },
        "outputId": "f0f4237d-71c0-410d-ea3a-0465ea412d18"
      },
      "source": [
        "h_fc_drop"
      ],
      "execution_count": 28,
      "outputs": [
        {
          "output_type": "execute_result",
          "data": {
            "text/plain": [
              "<tf.Tensor 'dropout1/dropout/mul_1:0' shape=(?, 1024) dtype=float32>"
            ]
          },
          "metadata": {
            "tags": []
          },
          "execution_count": 28
        }
      ]
    },
    {
      "cell_type": "markdown",
      "metadata": {
        "id": "YnlRuj-mKRyj",
        "colab_type": "text"
      },
      "source": [
        "### 출력층\n",
        "- 이전단계의 출력 데이터를 최종레이블의 shape형태로 맞춘다\n",
        "- 1024 => 10 으로 줄인다\n",
        "- 이 과정에 활성화 함수를 사용할 수 있다\n",
        "  - softmax 사용\n",
        "    - 입력받은 값을 출력으로 0 ~ 1 사이값으로 사용\n",
        "    - 모든 출력값은 0 ~ 1 사이로 정규화\n",
        "    - 그 값들의 총합은 1이 되는 함수 : 특정값을 확률적으로 표현할 수 있다\n",
        "    - 일반적으로 뉴럴네트워크에서는 sigmoid를 사용한다\n",
        "    - 3가지 이상 범주형 분류를 하는 경우 (다항분류인경우) softmax를 가장 많이 사용한다\n",
        "    - 이것이 더 좋은 결과를 낸다"
      ]
    },
    {
      "cell_type": "code",
      "metadata": {
        "id": "yr2EDv_x8kfh",
        "colab_type": "code",
        "colab": {
          "base_uri": "https://localhost:8080/",
          "height": 35
        },
        "outputId": "80a4fa9a-46f8-44e4-aee9-0608b7546ca1"
      },
      "source": [
        "with tf.name_scope('output') as scope:\n",
        "  W_out  = make_Weight_Variable( [1024, 10], 'output' )\n",
        "  b_out  = make_Bias_Variable( 10, 'output')\n",
        "  y_conv = tf.nn.softmax(tf.matmul( h_fc_drop ,W_out ) + b_out)\n",
        "\n",
        "y_conv  "
      ],
      "execution_count": 29,
      "outputs": [
        {
          "output_type": "execute_result",
          "data": {
            "text/plain": [
              "<tf.Tensor 'output/Softmax:0' shape=(?, 10) dtype=float32>"
            ]
          },
          "metadata": {
            "tags": []
          },
          "execution_count": 29
        }
      ]
    },
    {
      "cell_type": "code",
      "metadata": {
        "id": "CPvQ2K0O8kh5",
        "colab_type": "code",
        "colab": {}
      },
      "source": [
        "# 이후 실행에 필요한 정답 벡터가 들어갈 플레이스홀더 요소를 준비\n",
        "y_ = tf.placeholder( tf.float32 , shape=(None,nums), name='y_')"
      ],
      "execution_count": 0,
      "outputs": []
    },
    {
      "cell_type": "markdown",
      "metadata": {
        "id": "PI5CGg410nWW",
        "colab_type": "text"
      },
      "source": [
        "## 5-2. 실행 (학습, 예측, 평가)"
      ]
    },
    {
      "cell_type": "markdown",
      "metadata": {
        "id": "kt6soOIX1NI_",
        "colab_type": "text"
      },
      "source": [
        "### 크로스 엔트로피, 손실\n",
        "- 비용(cost), 손실(loss) : 이런 지표는 원하는 결과에서 얼마나 떨어져 있는지 보여주는 지표\n",
        "- 이 값(격차)을 줄이는 방향으로 전개\n"
      ]
    },
    {
      "cell_type": "code",
      "metadata": {
        "id": "MnpOFO8H1jvU",
        "colab_type": "code",
        "colab": {}
      },
      "source": [
        "with tf.name_scope('loss') as scope:\n",
        "  cross_entropy = -tf.reduce_sum( y_ * tf.log(y_conv) )"
      ],
      "execution_count": 0,
      "outputs": []
    },
    {
      "cell_type": "markdown",
      "metadata": {
        "id": "u_qg-5l91RK0",
        "colab_type": "text"
      },
      "source": [
        "### 경사 하강법\n",
        "- 크로스엔트로피의 값 (손실함수의값) 을 작아지도록 점차 반복적으로 이동시켜서 변경하는 방식\n",
        "- 확률적 경사하강법\n",
        "  - 무작위로 초기화한 매개변수를 손실함수값이 작아지도록 지속/반복적으로 변경처리를 수행\n",
        "  "
      ]
    },
    {
      "cell_type": "code",
      "metadata": {
        "id": "7f_89Aat2y9Q",
        "colab_type": "code",
        "colab": {}
      },
      "source": [
        "with tf.name_scope('sgd') as scope:\n",
        "  # 1e-4 : 설정값\n",
        "  optimizer = tf.train.AdamOptimizer( 1e-4 )\n",
        "  train_step = optimizer.minimize( cross_entropy )"
      ],
      "execution_count": 0,
      "outputs": []
    },
    {
      "cell_type": "markdown",
      "metadata": {
        "id": "bwpupRIy1TIo",
        "colab_type": "text"
      },
      "source": [
        "### 예측, 평가"
      ]
    },
    {
      "cell_type": "code",
      "metadata": {
        "id": "JAHCZitI3dp9",
        "colab_type": "code",
        "colab": {}
      },
      "source": [
        "with tf.name_scope('predict') as scope:\n",
        "  # 최소화 하기 위해서 minimize() 사용\n",
        "  # tf.argmax( y, 1) : 모델이 판단하기에 각 데이터별로 적합하다고 판단되는 레이블 값으로 취한다\n",
        "  predict_step  = tf.equal( tf.argmax(y_conv,1), tf.argmax(y_,1) )\n",
        "  # 정확도 => 부동소수 변환하여 평균값을 획득\n",
        "  accuracy_step = tf.reduce_mean( tf.cast(predict_step, tf.float32) )"
      ],
      "execution_count": 0,
      "outputs": []
    },
    {
      "cell_type": "markdown",
      "metadata": {
        "id": "Z3E5HeAS4YnG",
        "colab_type": "text"
      },
      "source": [
        "### 주입할 데이터 함수 정의\n",
        "- 실행시 주입할 데이터를 편하게 구성\n",
        "- 반복 학습이 수행되므로, 주입 데이터는 간편하게 구성해야 한다\n",
        "- 형식 : 데이터 플로우 그래프 전체에서 placeholder를 찾아서 주입할 것들 찾기!\n",
        "  - { \n",
        "      x : \n",
        "      y_ :\n",
        "      keep_prob :\n",
        "      } \n"
      ]
    },
    {
      "cell_type": "code",
      "metadata": {
        "id": "39pV7I1t8Kn1",
        "colab_type": "code",
        "colab": {}
      },
      "source": [
        "def make_FeedDict(imgs, labels, prob):\n",
        "  return { x :imgs , y_ :labels , keep_prob :prob }"
      ],
      "execution_count": 0,
      "outputs": []
    },
    {
      "cell_type": "markdown",
      "metadata": {
        "id": "SJb2UaqQ1cul",
        "colab_type": "text"
      },
      "source": [
        "### 실행"
      ]
    },
    {
      "cell_type": "code",
      "metadata": {
        "id": "UCXlXl4j8kkd",
        "colab_type": "code",
        "colab": {
          "base_uri": "https://localhost:8080/",
          "height": 575
        },
        "outputId": "976a1b7e-e772-4301-84df-b0b1f49d7865"
      },
      "source": [
        "TRAIN_COUNT = 3000 # 총 학습횟수 설정\n",
        "with tf.Session() as sess:\n",
        "  # 1. 텐서플로우 변수 초기화\n",
        "  sess.run( tf.global_variables_initializer() )\n",
        "  # 2. 주입할 데이터 준비\n",
        "  test_fd = make_FeedDict(mnist.test.images, mnist.test.labels,1)\n",
        "  # 3. 반복학습\n",
        "  for step in range(TRAIN_COUNT):\n",
        "    # 3-1. batch 사이즈(1회 훈련시 사용되는 데이터의 총양, 향후 gpu 사용시 메모리 계산) 기준으로 훈련\n",
        "    batch = mnist.train.next_batch(50) # 50개씩 데이터를 사용\n",
        "    # 차후에는 직접 데이터를 뽑아와서 훈련시킨다 next_batch사용x\n",
        "    # 3-2. 훈련용 주입 데이터 준비\n",
        "    train_fd = make_FeedDict(batch[0],batch[1], 0.5)\n",
        "    # 3-3. 훈련(데이터 주입)\n",
        "    _, loss = sess.run( [ train_step, cross_entropy ],feed_dict= train_fd )\n",
        "    # 3-4. 특정 횟수마다 로그 출력\n",
        "    if step  % 100 == 0: # 0, 100, 200, ... 2900 까지 로그\n",
        "      acc = sess.run(accuracy_step, feed_dict= test_fd )\n",
        "      print('%s, %s, %s' % (step,acc,loss))\n",
        "  # 4. 최종결과 출력 \n",
        "  f_acc = sess.run(accuracy_step, feed_dict= test_fd)\n",
        "  print('최종 정답률' ,f_acc)\n",
        "  # 5. 텐서보드 기록\n",
        "  pass "
      ],
      "execution_count": 36,
      "outputs": [
        {
          "output_type": "stream",
          "text": [
            "0, 0.0923, 448.30685\n",
            "100, 0.8407, 36.231323\n",
            "200, 0.9047, 37.666122\n",
            "300, 0.9272, 32.428703\n",
            "400, 0.9381, 11.986141\n",
            "500, 0.9471, 12.993409\n",
            "600, 0.9541, 16.65138\n",
            "700, 0.9557, 12.985656\n",
            "800, 0.9597, 13.431261\n",
            "900, 0.9596, 8.477122\n",
            "1000, 0.9639, 16.500628\n",
            "1100, 0.9647, 13.27648\n",
            "1200, 0.9687, 4.4068527\n",
            "1300, 0.9675, 6.0316114\n",
            "1400, 0.9705, 7.0806246\n",
            "1500, 0.9718, 11.691788\n",
            "1600, 0.9723, 3.423712\n",
            "1700, 0.9742, 2.4454627\n",
            "1800, 0.9732, 2.5718405\n",
            "1900, 0.9747, 3.8618324\n",
            "2000, 0.9759, 9.153113\n",
            "2100, 0.9763, 6.5043373\n",
            "2200, 0.9774, 5.2943907\n",
            "2300, 0.9785, 6.439107\n",
            "2400, 0.9771, 6.1232142\n",
            "2500, 0.9784, 3.1663432\n",
            "2600, 0.9793, 2.6473017\n",
            "2700, 0.9802, 3.086375\n",
            "2800, 0.9812, 1.7072269\n",
            "2900, 0.9811, 2.9706218\n",
            "최종 정답률 0.981\n"
          ],
          "name": "stdout"
        }
      ]
    },
    {
      "cell_type": "code",
      "metadata": {
        "id": "1wzvQC_Y8kmr",
        "colab_type": "code",
        "colab": {}
      },
      "source": [
        ""
      ],
      "execution_count": 0,
      "outputs": []
    },
    {
      "cell_type": "code",
      "metadata": {
        "id": "uDc1bVZb8kpF",
        "colab_type": "code",
        "colab": {}
      },
      "source": [
        ""
      ],
      "execution_count": 0,
      "outputs": []
    },
    {
      "cell_type": "code",
      "metadata": {
        "id": "l75rQmgm8krZ",
        "colab_type": "code",
        "colab": {}
      },
      "source": [
        ""
      ],
      "execution_count": 0,
      "outputs": []
    },
    {
      "cell_type": "code",
      "metadata": {
        "id": "SWWi9ix28kv3",
        "colab_type": "code",
        "colab": {}
      },
      "source": [
        ""
      ],
      "execution_count": 0,
      "outputs": []
    },
    {
      "cell_type": "code",
      "metadata": {
        "id": "XOTYpyBU8kyZ",
        "colab_type": "code",
        "colab": {}
      },
      "source": [
        ""
      ],
      "execution_count": 0,
      "outputs": []
    },
    {
      "cell_type": "markdown",
      "metadata": {
        "id": "uzqRljnZzUm4",
        "colab_type": "text"
      },
      "source": [
        "# 6. 시스템 통합(생략)"
      ]
    }
  ]
}