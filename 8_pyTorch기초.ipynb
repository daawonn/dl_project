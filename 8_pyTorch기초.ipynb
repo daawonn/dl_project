{
  "nbformat": 4,
  "nbformat_minor": 0,
  "metadata": {
    "colab": {
      "name": "8.pyTorch기초.ipynb",
      "provenance": [],
      "collapsed_sections": [],
      "toc_visible": true,
      "authorship_tag": "ABX9TyMYfAPOqF4RfO42l/zdJa9C",
      "include_colab_link": true
    },
    "kernelspec": {
      "name": "python3",
      "display_name": "Python 3"
    },
    "accelerator": "GPU"
  },
  "cells": [
    {
      "cell_type": "markdown",
      "metadata": {
        "id": "view-in-github",
        "colab_type": "text"
      },
      "source": [
        "<a href=\"https://colab.research.google.com/github/daawonn/dl_project/blob/master/8_pyTorch%EA%B8%B0%EC%B4%88.ipynb\" target=\"_parent\"><img src=\"https://colab.research.google.com/assets/colab-badge.svg\" alt=\"Open In Colab\"/></a>"
      ]
    },
    {
      "cell_type": "markdown",
      "metadata": {
        "id": "L9R-U6UWyLNv",
        "colab_type": "text"
      },
      "source": [
        "# **pyTorch** (파이토치)"
      ]
    },
    {
      "cell_type": "markdown",
      "metadata": {
        "id": "Wy1ZW03SuaIh",
        "colab_type": "text"
      },
      "source": [
        "## 개요\n",
        "- https://pytorch.org/\n",
        "- python/C++/Jave을 이용해 딥러닝 구현을 위한 오픈소스 라이브러리\n",
        "- GPU 지원은 엔비디아만 가능(CUDA만 사용가능)\n",
        "- Lua(루아,핵심사용언어), C++ 등으로 개발했다\n",
        "- 아직까지는 텐서플로우가 더 많이 사용되나 점차 확산하고있는 추세\n",
        "- Facebook 인공지능팀 개발(=뉴욕대 협업)\n",
        "- 딥러닝 프레임워크(엔진)\n",
        "- 장점\n",
        "  - 복잡하고 계산양이 큰 그래프를 쉼게 구성한다.\n",
        "  - 계산 그래프를 활용하면 미/적분도 간단하게 처리\n",
        "  - GPU 연산을 손쉽게 활용하여 빠른 처리가 가능\n"
      ]
    },
    {
      "cell_type": "markdown",
      "metadata": {
        "id": "9EtI_w1RwppC",
        "colab_type": "text"
      },
      "source": [
        "## 특징\n",
        "- numpy를 기반으로 Tensor 연산을 GPU로 수행가능\n",
        "- 자동 미분 시스템을 이용하여 모델을 손쉽게 구성\n",
        "- 같이 활용되는 python 패키지\n",
        "  - Scipy\n",
        "  - Numpy\n",
        "  - Cython : 파이썬의 빠른 생산성, 외부 C라이브러리와 간결하게 연동, 실행속도를 향상\n",
        "- 학습, 추론속도가 빠르고 다루기쉽다"
      ]
    },
    {
      "cell_type": "markdown",
      "metadata": {
        "id": "CiCE47SxyI76",
        "colab_type": "text"
      },
      "source": [
        "## pyTorch vs Tensorflow\n",
        "\n",
        "- 2019년도 기준 2위 (pyTorch) 1위 (Tensorflow)\n",
        "- Tensorflow\n",
        "  - Define-and-Run 방식\n",
        "    - 1. 계산 그래프, 데이터 플로우 그래프를 설계\n",
        "    - 2. 세션(session)에서 그래프에 들어갈 데이터(숫자, 수치값)를 주입\n",
        "    - 3. 세션 실행\n",
        "  - 산업용으로 많이 사용\n",
        "\n",
        "- pyTorch\n",
        "  - Define-by-Run 방식\n",
        "    - 1. 계산 그래프를 그리는 동시에 \n",
        "    - 2. 주입할 데이터(숫자, 수치값)를 보관하고\n",
        "    - 3. 연산 실행이 바로 가능하다\n",
        "  - 학계, 연구용으로 많이 사용, 2018년에 1.0이 런칭된 후 산업용으로도 넓히고있다.\n",
        "    "
      ]
    },
    {
      "cell_type": "code",
      "metadata": {
        "id": "NPs9EA9ksZAT",
        "colab_type": "code",
        "colab": {}
      },
      "source": [
        "import torch"
      ],
      "execution_count": 0,
      "outputs": []
    },
    {
      "cell_type": "code",
      "metadata": {
        "id": "zaoPqzSj0igH",
        "colab_type": "code",
        "outputId": "433e3908-9b84-4528-930f-211cef3a77b9",
        "colab": {
          "base_uri": "https://localhost:8080/",
          "height": 249
        }
      },
      "source": [
        "# 로컬 pc나 딥러닝 서버에서 사용한다면 https://pytorch.org/ 에서 안정화된 버전으로 다운받기!\n",
        "from IPython.display import Image\n",
        "Image('/content/pytorch.png', width=600)"
      ],
      "execution_count": 0,
      "outputs": [
        {
          "output_type": "execute_result",
          "data": {
            "image/png": "[encoded data removed]",
            "text/plain": [
              "<IPython.core.display.Image object>"
            ]
          },
          "metadata": {
            "tags": [],
            "image/png": {
              "width": 600
            }
          },
          "execution_count": 4
        }
      ]
    },
    {
      "cell_type": "code",
      "metadata": {
        "id": "V9TCoP5W4KZx",
        "colab_type": "code",
        "colab": {}
      },
      "source": [
        "import numpy as np\n",
        "import matplotlib.pyplot as plt"
      ],
      "execution_count": 0,
      "outputs": []
    },
    {
      "cell_type": "markdown",
      "metadata": {
        "id": "2g_fv8HZ5k0I",
        "colab_type": "text"
      },
      "source": [
        "## 텐서 \n",
        "\n",
        "- 딥러닝은 텐서를 기반으로 진행되는 계산(연산)의 연속\n",
        "- 딥러닝 구현상 가장 중요한 기본 단위"
      ]
    },
    {
      "cell_type": "code",
      "metadata": {
        "id": "ZYrLvQb55eXK",
        "colab_type": "code",
        "outputId": "181e04ce-9854-47ee-cc0d-414928d79b71",
        "colab": {
          "base_uri": "https://localhost:8080/",
          "height": 168
        }
      },
      "source": [
        "Image('/content/8.tensor.jpeg', width=500)"
      ],
      "execution_count": 0,
      "outputs": [
        {
          "output_type": "execute_result",
          "data": {
            "image/jpeg": "[encoded data removed]",
            "text/plain": [
              "<IPython.core.display.Image object>"
            ]
          },
          "metadata": {
            "tags": [],
            "image/jpeg": {
              "width": 500
            }
          },
          "execution_count": 7
        }
      ]
    },
    {
      "cell_type": "markdown",
      "metadata": {
        "id": "Q02-6R3N6X_v",
        "colab_type": "text"
      },
      "source": [
        "# 텐서생성\n",
        "\n",
        "- Tensor( 리스트 or 배열)\n",
        "  - 원소가 정수에서 float32로 자동 변환\n",
        "  - 단, 옵션에 따라서 유지될 수도 있지않을까?"
      ]
    },
    {
      "cell_type": "code",
      "metadata": {
        "id": "VOPuwjpF6Ivp",
        "colab_type": "code",
        "outputId": "856f82dd-0323-45e2-be53-58c203570d1b",
        "colab": {
          "base_uri": "https://localhost:8080/",
          "height": 53
        }
      },
      "source": [
        "# 리스트로부터 텐서 생성\n",
        "list_src = [ [10,11,12],[20,21,22] ] # (2,3)\n",
        "# 텐서생성\n",
        "x = torch.Tensor( list_src )\n",
        "x\n",
        "# define by run 이라는 취지에서 이미 텐서에 데이터가 설정되어 있음을 알 수 있다"
      ],
      "execution_count": 0,
      "outputs": [
        {
          "output_type": "execute_result",
          "data": {
            "text/plain": [
              "tensor([[10., 11., 12.],\n",
              "        [20., 21., 22.]])"
            ]
          },
          "metadata": {
            "tags": []
          },
          "execution_count": 3
        }
      ]
    },
    {
      "cell_type": "code",
      "metadata": {
        "id": "1aBU8I7Y66Up",
        "colab_type": "code",
        "outputId": "55dc9021-faba-46e5-f030-e9a6799b4de5",
        "colab": {
          "base_uri": "https://localhost:8080/",
          "height": 35
        }
      },
      "source": [
        "# 복원 : 텐서 -> 리스트 추출 : to\n",
        "x.tolist()"
      ],
      "execution_count": 0,
      "outputs": [
        {
          "output_type": "execute_result",
          "data": {
            "text/plain": [
              "[[10.0, 11.0, 12.0], [20.0, 21.0, 22.0]]"
            ]
          },
          "metadata": {
            "tags": []
          },
          "execution_count": 4
        }
      ]
    },
    {
      "cell_type": "code",
      "metadata": {
        "id": "9VNSwCY_7jnJ",
        "colab_type": "code",
        "outputId": "fdde0ba0-f781-4945-acba-ae979bf01c8c",
        "colab": {
          "base_uri": "https://localhost:8080/",
          "height": 53
        }
      },
      "source": [
        "# numpy의 ndarray(배열)을 재료로 텐서 생성\n",
        "arr = np.array( x.tolist() )\n",
        "arr"
      ],
      "execution_count": 0,
      "outputs": [
        {
          "output_type": "execute_result",
          "data": {
            "text/plain": [
              "array([[10., 11., 12.],\n",
              "       [20., 21., 22.]])"
            ]
          },
          "metadata": {
            "tags": []
          },
          "execution_count": 5
        }
      ]
    },
    {
      "cell_type": "code",
      "metadata": {
        "id": "ssZEf1t771E_",
        "colab_type": "code",
        "outputId": "6a864af2-f6e8-4490-8cc0-968da194f713",
        "colab": {
          "base_uri": "https://localhost:8080/",
          "height": 53
        }
      },
      "source": [
        "x = torch.Tensor( list_src )\n",
        "x"
      ],
      "execution_count": 0,
      "outputs": [
        {
          "output_type": "execute_result",
          "data": {
            "text/plain": [
              "tensor([[10., 11., 12.],\n",
              "        [20., 21., 22.]])"
            ]
          },
          "metadata": {
            "tags": []
          },
          "execution_count": 6
        }
      ]
    },
    {
      "cell_type": "code",
      "metadata": {
        "id": "RaaMHn3W8D6X",
        "colab_type": "code",
        "outputId": "4be17343-9349-489d-edc9-5595ca0cd015",
        "colab": {
          "base_uri": "https://localhost:8080/",
          "height": 53
        }
      },
      "source": [
        "# 복원 -> 타입복구가 불가 (형변환 하기전까지)\n",
        "x.numpy()"
      ],
      "execution_count": 0,
      "outputs": [
        {
          "output_type": "execute_result",
          "data": {
            "text/plain": [
              "array([[10., 11., 12.],\n",
              "       [20., 21., 22.]], dtype=float32)"
            ]
          },
          "metadata": {
            "tags": []
          },
          "execution_count": 12
        }
      ]
    },
    {
      "cell_type": "markdown",
      "metadata": {
        "id": "YKUDtl4M9Q0A",
        "colab_type": "text"
      },
      "source": [
        "# GPU 사용\n",
        "\n",
        "- colab에서 노트 속성을 gpu 사용으로 변경\n",
        "  - 런타임이 다 초기화 된다\n",
        "  \n"
      ]
    },
    {
      "cell_type": "markdown",
      "metadata": {
        "id": "U2A9HQIc-8Jg",
        "colab_type": "text"
      },
      "source": [
        "## pyTorch GPU 사용"
      ]
    },
    {
      "cell_type": "code",
      "metadata": {
        "id": "i4QJxkNv9QIo",
        "colab_type": "code",
        "outputId": "8b13f3da-b809-4227-85b5-07afb5fcd29a",
        "colab": {
          "base_uri": "https://localhost:8080/",
          "height": 35
        }
      },
      "source": [
        "type(x)"
      ],
      "execution_count": 0,
      "outputs": [
        {
          "output_type": "execute_result",
          "data": {
            "text/plain": [
              "torch.Tensor"
            ]
          },
          "metadata": {
            "tags": []
          },
          "execution_count": 7
        }
      ]
    },
    {
      "cell_type": "code",
      "metadata": {
        "id": "u-9M_v239NKR",
        "colab_type": "code",
        "outputId": "36039287-afcd-46d6-a375-b84b3ebaa0a8",
        "colab": {
          "base_uri": "https://localhost:8080/",
          "height": 35
        }
      },
      "source": [
        "x.device"
      ],
      "execution_count": 0,
      "outputs": [
        {
          "output_type": "execute_result",
          "data": {
            "text/plain": [
              "device(type='cpu')"
            ]
          },
          "metadata": {
            "tags": []
          },
          "execution_count": 8
        }
      ]
    },
    {
      "cell_type": "code",
      "metadata": {
        "id": "Taa1KRVv8Paf",
        "colab_type": "code",
        "outputId": "b5cb8532-b38a-4173-acfa-c4b316f2fbd6",
        "colab": {
          "base_uri": "https://localhost:8080/",
          "height": 35
        }
      },
      "source": [
        "# NVIDIA\n",
        "device = 'cuda'\n",
        "try:\n",
        "  x = x.to(device)\n",
        "  print('%s 지원' % device)\n",
        "except Exception as e:\n",
        "  print('%s 미지원' % device, e)  "
      ],
      "execution_count": 0,
      "outputs": [
        {
          "output_type": "stream",
          "text": [
            "cuda 지원\n"
          ],
          "name": "stdout"
        }
      ]
    },
    {
      "cell_type": "code",
      "metadata": {
        "id": "mdSGdJir-T-S",
        "colab_type": "code",
        "outputId": "8f09968c-e3e5-4dfe-fbde-b984596b4c47",
        "colab": {
          "base_uri": "https://localhost:8080/",
          "height": 35
        }
      },
      "source": [
        "# 이 텐서는 GPU 에서 연산한다 -> 텐서별로 GPU, CPU를 지정할 수 있다\n",
        "x.device"
      ],
      "execution_count": 0,
      "outputs": [
        {
          "output_type": "execute_result",
          "data": {
            "text/plain": [
              "device(type='cuda', index=0)"
            ]
          },
          "metadata": {
            "tags": []
          },
          "execution_count": 11
        }
      ]
    },
    {
      "cell_type": "code",
      "metadata": {
        "id": "Kh5tPJDH-lyI",
        "colab_type": "code",
        "outputId": "29505f32-4082-444c-a222-20b10159fa65",
        "colab": {
          "base_uri": "https://localhost:8080/",
          "height": 35
        }
      },
      "source": [
        "# 텐서를 cpu 연산으로 변경 처리\n",
        "x = x.to('cpu')\n",
        "x.device"
      ],
      "execution_count": 0,
      "outputs": [
        {
          "output_type": "execute_result",
          "data": {
            "text/plain": [
              "device(type='cpu')"
            ]
          },
          "metadata": {
            "tags": []
          },
          "execution_count": 12
        }
      ]
    },
    {
      "cell_type": "markdown",
      "metadata": {
        "id": "55-lKoDH_BdB",
        "colab_type": "text"
      },
      "source": [
        "## Tensorflow GPU 사용"
      ]
    },
    {
      "cell_type": "code",
      "metadata": {
        "id": "tyqUVcXc_JX4",
        "colab_type": "code",
        "outputId": "1658d6a2-1af5-46d8-bd98-a29c65911de8",
        "colab": {
          "base_uri": "https://localhost:8080/",
          "height": 35
        }
      },
      "source": [
        "%tensorflow_version 2.x\n",
        "import tensorflow as tf\n",
        "# 지원되는 하드웨어\n",
        "from tensorflow.python.client import device_lib"
      ],
      "execution_count": 0,
      "outputs": [
        {
          "output_type": "stream",
          "text": [
            "TensorFlow is already loaded. Please restart the runtime to change versions.\n"
          ],
          "name": "stdout"
        }
      ]
    },
    {
      "cell_type": "code",
      "metadata": {
        "id": "pZvMVJpO_JbH",
        "colab_type": "code",
        "outputId": "dfaffea4-a7f0-4f5b-a0c4-a646dae0bc7e",
        "colab": {
          "base_uri": "https://localhost:8080/",
          "height": 503
        }
      },
      "source": [
        "# 지원되는 하드웨어 목록중에서 device_type: \"GPU\"\n",
        "# name: \"/device:GPU:0\" 이름을 챙겨둔다!\n",
        "# memory_limit: 14224857498 메모리 제한크기를 확인하여 차후 학습시 batch_size에 대한 가이드를 잡는다\n",
        "device_lib.list_local_devices()"
      ],
      "execution_count": 0,
      "outputs": [
        {
          "output_type": "execute_result",
          "data": {
            "text/plain": [
              "[name: \"/device:CPU:0\"\n",
              " device_type: \"CPU\"\n",
              " memory_limit: 268435456\n",
              " locality {\n",
              " }\n",
              " incarnation: 2645962407561103735, name: \"/device:XLA_CPU:0\"\n",
              " device_type: \"XLA_CPU\"\n",
              " memory_limit: 17179869184\n",
              " locality {\n",
              " }\n",
              " incarnation: 16485941450050271216\n",
              " physical_device_desc: \"device: XLA_CPU device\", name: \"/device:XLA_GPU:0\"\n",
              " device_type: \"XLA_GPU\"\n",
              " memory_limit: 17179869184\n",
              " locality {\n",
              " }\n",
              " incarnation: 14500538963924562904\n",
              " physical_device_desc: \"device: XLA_GPU device\", name: \"/device:GPU:0\"\n",
              " device_type: \"GPU\"\n",
              " memory_limit: 14224857498\n",
              " locality {\n",
              "   bus_id: 1\n",
              "   links {\n",
              "   }\n",
              " }\n",
              " incarnation: 4124030990733712817\n",
              " physical_device_desc: \"device: 0, name: Tesla T4, pci bus id: 0000:00:04.0, compute capability: 7.5\"]"
            ]
          },
          "metadata": {
            "tags": []
          },
          "execution_count": 14
        }
      ]
    },
    {
      "cell_type": "code",
      "metadata": {
        "id": "kxscgKBk_Jdo",
        "colab_type": "code",
        "outputId": "f222e8e9-e29b-4dab-d5d3-eb8562b77c3f",
        "colab": {
          "base_uri": "https://localhost:8080/",
          "height": 35
        }
      },
      "source": [
        "# GPU 연산\n",
        "# 통상적으로 Session이 열리는 지점부터 사용한다\n",
        "# 여기서는 간단하게 표현만 확인\n",
        "with tf.device(\"/device:GPU:0\"):\n",
        "  a = tf.constant( [[1,2,3],[4,5,6]] )    #2x3\n",
        "  b = tf.constant( [[1,2],[3,4],[5,6]] )  #3x2\n",
        "  c = tf.matmul(a , b)\n",
        "  print(c)"
      ],
      "execution_count": 0,
      "outputs": [
        {
          "output_type": "stream",
          "text": [
            "Tensor(\"MatMul:0\", shape=(2, 2), dtype=int32, device=/device:GPU:0)\n"
          ],
          "name": "stdout"
        }
      ]
    },
    {
      "cell_type": "code",
      "metadata": {
        "id": "_9vkUzQRHFlL",
        "colab_type": "code",
        "colab": {}
      },
      "source": [
        "%tensorflow_version 2.x\n",
        "import tensorflow as tf\n",
        "device_name = tf.test.gpu_device_name()\n",
        "if device_name != '/device:GPU:0':\n",
        "  raise SystemError('GPU device not found')\n",
        "print('Found GPU at: {}'.format(device_name))"
      ],
      "execution_count": 0,
      "outputs": []
    },
    {
      "cell_type": "code",
      "metadata": {
        "id": "Bn308py_BqjT",
        "colab_type": "code",
        "outputId": "806f5489-d959-4da5-e542-767907dffe35",
        "colab": {
          "base_uri": "https://localhost:8080/",
          "height": 1000
        }
      },
      "source": [
        "# GPU 연산\n",
        "# 통상적으로 Session이 열리는 지점부터 사용한다\n",
        "# 여기서는 간단하게 표현만 확인\n",
        "tf.reset_default_graph()\n",
        "with tf.device(\"/device:GPU:0\"):\n",
        "  a = tf.constant( [[1,2,3],[4,5,6]] )    #2x3\n",
        "  b = tf.constant( [[1,2],[3,4],[5,6]] )  #3x2\n",
        "  c = tf.matmul(a , b)\n",
        "  print(c)\n",
        "  # 데이터 플로우 그래프 실행\n",
        "  with tf.Session() as sess:\n",
        "    print(sess.run(c))"
      ],
      "execution_count": 0,
      "outputs": [
        {
          "output_type": "stream",
          "text": [
            "Tensor(\"MatMul:0\", shape=(2, 2), dtype=int32, device=/device:GPU:0)\n"
          ],
          "name": "stdout"
        },
        {
          "output_type": "error",
          "ename": "InvalidArgumentError",
          "evalue": "ignored",
          "traceback": [
            "\u001b[0;31m---------------------------------------------------------------------------\u001b[0m",
            "\u001b[0;31mInvalidArgumentError\u001b[0m                      Traceback (most recent call last)",
            "\u001b[0;32m/usr/local/lib/python3.6/dist-packages/tensorflow_core/python/client/session.py\u001b[0m in \u001b[0;36m_do_call\u001b[0;34m(self, fn, *args)\u001b[0m\n\u001b[1;32m   1364\u001b[0m     \u001b[0;32mtry\u001b[0m\u001b[0;34m:\u001b[0m\u001b[0;34m\u001b[0m\u001b[0;34m\u001b[0m\u001b[0m\n\u001b[0;32m-> 1365\u001b[0;31m       \u001b[0;32mreturn\u001b[0m \u001b[0mfn\u001b[0m\u001b[0;34m(\u001b[0m\u001b[0;34m*\u001b[0m\u001b[0margs\u001b[0m\u001b[0;34m)\u001b[0m\u001b[0;34m\u001b[0m\u001b[0;34m\u001b[0m\u001b[0m\n\u001b[0m\u001b[1;32m   1366\u001b[0m     \u001b[0;32mexcept\u001b[0m \u001b[0merrors\u001b[0m\u001b[0;34m.\u001b[0m\u001b[0mOpError\u001b[0m \u001b[0;32mas\u001b[0m \u001b[0me\u001b[0m\u001b[0;34m:\u001b[0m\u001b[0;34m\u001b[0m\u001b[0;34m\u001b[0m\u001b[0m\n",
            "\u001b[0;32m/usr/local/lib/python3.6/dist-packages/tensorflow_core/python/client/session.py\u001b[0m in \u001b[0;36m_run_fn\u001b[0;34m(feed_dict, fetch_list, target_list, options, run_metadata)\u001b[0m\n\u001b[1;32m   1347\u001b[0m       \u001b[0;31m# Ensure any changes to the graph are reflected in the runtime.\u001b[0m\u001b[0;34m\u001b[0m\u001b[0;34m\u001b[0m\u001b[0;34m\u001b[0m\u001b[0m\n\u001b[0;32m-> 1348\u001b[0;31m       \u001b[0mself\u001b[0m\u001b[0;34m.\u001b[0m\u001b[0m_extend_graph\u001b[0m\u001b[0;34m(\u001b[0m\u001b[0;34m)\u001b[0m\u001b[0;34m\u001b[0m\u001b[0;34m\u001b[0m\u001b[0m\n\u001b[0m\u001b[1;32m   1349\u001b[0m       return self._call_tf_sessionrun(options, feed_dict, fetch_list,\n",
            "\u001b[0;32m/usr/local/lib/python3.6/dist-packages/tensorflow_core/python/client/session.py\u001b[0m in \u001b[0;36m_extend_graph\u001b[0;34m(self)\u001b[0m\n\u001b[1;32m   1387\u001b[0m     \u001b[0;32mwith\u001b[0m \u001b[0mself\u001b[0m\u001b[0;34m.\u001b[0m\u001b[0m_graph\u001b[0m\u001b[0;34m.\u001b[0m\u001b[0m_session_run_lock\u001b[0m\u001b[0;34m(\u001b[0m\u001b[0;34m)\u001b[0m\u001b[0;34m:\u001b[0m  \u001b[0;31m# pylint: disable=protected-access\u001b[0m\u001b[0;34m\u001b[0m\u001b[0;34m\u001b[0m\u001b[0m\n\u001b[0;32m-> 1388\u001b[0;31m       \u001b[0mtf_session\u001b[0m\u001b[0;34m.\u001b[0m\u001b[0mExtendSession\u001b[0m\u001b[0;34m(\u001b[0m\u001b[0mself\u001b[0m\u001b[0;34m.\u001b[0m\u001b[0m_session\u001b[0m\u001b[0;34m)\u001b[0m\u001b[0;34m\u001b[0m\u001b[0;34m\u001b[0m\u001b[0m\n\u001b[0m\u001b[1;32m   1389\u001b[0m \u001b[0;34m\u001b[0m\u001b[0m\n",
            "\u001b[0;31mInvalidArgumentError\u001b[0m: Cannot assign a device for operation MatMul: Could not satisfy explicit device specification '/device:GPU:0' because no supported kernel for GPU devices is available.\nColocation Debug Info:\nColocation group had the following types and supported devices: \nRoot Member(assigned_device_name_index_=-1 requested_device_name_='/device:GPU:0' assigned_device_name_='' resource_device_name_='' supported_device_types_=[CPU] possible_devices_=[]\nMatMul: CPU \n\nColocation members, user-requested devices, and framework assigned devices, if any:\n  MatMul (MatMul) /device:GPU:0\n\nOp: MatMul\nNode attrs: transpose_a=false, transpose_b=false, T=DT_INT32\nRegistered kernels:\n  device='XLA_GPU'; T in [DT_FLOAT, DT_DOUBLE, DT_COMPLEX64, DT_BFLOAT16, DT_COMPLEX128, DT_HALF]\n  device='XLA_CPU'; T in [DT_FLOAT, DT_DOUBLE, DT_COMPLEX64, DT_BFLOAT16, DT_COMPLEX128, DT_HALF]\n  device='XLA_CPU_JIT'; T in [DT_FLOAT, DT_DOUBLE, DT_COMPLEX64, DT_BFLOAT16, DT_COMPLEX128, DT_HALF]\n  device='XLA_GPU_JIT'; T in [DT_FLOAT, DT_DOUBLE, DT_COMPLEX64, DT_BFLOAT16, DT_COMPLEX128, DT_HALF]\n  device='CPU'; label='eigen'; T in [DT_COMPLEX128]\n  device='CPU'; label='eigen'; T in [DT_COMPLEX64]\n  device='CPU'; label='eigen'; T in [DT_INT64]\n  device='CPU'; label='eigen'; T in [DT_INT32]\n  device='CPU'; label='eigen'; T in [DT_BFLOAT16]\n  device='CPU'; label='eigen'; T in [DT_HALF]\n  device='CPU'; label='eigen'; T in [DT_DOUBLE]\n  device='CPU'; label='eigen'; T in [DT_FLOAT]\n  device='GPU'; label='cublas'; T in [DT_HALF]\n  device='GPU'; label='cublas'; T in [DT_COMPLEX128]\n  device='GPU'; label='cublas'; T in [DT_COMPLEX64]\n  device='GPU'; label='cublas'; T in [DT_DOUBLE]\n  device='GPU'; label='cublas'; T in [DT_FLOAT]\n  device='GPU'; T in [DT_HALF]\n  device='GPU'; T in [DT_COMPLEX128]\n  device='GPU'; T in [DT_COMPLEX64]\n  device='GPU'; T in [DT_DOUBLE]\n  device='GPU'; T in [DT_FLOAT]\n  device='CPU'; T in [DT_COMPLEX128]\n  device='CPU'; T in [DT_COMPLEX64]\n  device='CPU'; T in [DT_INT64]\n  device='CPU'; T in [DT_INT32]\n  device='CPU'; T in [DT_BFLOAT16]\n  device='CPU'; T in [DT_HALF]\n  device='CPU'; T in [DT_DOUBLE]\n  device='CPU'; T in [DT_FLOAT]\n\n\t [[{{node MatMul}}]]",
            "\nDuring handling of the above exception, another exception occurred:\n",
            "\u001b[0;31mInvalidArgumentError\u001b[0m                      Traceback (most recent call last)",
            "\u001b[0;32m<ipython-input-20-f326e3a03c92>\u001b[0m in \u001b[0;36m<module>\u001b[0;34m()\u001b[0m\n\u001b[1;32m      7\u001b[0m   \u001b[0;31m# 데이터 플로우 그래프 실행\u001b[0m\u001b[0;34m\u001b[0m\u001b[0;34m\u001b[0m\u001b[0;34m\u001b[0m\u001b[0m\n\u001b[1;32m      8\u001b[0m   \u001b[0;32mwith\u001b[0m \u001b[0mtf\u001b[0m\u001b[0;34m.\u001b[0m\u001b[0mSession\u001b[0m\u001b[0;34m(\u001b[0m\u001b[0;34m)\u001b[0m \u001b[0;32mas\u001b[0m \u001b[0msess\u001b[0m\u001b[0;34m:\u001b[0m\u001b[0;34m\u001b[0m\u001b[0;34m\u001b[0m\u001b[0m\n\u001b[0;32m----> 9\u001b[0;31m     \u001b[0mprint\u001b[0m\u001b[0;34m(\u001b[0m\u001b[0msess\u001b[0m\u001b[0;34m.\u001b[0m\u001b[0mrun\u001b[0m\u001b[0;34m(\u001b[0m\u001b[0mc\u001b[0m\u001b[0;34m)\u001b[0m\u001b[0;34m)\u001b[0m\u001b[0;34m\u001b[0m\u001b[0;34m\u001b[0m\u001b[0m\n\u001b[0m",
            "\u001b[0;32m/usr/local/lib/python3.6/dist-packages/tensorflow_core/python/client/session.py\u001b[0m in \u001b[0;36mrun\u001b[0;34m(self, fetches, feed_dict, options, run_metadata)\u001b[0m\n\u001b[1;32m    954\u001b[0m     \u001b[0;32mtry\u001b[0m\u001b[0;34m:\u001b[0m\u001b[0;34m\u001b[0m\u001b[0;34m\u001b[0m\u001b[0m\n\u001b[1;32m    955\u001b[0m       result = self._run(None, fetches, feed_dict, options_ptr,\n\u001b[0;32m--> 956\u001b[0;31m                          run_metadata_ptr)\n\u001b[0m\u001b[1;32m    957\u001b[0m       \u001b[0;32mif\u001b[0m \u001b[0mrun_metadata\u001b[0m\u001b[0;34m:\u001b[0m\u001b[0;34m\u001b[0m\u001b[0;34m\u001b[0m\u001b[0m\n\u001b[1;32m    958\u001b[0m         \u001b[0mproto_data\u001b[0m \u001b[0;34m=\u001b[0m \u001b[0mtf_session\u001b[0m\u001b[0;34m.\u001b[0m\u001b[0mTF_GetBuffer\u001b[0m\u001b[0;34m(\u001b[0m\u001b[0mrun_metadata_ptr\u001b[0m\u001b[0;34m)\u001b[0m\u001b[0;34m\u001b[0m\u001b[0;34m\u001b[0m\u001b[0m\n",
            "\u001b[0;32m/usr/local/lib/python3.6/dist-packages/tensorflow_core/python/client/session.py\u001b[0m in \u001b[0;36m_run\u001b[0;34m(self, handle, fetches, feed_dict, options, run_metadata)\u001b[0m\n\u001b[1;32m   1178\u001b[0m     \u001b[0;32mif\u001b[0m \u001b[0mfinal_fetches\u001b[0m \u001b[0;32mor\u001b[0m \u001b[0mfinal_targets\u001b[0m \u001b[0;32mor\u001b[0m \u001b[0;34m(\u001b[0m\u001b[0mhandle\u001b[0m \u001b[0;32mand\u001b[0m \u001b[0mfeed_dict_tensor\u001b[0m\u001b[0;34m)\u001b[0m\u001b[0;34m:\u001b[0m\u001b[0;34m\u001b[0m\u001b[0;34m\u001b[0m\u001b[0m\n\u001b[1;32m   1179\u001b[0m       results = self._do_run(handle, final_targets, final_fetches,\n\u001b[0;32m-> 1180\u001b[0;31m                              feed_dict_tensor, options, run_metadata)\n\u001b[0m\u001b[1;32m   1181\u001b[0m     \u001b[0;32melse\u001b[0m\u001b[0;34m:\u001b[0m\u001b[0;34m\u001b[0m\u001b[0;34m\u001b[0m\u001b[0m\n\u001b[1;32m   1182\u001b[0m       \u001b[0mresults\u001b[0m \u001b[0;34m=\u001b[0m \u001b[0;34m[\u001b[0m\u001b[0;34m]\u001b[0m\u001b[0;34m\u001b[0m\u001b[0;34m\u001b[0m\u001b[0m\n",
            "\u001b[0;32m/usr/local/lib/python3.6/dist-packages/tensorflow_core/python/client/session.py\u001b[0m in \u001b[0;36m_do_run\u001b[0;34m(self, handle, target_list, fetch_list, feed_dict, options, run_metadata)\u001b[0m\n\u001b[1;32m   1357\u001b[0m     \u001b[0;32mif\u001b[0m \u001b[0mhandle\u001b[0m \u001b[0;32mis\u001b[0m \u001b[0;32mNone\u001b[0m\u001b[0;34m:\u001b[0m\u001b[0;34m\u001b[0m\u001b[0;34m\u001b[0m\u001b[0m\n\u001b[1;32m   1358\u001b[0m       return self._do_call(_run_fn, feeds, fetches, targets, options,\n\u001b[0;32m-> 1359\u001b[0;31m                            run_metadata)\n\u001b[0m\u001b[1;32m   1360\u001b[0m     \u001b[0;32melse\u001b[0m\u001b[0;34m:\u001b[0m\u001b[0;34m\u001b[0m\u001b[0;34m\u001b[0m\u001b[0m\n\u001b[1;32m   1361\u001b[0m       \u001b[0;32mreturn\u001b[0m \u001b[0mself\u001b[0m\u001b[0;34m.\u001b[0m\u001b[0m_do_call\u001b[0m\u001b[0;34m(\u001b[0m\u001b[0m_prun_fn\u001b[0m\u001b[0;34m,\u001b[0m \u001b[0mhandle\u001b[0m\u001b[0;34m,\u001b[0m \u001b[0mfeeds\u001b[0m\u001b[0;34m,\u001b[0m \u001b[0mfetches\u001b[0m\u001b[0;34m)\u001b[0m\u001b[0;34m\u001b[0m\u001b[0;34m\u001b[0m\u001b[0m\n",
            "\u001b[0;32m/usr/local/lib/python3.6/dist-packages/tensorflow_core/python/client/session.py\u001b[0m in \u001b[0;36m_do_call\u001b[0;34m(self, fn, *args)\u001b[0m\n\u001b[1;32m   1382\u001b[0m                     \u001b[0;34m'\\nsession_config.graph_options.rewrite_options.'\u001b[0m\u001b[0;34m\u001b[0m\u001b[0;34m\u001b[0m\u001b[0m\n\u001b[1;32m   1383\u001b[0m                     'disable_meta_optimizer = True')\n\u001b[0;32m-> 1384\u001b[0;31m       \u001b[0;32mraise\u001b[0m \u001b[0mtype\u001b[0m\u001b[0;34m(\u001b[0m\u001b[0me\u001b[0m\u001b[0;34m)\u001b[0m\u001b[0;34m(\u001b[0m\u001b[0mnode_def\u001b[0m\u001b[0;34m,\u001b[0m \u001b[0mop\u001b[0m\u001b[0;34m,\u001b[0m \u001b[0mmessage\u001b[0m\u001b[0;34m)\u001b[0m\u001b[0;34m\u001b[0m\u001b[0;34m\u001b[0m\u001b[0m\n\u001b[0m\u001b[1;32m   1385\u001b[0m \u001b[0;34m\u001b[0m\u001b[0m\n\u001b[1;32m   1386\u001b[0m   \u001b[0;32mdef\u001b[0m \u001b[0m_extend_graph\u001b[0m\u001b[0;34m(\u001b[0m\u001b[0mself\u001b[0m\u001b[0;34m)\u001b[0m\u001b[0;34m:\u001b[0m\u001b[0;34m\u001b[0m\u001b[0;34m\u001b[0m\u001b[0m\n",
            "\u001b[0;31mInvalidArgumentError\u001b[0m: Cannot assign a device for operation MatMul: Could not satisfy explicit device specification '/device:GPU:0' because no supported kernel for GPU devices is available.\nColocation Debug Info:\nColocation group had the following types and supported devices: \nRoot Member(assigned_device_name_index_=-1 requested_device_name_='/device:GPU:0' assigned_device_name_='' resource_device_name_='' supported_device_types_=[CPU] possible_devices_=[]\nMatMul: CPU \n\nColocation members, user-requested devices, and framework assigned devices, if any:\n  MatMul (MatMul) /device:GPU:0\n\nOp: MatMul\nNode attrs: transpose_a=false, transpose_b=false, T=DT_INT32\nRegistered kernels:\n  device='XLA_GPU'; T in [DT_FLOAT, DT_DOUBLE, DT_COMPLEX64, DT_BFLOAT16, DT_COMPLEX128, DT_HALF]\n  device='XLA_CPU'; T in [DT_FLOAT, DT_DOUBLE, DT_COMPLEX64, DT_BFLOAT16, DT_COMPLEX128, DT_HALF]\n  device='XLA_CPU_JIT'; T in [DT_FLOAT, DT_DOUBLE, DT_COMPLEX64, DT_BFLOAT16, DT_COMPLEX128, DT_HALF]\n  device='XLA_GPU_JIT'; T in [DT_FLOAT, DT_DOUBLE, DT_COMPLEX64, DT_BFLOAT16, DT_COMPLEX128, DT_HALF]\n  device='CPU'; label='eigen'; T in [DT_COMPLEX128]\n  device='CPU'; label='eigen'; T in [DT_COMPLEX64]\n  device='CPU'; label='eigen'; T in [DT_INT64]\n  device='CPU'; label='eigen'; T in [DT_INT32]\n  device='CPU'; label='eigen'; T in [DT_BFLOAT16]\n  device='CPU'; label='eigen'; T in [DT_HALF]\n  device='CPU'; label='eigen'; T in [DT_DOUBLE]\n  device='CPU'; label='eigen'; T in [DT_FLOAT]\n  device='GPU'; label='cublas'; T in [DT_HALF]\n  device='GPU'; label='cublas'; T in [DT_COMPLEX128]\n  device='GPU'; label='cublas'; T in [DT_COMPLEX64]\n  device='GPU'; label='cublas'; T in [DT_DOUBLE]\n  device='GPU'; label='cublas'; T in [DT_FLOAT]\n  device='GPU'; T in [DT_HALF]\n  device='GPU'; T in [DT_COMPLEX128]\n  device='GPU'; T in [DT_COMPLEX64]\n  device='GPU'; T in [DT_DOUBLE]\n  device='GPU'; T in [DT_FLOAT]\n  device='CPU'; T in [DT_COMPLEX128]\n  device='CPU'; T in [DT_COMPLEX64]\n  device='CPU'; T in [DT_INT64]\n  device='CPU'; T in [DT_INT32]\n  device='CPU'; T in [DT_BFLOAT16]\n  device='CPU'; T in [DT_HALF]\n  device='CPU'; T in [DT_DOUBLE]\n  device='CPU'; T in [DT_FLOAT]\n\n\t [[node MatMul (defined at /usr/local/lib/python3.6/dist-packages/tensorflow_core/python/framework/ops.py:1748) ]]\n\nOriginal stack trace for 'MatMul':\n  File \"/usr/lib/python3.6/runpy.py\", line 193, in _run_module_as_main\n    \"__main__\", mod_spec)\n  File \"/usr/lib/python3.6/runpy.py\", line 85, in _run_code\n    exec(code, run_globals)\n  File \"/usr/local/lib/python3.6/dist-packages/ipykernel_launcher.py\", line 16, in <module>\n    app.launch_new_instance()\n  File \"/usr/local/lib/python3.6/dist-packages/traitlets/config/application.py\", line 664, in launch_instance\n    app.start()\n  File \"/usr/local/lib/python3.6/dist-packages/ipykernel/kernelapp.py\", line 477, in start\n    ioloop.IOLoop.instance().start()\n  File \"/usr/local/lib/python3.6/dist-packages/tornado/ioloop.py\", line 888, in start\n    handler_func(fd_obj, events)\n  File \"/usr/local/lib/python3.6/dist-packages/tornado/stack_context.py\", line 277, in null_wrapper\n    return fn(*args, **kwargs)\n  File \"/usr/local/lib/python3.6/dist-packages/zmq/eventloop/zmqstream.py\", line 450, in _handle_events\n    self._handle_recv()\n  File \"/usr/local/lib/python3.6/dist-packages/zmq/eventloop/zmqstream.py\", line 480, in _handle_recv\n    self._run_callback(callback, msg)\n  File \"/usr/local/lib/python3.6/dist-packages/zmq/eventloop/zmqstream.py\", line 432, in _run_callback\n    callback(*args, **kwargs)\n  File \"/usr/local/lib/python3.6/dist-packages/tornado/stack_context.py\", line 277, in null_wrapper\n    return fn(*args, **kwargs)\n  File \"/usr/local/lib/python3.6/dist-packages/ipykernel/kernelbase.py\", line 283, in dispatcher\n    return self.dispatch_shell(stream, msg)\n  File \"/usr/local/lib/python3.6/dist-packages/ipykernel/kernelbase.py\", line 235, in dispatch_shell\n    handler(stream, idents, msg)\n  File \"/usr/local/lib/python3.6/dist-packages/ipykernel/kernelbase.py\", line 399, in execute_request\n    user_expressions, allow_stdin)\n  File \"/usr/local/lib/python3.6/dist-packages/ipykernel/ipkernel.py\", line 196, in do_execute\n    res = shell.run_cell(code, store_history=store_history, silent=silent)\n  File \"/usr/local/lib/python3.6/dist-packages/ipykernel/zmqshell.py\", line 533, in run_cell\n    return super(ZMQInteractiveShell, self).run_cell(*args, **kwargs)\n  File \"/usr/local/lib/python3.6/dist-packages/IPython/core/interactiveshell.py\", line 2718, in run_cell\n    interactivity=interactivity, compiler=compiler, result=result)\n  File \"/usr/local/lib/python3.6/dist-packages/IPython/core/interactiveshell.py\", line 2822, in run_ast_nodes\n    if self.run_code(code, result):\n  File \"/usr/local/lib/python3.6/dist-packages/IPython/core/interactiveshell.py\", line 2882, in run_code\n    exec(code_obj, self.user_global_ns, self.user_ns)\n  File \"<ipython-input-20-f326e3a03c92>\", line 5, in <module>\n    c = tf.matmul(a , b)\n  File \"/usr/local/lib/python3.6/dist-packages/tensorflow_core/python/util/dispatch.py\", line 180, in wrapper\n    return target(*args, **kwargs)\n  File \"/usr/local/lib/python3.6/dist-packages/tensorflow_core/python/ops/math_ops.py\", line 2754, in matmul\n    a, b, transpose_a=transpose_a, transpose_b=transpose_b, name=name)\n  File \"/usr/local/lib/python3.6/dist-packages/tensorflow_core/python/ops/gen_math_ops.py\", line 6136, in mat_mul\n    name=name)\n  File \"/usr/local/lib/python3.6/dist-packages/tensorflow_core/python/framework/op_def_library.py\", line 794, in _apply_op_helper\n    op_def=op_def)\n  File \"/usr/local/lib/python3.6/dist-packages/tensorflow_core/python/util/deprecation.py\", line 507, in new_func\n    return func(*args, **kwargs)\n  File \"/usr/local/lib/python3.6/dist-packages/tensorflow_core/python/framework/ops.py\", line 3357, in create_op\n    attrs, op_def, compute_device)\n  File \"/usr/local/lib/python3.6/dist-packages/tensorflow_core/python/framework/ops.py\", line 3426, in _create_op_internal\n    op_def=op_def)\n  File \"/usr/local/lib/python3.6/dist-packages/tensorflow_core/python/framework/ops.py\", line 1748, in __init__\n    self._traceback = tf_stack.extract_stack()\n"
          ]
        }
      ]
    },
    {
      "cell_type": "code",
      "metadata": {
        "id": "3jnTQHrjBXfD",
        "colab_type": "code",
        "outputId": "de7edc10-6b0a-4296-8d8e-d4222e53323d",
        "colab": {
          "base_uri": "https://localhost:8080/",
          "height": 35
        }
      },
      "source": [
        "with tf.device(\"/CPU:0\"):\n",
        "  a = tf.constant( [[1,2,3],[4,5,6]] )    #2x3\n",
        "  b = tf.constant( [[1,2],[3,4],[5,6]] )  #3x2\n",
        "  c = tf.matmul(a , b)\n",
        "  print(c)"
      ],
      "execution_count": 0,
      "outputs": [
        {
          "output_type": "stream",
          "text": [
            "Tensor(\"MatMul_1:0\", shape=(2, 2), dtype=int32, device=/device:CPU:0)\n"
          ],
          "name": "stdout"
        }
      ]
    },
    {
      "cell_type": "markdown",
      "metadata": {
        "id": "ZyqTnnvz_FFP",
        "colab_type": "text"
      },
      "source": [
        "## Keras GPU 사용"
      ]
    },
    {
      "cell_type": "code",
      "metadata": {
        "id": "E-wSHPsS-ytG",
        "colab_type": "code",
        "colab": {}
      },
      "source": [
        "from keras import backend as K"
      ],
      "execution_count": 0,
      "outputs": []
    },
    {
      "cell_type": "code",
      "metadata": {
        "id": "-_owoajaHSmh",
        "colab_type": "code",
        "colab": {
          "base_uri": "https://localhost:8080/",
          "height": 35
        },
        "outputId": "c7553075-663b-49fc-d7fe-4a2586faf630"
      },
      "source": [
        "K.tensorflow_backend._get_available_gpus()"
      ],
      "execution_count": 24,
      "outputs": [
        {
          "output_type": "execute_result",
          "data": {
            "text/plain": [
              "['/job:localhost/replica:0/task:0/device:GPU:0']"
            ]
          },
          "metadata": {
            "tags": []
          },
          "execution_count": 24
        }
      ]
    },
    {
      "cell_type": "code",
      "metadata": {
        "id": "mrU9K_7XHW__",
        "colab_type": "code",
        "colab": {}
      },
      "source": [
        "sess = tf.Session()\n",
        "from keras.backend import tensorflow_backend as K\n",
        "# 메모리가 부족하면 자동적으로 증가 \n",
        "# GPU 메모리를 작업에 올인해서 사용하는가? \n",
        "# 일부만  사용하다가 부족하면 증설하는가?\n",
        "config = tf.ConfigProto()\n",
        "config.gpu_options.allow_growth = True\n",
        "K.set_session( tf.Session(config=config) )\n",
        "\n",
        "\n",
        "with tf.device( '/device:GPU:0' ):\n",
        "  pass\n",
        "\n",
        "\n",
        "\n",
        "\n",
        "sess.close()"
      ],
      "execution_count": 0,
      "outputs": []
    },
    {
      "cell_type": "markdown",
      "metadata": {
        "id": "opLO0kGBJBAs",
        "colab_type": "text"
      },
      "source": [
        "# 텐서 생성2"
      ]
    },
    {
      "cell_type": "markdown",
      "metadata": {
        "id": "ZIovPB_UJGKw",
        "colab_type": "text"
      },
      "source": [
        "## 랜덤 텐서"
      ]
    },
    {
      "cell_type": "code",
      "metadata": {
        "id": "fa0BMlnVJFkI",
        "colab_type": "code",
        "colab": {
          "base_uri": "https://localhost:8080/",
          "height": 53
        },
        "outputId": "500a0d95-96e3-4e06-99b1-240d3fb3f5f1"
      },
      "source": [
        "# 0 ~ 1 사이로 랜덤하게, 2x3 행렬을 생성해라\n",
        "# 인자중에 *size => [가변인자], shape을 설명하는\n",
        "torch.rand( 2,3 )"
      ],
      "execution_count": 25,
      "outputs": [
        {
          "output_type": "execute_result",
          "data": {
            "text/plain": [
              "tensor([[0.5555, 0.5277, 0.8243],\n",
              "        [0.5785, 0.4085, 0.9964]])"
            ]
          },
          "metadata": {
            "tags": []
          },
          "execution_count": 25
        }
      ]
    },
    {
      "cell_type": "code",
      "metadata": {
        "id": "kBNQNM0-Jlpg",
        "colab_type": "code",
        "colab": {
          "base_uri": "https://localhost:8080/",
          "height": 53
        },
        "outputId": "67e08b60-56b1-4067-bf27-5453674aec86"
      },
      "source": [
        "# 0 ~ 8 까지 랜덤 2x3 , 정수로\n",
        "torch.randint( low=0, high=8, size=(2,3) )"
      ],
      "execution_count": 26,
      "outputs": [
        {
          "output_type": "execute_result",
          "data": {
            "text/plain": [
              "tensor([[4, 3, 5],\n",
              "        [6, 1, 1]])"
            ]
          },
          "metadata": {
            "tags": []
          },
          "execution_count": 26
        }
      ]
    },
    {
      "cell_type": "code",
      "metadata": {
        "id": "D6z3xreyKMdG",
        "colab_type": "code",
        "colab": {
          "base_uri": "https://localhost:8080/",
          "height": 53
        },
        "outputId": "847202fa-6d61-4316-8f4d-0f06009967d7"
      },
      "source": [
        "# 제로텐서\n",
        "torch.zeros( 2,2 ) # 영행렬을 생성"
      ],
      "execution_count": 29,
      "outputs": [
        {
          "output_type": "execute_result",
          "data": {
            "text/plain": [
              "tensor([[0., 0.],\n",
              "        [0., 0.]])"
            ]
          },
          "metadata": {
            "tags": []
          },
          "execution_count": 29
        }
      ]
    },
    {
      "cell_type": "code",
      "metadata": {
        "id": "wT6M7WYNKnPn",
        "colab_type": "code",
        "colab": {
          "base_uri": "https://localhost:8080/",
          "height": 71
        },
        "outputId": "dfffdd22-4746-4955-9b37-c6330182d819"
      },
      "source": [
        "x = torch.ones(3,3)\n",
        "x"
      ],
      "execution_count": 30,
      "outputs": [
        {
          "output_type": "execute_result",
          "data": {
            "text/plain": [
              "tensor([[1., 1., 1.],\n",
              "        [1., 1., 1.],\n",
              "        [1., 1., 1.]])"
            ]
          },
          "metadata": {
            "tags": []
          },
          "execution_count": 30
        }
      ]
    },
    {
      "cell_type": "code",
      "metadata": {
        "id": "YPJ77wJOLPHY",
        "colab_type": "code",
        "colab": {
          "base_uri": "https://localhost:8080/",
          "height": 71
        },
        "outputId": "414b00e6-baff-4e23-f1d5-33eee66db8bf"
      },
      "source": [
        "# 매개변수의 x의 shape 과 동일한 텐서를 만들고 0으로 채운다\n",
        "torch.zeros_like(x)"
      ],
      "execution_count": 31,
      "outputs": [
        {
          "output_type": "execute_result",
          "data": {
            "text/plain": [
              "tensor([[0., 0., 0.],\n",
              "        [0., 0., 0.],\n",
              "        [0., 0., 0.]])"
            ]
          },
          "metadata": {
            "tags": []
          },
          "execution_count": 31
        }
      ]
    },
    {
      "cell_type": "code",
      "metadata": {
        "id": "UfPXal1tLWxA",
        "colab_type": "code",
        "colab": {
          "base_uri": "https://localhost:8080/",
          "height": 71
        },
        "outputId": "cb7c2ad5-04c8-49f4-f31e-e0d3f2ad13e2"
      },
      "source": [
        "torch.ones_like(x)"
      ],
      "execution_count": 32,
      "outputs": [
        {
          "output_type": "execute_result",
          "data": {
            "text/plain": [
              "tensor([[1., 1., 1.],\n",
              "        [1., 1., 1.],\n",
              "        [1., 1., 1.]])"
            ]
          },
          "metadata": {
            "tags": []
          },
          "execution_count": 32
        }
      ]
    },
    {
      "cell_type": "code",
      "metadata": {
        "id": "rehP8qrbLZ0o",
        "colab_type": "code",
        "colab": {}
      },
      "source": [
        "# gpu를 이용해서 처리한다면\n",
        "# torch.zeros_like(x.cuda())"
      ],
      "execution_count": 0,
      "outputs": []
    },
    {
      "cell_type": "code",
      "metadata": {
        "id": "Fxx0ei5ZMhrl",
        "colab_type": "code",
        "colab": {
          "base_uri": "https://localhost:8080/",
          "height": 35
        },
        "outputId": "47f85e35-6c1d-45fa-f106-b964074fe2cd"
      },
      "source": [
        "# 실수형 텐서\n",
        "a = torch.FloatTensor( np.array( [1,2,3,4] ))\n",
        "a, type(a), a.type()\n",
        "# 파이토치에서 타입확인은 : a.type()"
      ],
      "execution_count": 33,
      "outputs": [
        {
          "output_type": "execute_result",
          "data": {
            "text/plain": [
              "(tensor([1., 2., 3., 4.]), torch.Tensor, 'torch.FloatTensor')"
            ]
          },
          "metadata": {
            "tags": []
          },
          "execution_count": 33
        }
      ]
    },
    {
      "cell_type": "code",
      "metadata": {
        "id": "FqDcveHYNc5y",
        "colab_type": "code",
        "colab": {
          "base_uri": "https://localhost:8080/",
          "height": 35
        },
        "outputId": "bfe93282-a5ed-428b-9cc0-efb51a162965"
      },
      "source": [
        "# 정수형 텐서\n",
        "a = torch.LongTensor( np.array( [1,2,3,4,5] ))\n",
        "a, type(a), a.type()\n",
        "# 파이토치에서 타입확인은 : xxx.type()"
      ],
      "execution_count": 36,
      "outputs": [
        {
          "output_type": "execute_result",
          "data": {
            "text/plain": [
              "(tensor([1, 2, 3, 4, 5]), torch.Tensor, 'torch.LongTensor')"
            ]
          },
          "metadata": {
            "tags": []
          },
          "execution_count": 36
        }
      ]
    },
    {
      "cell_type": "code",
      "metadata": {
        "id": "mI1pnUPyM6Xt",
        "colab_type": "code",
        "colab": {
          "base_uri": "https://localhost:8080/",
          "height": 35
        },
        "outputId": "56cbd3a1-3fd5-49c5-a146-cd923693b31f"
      },
      "source": [
        "# 불린형 텐서\n",
        "a = torch.BoolTensor( np.array( [True, False, True] ))\n",
        "a, type(a), a.type()\n",
        "# 파이토치에서 타입확인은 : xxx.type()"
      ],
      "execution_count": 35,
      "outputs": [
        {
          "output_type": "execute_result",
          "data": {
            "text/plain": [
              "(tensor([ True, False,  True]), torch.Tensor, 'torch.BoolTensor')"
            ]
          },
          "metadata": {
            "tags": []
          },
          "execution_count": 35
        }
      ]
    },
    {
      "cell_type": "markdown",
      "metadata": {
        "id": "ETg2MzP4Nxxy",
        "colab_type": "text"
      },
      "source": [
        "# 텐서 조작 (행렬조작)\n",
        "\n",
        "- slicing\n",
        "- view\n",
        "- transpose\n",
        "- squeeze, unsqeeze\n",
        "- cat, stack\n",
        "- 사칙연산 ( + - * )\n",
        "- sum. mean\n",
        "- max, argmax, min, argmin\n",
        "- 논리연산"
      ]
    },
    {
      "cell_type": "code",
      "metadata": {
        "id": "_JMm8aPVNxNx",
        "colab_type": "code",
        "colab": {
          "base_uri": "https://localhost:8080/",
          "height": 35
        },
        "outputId": "99cbe3a1-9918-4479-b325-c40c7c506d24"
      },
      "source": [
        "# 씨드(seed)고정 => 발생되는 난수의 순서를 고정 => 실험시 유용하게 변수(상황)들을 통제하기 위해서\n",
        "# 512 : 임시 설정값\n",
        "torch.manual_seed(512)"
      ],
      "execution_count": 37,
      "outputs": [
        {
          "output_type": "execute_result",
          "data": {
            "text/plain": [
              "<torch._C.Generator at 0x7fd0bdaa34b0>"
            ]
          },
          "metadata": {
            "tags": []
          },
          "execution_count": 37
        }
      ]
    },
    {
      "cell_type": "code",
      "metadata": {
        "id": "UxIpzjgANZvo",
        "colab_type": "code",
        "colab": {
          "base_uri": "https://localhost:8080/",
          "height": 143
        },
        "outputId": "5822fd21-2a1d-437a-d792-802d0f34f09a"
      },
      "source": [
        "# 크기 2x3x4 3차(3d) Tensor(=큐브)\n",
        "x = torch.randint( low=0, high=10, size=(2,3,4) )\n",
        "x"
      ],
      "execution_count": 5,
      "outputs": [
        {
          "output_type": "execute_result",
          "data": {
            "text/plain": [
              "tensor([[[4, 8, 6, 6],\n",
              "         [7, 5, 6, 7],\n",
              "         [5, 2, 7, 7]],\n",
              "\n",
              "        [[6, 9, 0, 2],\n",
              "         [7, 4, 2, 1],\n",
              "         [3, 9, 7, 9]]])"
            ]
          },
          "metadata": {
            "tags": []
          },
          "execution_count": 5
        }
      ]
    },
    {
      "cell_type": "markdown",
      "metadata": {
        "id": "qnXihg0KlVpo",
        "colab_type": "text"
      },
      "source": [
        "## slicing"
      ]
    },
    {
      "cell_type": "code",
      "metadata": {
        "id": "1dE004-QPmQR",
        "colab_type": "code",
        "colab": {
          "base_uri": "https://localhost:8080/",
          "height": 35
        },
        "outputId": "f56ba114-3bbe-4988-a716-356b01af66e0"
      },
      "source": [
        "# 인덱싱은 전형적인 표현, { 1차, 2차, 3차,...} 이렇게도 표현 가능\n",
        "x[0][0], x[0,0], x[0,0,0]"
      ],
      "execution_count": 7,
      "outputs": [
        {
          "output_type": "execute_result",
          "data": {
            "text/plain": [
              "(tensor([4, 8, 6, 6]), tensor([4, 8, 6, 6]), tensor(4))"
            ]
          },
          "metadata": {
            "tags": []
          },
          "execution_count": 7
        }
      ]
    },
    {
      "cell_type": "code",
      "metadata": {
        "id": "ojrT4dqtdppk",
        "colab_type": "code",
        "colab": {
          "base_uri": "https://localhost:8080/",
          "height": 35
        },
        "outputId": "8d0097f6-a65f-40ca-ce83-a147fe4de466"
      },
      "source": [
        "len(x)"
      ],
      "execution_count": 8,
      "outputs": [
        {
          "output_type": "execute_result",
          "data": {
            "text/plain": [
              "2"
            ]
          },
          "metadata": {
            "tags": []
          },
          "execution_count": 8
        }
      ]
    },
    {
      "cell_type": "code",
      "metadata": {
        "id": "D12QyVr3c3te",
        "colab_type": "code",
        "colab": {}
      },
      "source": [
        "# 텐서의 시각화 점수\n",
        "# src : Tensor\n",
        "def drawTensor(src):\n",
        "  fig, axes = plt.subplots(len(src),1)\n",
        "  for i in range( len(src) ):\n",
        "    # src.numpy() : 텐서를 배열로 복원\n",
        "    axes[i].matshow( src.numpy()[i], vmin=0, vmax=1, cmap='gray' )\n",
        "    plt.show()"
      ],
      "execution_count": 0,
      "outputs": []
    },
    {
      "cell_type": "code",
      "metadata": {
        "id": "nmwRR8opeZSy",
        "colab_type": "code",
        "colab": {
          "base_uri": "https://localhost:8080/",
          "height": 143
        },
        "outputId": "b492abde-7730-4269-fc27-7daa863c72d5"
      },
      "source": [
        "# 시각화 할 텐서 준비\n",
        "tmp = torch.ones_like( x )\n",
        "tmp"
      ],
      "execution_count": 12,
      "outputs": [
        {
          "output_type": "execute_result",
          "data": {
            "text/plain": [
              "tensor([[[1, 1, 1, 1],\n",
              "         [1, 1, 1, 1],\n",
              "         [1, 1, 1, 1]],\n",
              "\n",
              "        [[1, 1, 1, 1],\n",
              "         [1, 1, 1, 1],\n",
              "         [1, 1, 1, 1]]])"
            ]
          },
          "metadata": {
            "tags": []
          },
          "execution_count": 12
        }
      ]
    },
    {
      "cell_type": "code",
      "metadata": {
        "id": "SI24ImpgeZX3",
        "colab_type": "code",
        "colab": {
          "base_uri": "https://localhost:8080/",
          "height": 282
        },
        "outputId": "6c3e530e-10f0-4a87-b459-833063f6366e"
      },
      "source": [
        "# 조작전 tmp를 드로잉 1이면 흰색\n",
        "drawTensor(tmp)"
      ],
      "execution_count": 13,
      "outputs": [
        {
          "output_type": "display_data",
          "data": {
            "image/png": "[encoded data removed]",
            "text/plain": [
              "<Figure size 432x288 with 2 Axes>"
            ]
          },
          "metadata": {
            "tags": []
          }
        }
      ]
    },
    {
      "cell_type": "code",
      "metadata": {
        "id": "N5BJYzDVeZac",
        "colab_type": "code",
        "colab": {
          "base_uri": "https://localhost:8080/",
          "height": 143
        },
        "outputId": "7861b2b4-883b-4570-d2e9-feec4f992b1f"
      },
      "source": [
        "# 원본 조작\n",
        "tmp[0,2,3] = 0\n",
        "tmp"
      ],
      "execution_count": 16,
      "outputs": [
        {
          "output_type": "execute_result",
          "data": {
            "text/plain": [
              "tensor([[[1, 1, 1, 1],\n",
              "         [1, 1, 1, 1],\n",
              "         [1, 1, 1, 0]],\n",
              "\n",
              "        [[1, 1, 1, 1],\n",
              "         [1, 1, 1, 1],\n",
              "         [1, 1, 1, 1]]])"
            ]
          },
          "metadata": {
            "tags": []
          },
          "execution_count": 16
        }
      ]
    },
    {
      "cell_type": "code",
      "metadata": {
        "id": "x5ZxibtJeZcy",
        "colab_type": "code",
        "colab": {
          "base_uri": "https://localhost:8080/",
          "height": 282
        },
        "outputId": "6f166c1a-b4ca-4398-b95c-08c6ca53e0d0"
      },
      "source": [
        "drawTensor(tmp)"
      ],
      "execution_count": 15,
      "outputs": [
        {
          "output_type": "display_data",
          "data": {
            "image/png": "[encoded data removed]",
            "text/plain": [
              "<Figure size 432x288 with 2 Axes>"
            ]
          },
          "metadata": {
            "tags": []
          }
        }
      ]
    },
    {
      "cell_type": "code",
      "metadata": {
        "id": "qOyTUq8feZfZ",
        "colab_type": "code",
        "colab": {
          "base_uri": "https://localhost:8080/",
          "height": 282
        },
        "outputId": "6b9f5e14-21d4-4fd4-f05e-d4f35a2985aa"
      },
      "source": [
        "tmp = torch.ones_like( x )\n",
        "# 차원별로 변경된 부분은 검토하면 간단하게 해결\n",
        "# 1차원 -> 2차원 -> 3차원\n",
        "tmp[0,:2,3] = 0\n",
        "drawTensor(tmp)"
      ],
      "execution_count": 18,
      "outputs": [
        {
          "output_type": "display_data",
          "data": {
            "image/png": "[encoded data removed]",
            "text/plain": [
              "<Figure size 432x288 with 2 Axes>"
            ]
          },
          "metadata": {
            "tags": []
          }
        }
      ]
    },
    {
      "cell_type": "markdown",
      "metadata": {
        "id": "OsESzUh4hZxC",
        "colab_type": "text"
      },
      "source": [
        "- 텐서에서 특정 정보를 추출, 변경 할 경우\n",
        "- 인덱싱(차원축소) or 슬라이싱을 통해서 처리가 가능\n",
        "- 표현\n",
        "  - 텐서명[1차,2차,3차,...]"
      ]
    },
    {
      "cell_type": "markdown",
      "metadata": {
        "id": "jkUQh2X7irnF",
        "colab_type": "text"
      },
      "source": [
        "## view\n",
        "- 텐서의 shape을 변경 (=reshape)"
      ]
    },
    {
      "cell_type": "code",
      "metadata": {
        "id": "OuzdKLHgeZhs",
        "colab_type": "code",
        "colab": {
          "base_uri": "https://localhost:8080/",
          "height": 143
        },
        "outputId": "fb3af04c-36a7-4944-f647-30be09691ab8"
      },
      "source": [
        "x.shape, x, x.dtype, x.ndim"
      ],
      "execution_count": 19,
      "outputs": [
        {
          "output_type": "execute_result",
          "data": {
            "text/plain": [
              "(torch.Size([2, 3, 4]), tensor([[[4, 8, 6, 0],\n",
              "          [7, 5, 6, 0],\n",
              "          [5, 2, 7, 7]],\n",
              " \n",
              "         [[6, 9, 0, 2],\n",
              "          [7, 4, 2, 1],\n",
              "          [3, 9, 7, 9]]]), torch.int64, 3)"
            ]
          },
          "metadata": {
            "tags": []
          },
          "execution_count": 19
        }
      ]
    },
    {
      "cell_type": "code",
      "metadata": {
        "id": "NpSxgetFhKxG",
        "colab_type": "code",
        "colab": {
          "base_uri": "https://localhost:8080/",
          "height": 107
        },
        "outputId": "e8b519ab-6f8f-4de0-9178-81ac15de2c14"
      },
      "source": [
        "# shape 변경\n",
        "x.reshape(2, 2, 6)"
      ],
      "execution_count": 21,
      "outputs": [
        {
          "output_type": "execute_result",
          "data": {
            "text/plain": [
              "tensor([[[4, 8, 6, 0, 7, 5],\n",
              "         [6, 0, 5, 2, 7, 7]],\n",
              "\n",
              "        [[6, 9, 0, 2, 7, 4],\n",
              "         [2, 1, 3, 9, 7, 9]]])"
            ]
          },
          "metadata": {
            "tags": []
          },
          "execution_count": 21
        }
      ]
    },
    {
      "cell_type": "code",
      "metadata": {
        "id": "Buk8WSMZhKzy",
        "colab_type": "code",
        "colab": {
          "base_uri": "https://localhost:8080/",
          "height": 107
        },
        "outputId": "5738abb6-239c-4791-b571-ef0147a3e2f7"
      },
      "source": [
        "x.view(2,2,6)"
      ],
      "execution_count": 22,
      "outputs": [
        {
          "output_type": "execute_result",
          "data": {
            "text/plain": [
              "tensor([[[4, 8, 6, 0, 7, 5],\n",
              "         [6, 0, 5, 2, 7, 7]],\n",
              "\n",
              "        [[6, 9, 0, 2, 7, 4],\n",
              "         [2, 1, 3, 9, 7, 9]]])"
            ]
          },
          "metadata": {
            "tags": []
          },
          "execution_count": 22
        }
      ]
    },
    {
      "cell_type": "code",
      "metadata": {
        "id": "utt1atBMhK2j",
        "colab_type": "code",
        "colab": {
          "base_uri": "https://localhost:8080/",
          "height": 71
        },
        "outputId": "1adb26fd-1577-43f4-a789-d6350a05403d"
      },
      "source": [
        "# -1 을사용한다면 => 몇개나올지 모른다 => 알아서 맞춰달라\n",
        "x.view(-1,1,12)"
      ],
      "execution_count": 23,
      "outputs": [
        {
          "output_type": "execute_result",
          "data": {
            "text/plain": [
              "tensor([[[4, 8, 6, 0, 7, 5, 6, 0, 5, 2, 7, 7]],\n",
              "\n",
              "        [[6, 9, 0, 2, 7, 4, 2, 1, 3, 9, 7, 9]]])"
            ]
          },
          "metadata": {
            "tags": []
          },
          "execution_count": 23
        }
      ]
    },
    {
      "cell_type": "markdown",
      "metadata": {
        "id": "hc4nmfuDkP2y",
        "colab_type": "text"
      },
      "source": [
        "## transpose\n",
        "\n",
        "- 차원의 맞교환\n",
        "- (2,3,4) -> (3,2,4)\n"
      ]
    },
    {
      "cell_type": "code",
      "metadata": {
        "id": "CVs0mTvtkWMf",
        "colab_type": "code",
        "colab": {
          "base_uri": "https://localhost:8080/",
          "height": 143
        },
        "outputId": "9bbd1715-03c7-45a3-d577-ce3c50eac323"
      },
      "source": [
        "x.shape, x"
      ],
      "execution_count": 25,
      "outputs": [
        {
          "output_type": "execute_result",
          "data": {
            "text/plain": [
              "(torch.Size([2, 3, 4]), tensor([[[4, 8, 6, 0],\n",
              "          [7, 5, 6, 0],\n",
              "          [5, 2, 7, 7]],\n",
              " \n",
              "         [[6, 9, 0, 2],\n",
              "          [7, 4, 2, 1],\n",
              "          [3, 9, 7, 9]]]))"
            ]
          },
          "metadata": {
            "tags": []
          },
          "execution_count": 25
        }
      ]
    },
    {
      "cell_type": "code",
      "metadata": {
        "id": "vrheGfdGkWVL",
        "colab_type": "code",
        "colab": {
          "base_uri": "https://localhost:8080/",
          "height": 161
        },
        "outputId": "89c6f60f-f7e5-450d-a0f9-762b0aec20ae"
      },
      "source": [
        "# 첫번째 차원과 두번째 차원을 교환\n",
        "tmp2 = x.transpose( 0, 1)\n",
        "tmp2, tmp2.shape"
      ],
      "execution_count": 27,
      "outputs": [
        {
          "output_type": "execute_result",
          "data": {
            "text/plain": [
              "(tensor([[[4, 8, 6, 0],\n",
              "          [6, 9, 0, 2]],\n",
              " \n",
              "         [[7, 5, 6, 0],\n",
              "          [7, 4, 2, 1]],\n",
              " \n",
              "         [[5, 2, 7, 7],\n",
              "          [3, 9, 7, 9]]]), torch.Size([3, 2, 4]))"
            ]
          },
          "metadata": {
            "tags": []
          },
          "execution_count": 27
        }
      ]
    },
    {
      "cell_type": "markdown",
      "metadata": {
        "id": "EqRaIwGklKvi",
        "colab_type": "text"
      },
      "source": [
        "## squeeze, unsqueeze\n",
        "- squeeze : 크기가 1인 차원을 모두 제거\n",
        "- unsqueeze : 특정 차원을 추가"
      ]
    },
    {
      "cell_type": "code",
      "metadata": {
        "id": "ep1-ZdHUkWXm",
        "colab_type": "code",
        "colab": {
          "base_uri": "https://localhost:8080/",
          "height": 575
        },
        "outputId": "5b1e784b-65dd-4278-e830-c6efdde02efe"
      },
      "source": [
        "x = torch.rand( (2,1,3,4,1) )\n",
        "x"
      ],
      "execution_count": 28,
      "outputs": [
        {
          "output_type": "execute_result",
          "data": {
            "text/plain": [
              "tensor([[[[[0.2823],\n",
              "           [0.7216],\n",
              "           [0.6258],\n",
              "           [0.8947]],\n",
              "\n",
              "          [[0.9567],\n",
              "           [0.7623],\n",
              "           [0.4167],\n",
              "           [0.7152]],\n",
              "\n",
              "          [[0.3116],\n",
              "           [0.6880],\n",
              "           [0.3316],\n",
              "           [0.9006]]]],\n",
              "\n",
              "\n",
              "\n",
              "        [[[[0.0077],\n",
              "           [0.7536],\n",
              "           [0.2119],\n",
              "           [0.8693]],\n",
              "\n",
              "          [[0.9445],\n",
              "           [0.0088],\n",
              "           [0.7532],\n",
              "           [0.3338]],\n",
              "\n",
              "          [[0.7240],\n",
              "           [0.4314],\n",
              "           [0.0432],\n",
              "           [0.4888]]]]])"
            ]
          },
          "metadata": {
            "tags": []
          },
          "execution_count": 28
        }
      ]
    },
    {
      "cell_type": "code",
      "metadata": {
        "id": "EHfbep2FkWaE",
        "colab_type": "code",
        "colab": {
          "base_uri": "https://localhost:8080/",
          "height": 35
        },
        "outputId": "6d15969d-18c0-4974-9acb-9dce4b112a53"
      },
      "source": [
        "# 모든 차원에서 크기가 1인 차원을 제거하여 크기를 줄인다\n",
        "# (2,3,4)\n",
        "x.squeeze().size()"
      ],
      "execution_count": 29,
      "outputs": [
        {
          "output_type": "execute_result",
          "data": {
            "text/plain": [
              "torch.Size([2, 3, 4])"
            ]
          },
          "metadata": {
            "tags": []
          },
          "execution_count": 29
        }
      ]
    },
    {
      "cell_type": "code",
      "metadata": {
        "id": "OGApl31XkWc0",
        "colab_type": "code",
        "colab": {
          "base_uri": "https://localhost:8080/",
          "height": 143
        },
        "outputId": "eaa69c1c-3dd8-4d47-e47f-a9732ff35401"
      },
      "source": [
        "x.squeeze()"
      ],
      "execution_count": 30,
      "outputs": [
        {
          "output_type": "execute_result",
          "data": {
            "text/plain": [
              "tensor([[[0.2823, 0.7216, 0.6258, 0.8947],\n",
              "         [0.9567, 0.7623, 0.4167, 0.7152],\n",
              "         [0.3116, 0.6880, 0.3316, 0.9006]],\n",
              "\n",
              "        [[0.0077, 0.7536, 0.2119, 0.8693],\n",
              "         [0.9445, 0.0088, 0.7532, 0.3338],\n",
              "         [0.7240, 0.4314, 0.0432, 0.4888]]])"
            ]
          },
          "metadata": {
            "tags": []
          },
          "execution_count": 30
        }
      ]
    },
    {
      "cell_type": "code",
      "metadata": {
        "id": "0c2qKWsNkWSh",
        "colab_type": "code",
        "colab": {
          "base_uri": "https://localhost:8080/",
          "height": 71
        },
        "outputId": "71e6cc00-7703-4f04-85bd-27c16d31222a"
      },
      "source": [
        "# x.squeeze(차원의인덱스번호 0 ->1차원) , 해당 차원의 크기가 1이면 제거\n",
        "x.shape, x.squeeze(1).size(), x.squeeze(4).size()"
      ],
      "execution_count": 31,
      "outputs": [
        {
          "output_type": "execute_result",
          "data": {
            "text/plain": [
              "(torch.Size([2, 1, 3, 4, 1]),\n",
              " torch.Size([2, 3, 4, 1]),\n",
              " torch.Size([2, 1, 3, 4]))"
            ]
          },
          "metadata": {
            "tags": []
          },
          "execution_count": 31
        }
      ]
    },
    {
      "cell_type": "code",
      "metadata": {
        "id": "FaKUXVApkWQb",
        "colab_type": "code",
        "colab": {
          "base_uri": "https://localhost:8080/",
          "height": 35
        },
        "outputId": "ddf2b331-7c31-4356-dc70-2c19bc33df83"
      },
      "source": [
        "# 차원을 삽입\n",
        "x.unsqueeze(3).size()"
      ],
      "execution_count": 32,
      "outputs": [
        {
          "output_type": "execute_result",
          "data": {
            "text/plain": [
              "torch.Size([2, 1, 3, 1, 4, 1])"
            ]
          },
          "metadata": {
            "tags": []
          },
          "execution_count": 32
        }
      ]
    },
    {
      "cell_type": "markdown",
      "metadata": {
        "id": "Vt-ChP2_siXk",
        "colab_type": "text"
      },
      "source": [
        "## cat, stack\n",
        "- 텐서를 합친다, 쌓는다 => 경우에 따라서는 차원축소가 될 수도 있다\n",
        "- cat : 특정 차원을 중심으로 단순 합치기, 해당 차원의 숫자가 증가된다 =>(2,3),(2,3) => (4,3)"
      ]
    },
    {
      "cell_type": "code",
      "metadata": {
        "id": "Bhstli4WeZVq",
        "colab_type": "code",
        "colab": {
          "base_uri": "https://localhost:8080/",
          "height": 35
        },
        "outputId": "2a22149e-b9d4-4501-99d6-61b6d98d1b41"
      },
      "source": [
        "# 텐서의 차원수\n",
        "x.ndim, x.ndimension()"
      ],
      "execution_count": 33,
      "outputs": [
        {
          "output_type": "execute_result",
          "data": {
            "text/plain": [
              "(5, 5)"
            ]
          },
          "metadata": {
            "tags": []
          },
          "execution_count": 33
        }
      ]
    },
    {
      "cell_type": "code",
      "metadata": {
        "id": "CdUZuqzyoPgK",
        "colab_type": "code",
        "colab": {}
      },
      "source": [
        "# 시각화 함수 확장\n",
        "def drawTensorEx(src):\n",
        "  # 2차원 밑이면 1로, 크면 원본 텐서의 1차원의 개수로 값을 설정\n",
        "  subplot_size = 1 if src.ndimension() <=2 else src.size(0)\n",
        "  print(subplot_size)\n",
        "  # 시각화 차트 자리 준비\n",
        "  fig, axes = plt.subplots(subplot_size,1)\n",
        "  if subplot_size == 1:\n",
        "    axes.matshow( src.numpy(), vmin=0, vmax=1, cmap='gray' )\n",
        "  else:\n",
        "    for i in range( len(src) ):\n",
        "      axes[i].matshow( src.numpy()[i], vmin=0, vmax=1, cmap='gray' )\n",
        "    plt.show()"
      ],
      "execution_count": 0,
      "outputs": []
    },
    {
      "cell_type": "code",
      "metadata": {
        "id": "ZVL5YHzboPjU",
        "colab_type": "code",
        "colab": {
          "base_uri": "https://localhost:8080/",
          "height": 592
        },
        "outputId": "98180515-f9bd-4b82-f4d7-2fde08b36c18"
      },
      "source": [
        "drawTensorEx(x)"
      ],
      "execution_count": 40,
      "outputs": [
        {
          "output_type": "stream",
          "text": [
            "2\n"
          ],
          "name": "stdout"
        },
        {
          "output_type": "error",
          "ename": "TypeError",
          "evalue": "ignored",
          "traceback": [
            "\u001b[0;31m---------------------------------------------------------------------------\u001b[0m",
            "\u001b[0;31mTypeError\u001b[0m                                 Traceback (most recent call last)",
            "\u001b[0;32m<ipython-input-40-4149bbb7a3f7>\u001b[0m in \u001b[0;36m<module>\u001b[0;34m()\u001b[0m\n\u001b[0;32m----> 1\u001b[0;31m \u001b[0mdrawTensorEx\u001b[0m\u001b[0;34m(\u001b[0m\u001b[0mx\u001b[0m\u001b[0;34m)\u001b[0m\u001b[0;34m\u001b[0m\u001b[0;34m\u001b[0m\u001b[0m\n\u001b[0m",
            "\u001b[0;32m<ipython-input-39-cbb4bc8b3249>\u001b[0m in \u001b[0;36mdrawTensorEx\u001b[0;34m(src)\u001b[0m\n\u001b[1;32m      9\u001b[0m   \u001b[0;32melse\u001b[0m\u001b[0;34m:\u001b[0m\u001b[0;34m\u001b[0m\u001b[0;34m\u001b[0m\u001b[0m\n\u001b[1;32m     10\u001b[0m     \u001b[0;32mfor\u001b[0m \u001b[0mi\u001b[0m \u001b[0;32min\u001b[0m \u001b[0mrange\u001b[0m\u001b[0;34m(\u001b[0m \u001b[0mlen\u001b[0m\u001b[0;34m(\u001b[0m\u001b[0msrc\u001b[0m\u001b[0;34m)\u001b[0m \u001b[0;34m)\u001b[0m\u001b[0;34m:\u001b[0m\u001b[0;34m\u001b[0m\u001b[0;34m\u001b[0m\u001b[0m\n\u001b[0;32m---> 11\u001b[0;31m       \u001b[0maxes\u001b[0m\u001b[0;34m[\u001b[0m\u001b[0mi\u001b[0m\u001b[0;34m]\u001b[0m\u001b[0;34m.\u001b[0m\u001b[0mmatshow\u001b[0m\u001b[0;34m(\u001b[0m \u001b[0msrc\u001b[0m\u001b[0;34m.\u001b[0m\u001b[0mnumpy\u001b[0m\u001b[0;34m(\u001b[0m\u001b[0;34m)\u001b[0m\u001b[0;34m[\u001b[0m\u001b[0mi\u001b[0m\u001b[0;34m]\u001b[0m\u001b[0;34m,\u001b[0m \u001b[0mvmin\u001b[0m\u001b[0;34m=\u001b[0m\u001b[0;36m0\u001b[0m\u001b[0;34m,\u001b[0m \u001b[0mvmax\u001b[0m\u001b[0;34m=\u001b[0m\u001b[0;36m1\u001b[0m\u001b[0;34m,\u001b[0m \u001b[0mcmap\u001b[0m\u001b[0;34m=\u001b[0m\u001b[0;34m'gray'\u001b[0m \u001b[0;34m)\u001b[0m\u001b[0;34m\u001b[0m\u001b[0;34m\u001b[0m\u001b[0m\n\u001b[0m\u001b[1;32m     12\u001b[0m     \u001b[0mplt\u001b[0m\u001b[0;34m.\u001b[0m\u001b[0mshow\u001b[0m\u001b[0;34m(\u001b[0m\u001b[0;34m)\u001b[0m\u001b[0;34m\u001b[0m\u001b[0;34m\u001b[0m\u001b[0m\n",
            "\u001b[0;32m/usr/local/lib/python3.6/dist-packages/matplotlib/axes/_axes.py\u001b[0m in \u001b[0;36mmatshow\u001b[0;34m(self, Z, **kwargs)\u001b[0m\n\u001b[1;32m   7944\u001b[0m               \u001b[0;34m'aspect'\u001b[0m\u001b[0;34m:\u001b[0m \u001b[0;34m'equal'\u001b[0m\u001b[0;34m,\u001b[0m          \u001b[0;31m# (already the imshow default)\u001b[0m\u001b[0;34m\u001b[0m\u001b[0;34m\u001b[0m\u001b[0m\n\u001b[1;32m   7945\u001b[0m               **kwargs}\n\u001b[0;32m-> 7946\u001b[0;31m         \u001b[0mim\u001b[0m \u001b[0;34m=\u001b[0m \u001b[0mself\u001b[0m\u001b[0;34m.\u001b[0m\u001b[0mimshow\u001b[0m\u001b[0;34m(\u001b[0m\u001b[0mZ\u001b[0m\u001b[0;34m,\u001b[0m \u001b[0;34m**\u001b[0m\u001b[0mkw\u001b[0m\u001b[0;34m)\u001b[0m\u001b[0;34m\u001b[0m\u001b[0;34m\u001b[0m\u001b[0m\n\u001b[0m\u001b[1;32m   7947\u001b[0m         \u001b[0mself\u001b[0m\u001b[0;34m.\u001b[0m\u001b[0mtitle\u001b[0m\u001b[0;34m.\u001b[0m\u001b[0mset_y\u001b[0m\u001b[0;34m(\u001b[0m\u001b[0;36m1.05\u001b[0m\u001b[0;34m)\u001b[0m\u001b[0;34m\u001b[0m\u001b[0;34m\u001b[0m\u001b[0m\n\u001b[1;32m   7948\u001b[0m         \u001b[0mself\u001b[0m\u001b[0;34m.\u001b[0m\u001b[0mxaxis\u001b[0m\u001b[0;34m.\u001b[0m\u001b[0mtick_top\u001b[0m\u001b[0;34m(\u001b[0m\u001b[0;34m)\u001b[0m\u001b[0;34m\u001b[0m\u001b[0;34m\u001b[0m\u001b[0m\n",
            "\u001b[0;32m/usr/local/lib/python3.6/dist-packages/matplotlib/__init__.py\u001b[0m in \u001b[0;36minner\u001b[0;34m(ax, data, *args, **kwargs)\u001b[0m\n\u001b[1;32m   1597\u001b[0m     \u001b[0;32mdef\u001b[0m \u001b[0minner\u001b[0m\u001b[0;34m(\u001b[0m\u001b[0max\u001b[0m\u001b[0;34m,\u001b[0m \u001b[0;34m*\u001b[0m\u001b[0margs\u001b[0m\u001b[0;34m,\u001b[0m \u001b[0mdata\u001b[0m\u001b[0;34m=\u001b[0m\u001b[0;32mNone\u001b[0m\u001b[0;34m,\u001b[0m \u001b[0;34m**\u001b[0m\u001b[0mkwargs\u001b[0m\u001b[0;34m)\u001b[0m\u001b[0;34m:\u001b[0m\u001b[0;34m\u001b[0m\u001b[0;34m\u001b[0m\u001b[0m\n\u001b[1;32m   1598\u001b[0m         \u001b[0;32mif\u001b[0m \u001b[0mdata\u001b[0m \u001b[0;32mis\u001b[0m \u001b[0;32mNone\u001b[0m\u001b[0;34m:\u001b[0m\u001b[0;34m\u001b[0m\u001b[0;34m\u001b[0m\u001b[0m\n\u001b[0;32m-> 1599\u001b[0;31m             \u001b[0;32mreturn\u001b[0m \u001b[0mfunc\u001b[0m\u001b[0;34m(\u001b[0m\u001b[0max\u001b[0m\u001b[0;34m,\u001b[0m \u001b[0;34m*\u001b[0m\u001b[0mmap\u001b[0m\u001b[0;34m(\u001b[0m\u001b[0msanitize_sequence\u001b[0m\u001b[0;34m,\u001b[0m \u001b[0margs\u001b[0m\u001b[0;34m)\u001b[0m\u001b[0;34m,\u001b[0m \u001b[0;34m**\u001b[0m\u001b[0mkwargs\u001b[0m\u001b[0;34m)\u001b[0m\u001b[0;34m\u001b[0m\u001b[0;34m\u001b[0m\u001b[0m\n\u001b[0m\u001b[1;32m   1600\u001b[0m \u001b[0;34m\u001b[0m\u001b[0m\n\u001b[1;32m   1601\u001b[0m         \u001b[0mbound\u001b[0m \u001b[0;34m=\u001b[0m \u001b[0mnew_sig\u001b[0m\u001b[0;34m.\u001b[0m\u001b[0mbind\u001b[0m\u001b[0;34m(\u001b[0m\u001b[0max\u001b[0m\u001b[0;34m,\u001b[0m \u001b[0;34m*\u001b[0m\u001b[0margs\u001b[0m\u001b[0;34m,\u001b[0m \u001b[0;34m**\u001b[0m\u001b[0mkwargs\u001b[0m\u001b[0;34m)\u001b[0m\u001b[0;34m\u001b[0m\u001b[0;34m\u001b[0m\u001b[0m\n",
            "\u001b[0;32m/usr/local/lib/python3.6/dist-packages/matplotlib/cbook/deprecation.py\u001b[0m in \u001b[0;36mwrapper\u001b[0;34m(*args, **kwargs)\u001b[0m\n\u001b[1;32m    367\u001b[0m                 \u001b[0;34mf\"%(removal)s.  If any parameter follows {name!r}, they \"\u001b[0m\u001b[0;34m\u001b[0m\u001b[0;34m\u001b[0m\u001b[0m\n\u001b[1;32m    368\u001b[0m                 f\"should be pass as keyword, not positionally.\")\n\u001b[0;32m--> 369\u001b[0;31m         \u001b[0;32mreturn\u001b[0m \u001b[0mfunc\u001b[0m\u001b[0;34m(\u001b[0m\u001b[0;34m*\u001b[0m\u001b[0margs\u001b[0m\u001b[0;34m,\u001b[0m \u001b[0;34m**\u001b[0m\u001b[0mkwargs\u001b[0m\u001b[0;34m)\u001b[0m\u001b[0;34m\u001b[0m\u001b[0;34m\u001b[0m\u001b[0m\n\u001b[0m\u001b[1;32m    370\u001b[0m \u001b[0;34m\u001b[0m\u001b[0m\n\u001b[1;32m    371\u001b[0m     \u001b[0;32mreturn\u001b[0m \u001b[0mwrapper\u001b[0m\u001b[0;34m\u001b[0m\u001b[0;34m\u001b[0m\u001b[0m\n",
            "\u001b[0;32m/usr/local/lib/python3.6/dist-packages/matplotlib/cbook/deprecation.py\u001b[0m in \u001b[0;36mwrapper\u001b[0;34m(*args, **kwargs)\u001b[0m\n\u001b[1;32m    367\u001b[0m                 \u001b[0;34mf\"%(removal)s.  If any parameter follows {name!r}, they \"\u001b[0m\u001b[0;34m\u001b[0m\u001b[0;34m\u001b[0m\u001b[0m\n\u001b[1;32m    368\u001b[0m                 f\"should be pass as keyword, not positionally.\")\n\u001b[0;32m--> 369\u001b[0;31m         \u001b[0;32mreturn\u001b[0m \u001b[0mfunc\u001b[0m\u001b[0;34m(\u001b[0m\u001b[0;34m*\u001b[0m\u001b[0margs\u001b[0m\u001b[0;34m,\u001b[0m \u001b[0;34m**\u001b[0m\u001b[0mkwargs\u001b[0m\u001b[0;34m)\u001b[0m\u001b[0;34m\u001b[0m\u001b[0;34m\u001b[0m\u001b[0m\n\u001b[0m\u001b[1;32m    370\u001b[0m \u001b[0;34m\u001b[0m\u001b[0m\n\u001b[1;32m    371\u001b[0m     \u001b[0;32mreturn\u001b[0m \u001b[0mwrapper\u001b[0m\u001b[0;34m\u001b[0m\u001b[0;34m\u001b[0m\u001b[0m\n",
            "\u001b[0;32m/usr/local/lib/python3.6/dist-packages/matplotlib/axes/_axes.py\u001b[0m in \u001b[0;36mimshow\u001b[0;34m(self, X, cmap, norm, aspect, interpolation, alpha, vmin, vmax, origin, extent, shape, filternorm, filterrad, imlim, resample, url, **kwargs)\u001b[0m\n\u001b[1;32m   5677\u001b[0m                               resample=resample, **kwargs)\n\u001b[1;32m   5678\u001b[0m \u001b[0;34m\u001b[0m\u001b[0m\n\u001b[0;32m-> 5679\u001b[0;31m         \u001b[0mim\u001b[0m\u001b[0;34m.\u001b[0m\u001b[0mset_data\u001b[0m\u001b[0;34m(\u001b[0m\u001b[0mX\u001b[0m\u001b[0;34m)\u001b[0m\u001b[0;34m\u001b[0m\u001b[0;34m\u001b[0m\u001b[0m\n\u001b[0m\u001b[1;32m   5680\u001b[0m         \u001b[0mim\u001b[0m\u001b[0;34m.\u001b[0m\u001b[0mset_alpha\u001b[0m\u001b[0;34m(\u001b[0m\u001b[0malpha\u001b[0m\u001b[0;34m)\u001b[0m\u001b[0;34m\u001b[0m\u001b[0;34m\u001b[0m\u001b[0m\n\u001b[1;32m   5681\u001b[0m         \u001b[0;32mif\u001b[0m \u001b[0mim\u001b[0m\u001b[0;34m.\u001b[0m\u001b[0mget_clip_path\u001b[0m\u001b[0;34m(\u001b[0m\u001b[0;34m)\u001b[0m \u001b[0;32mis\u001b[0m \u001b[0;32mNone\u001b[0m\u001b[0;34m:\u001b[0m\u001b[0;34m\u001b[0m\u001b[0;34m\u001b[0m\u001b[0m\n",
            "\u001b[0;32m/usr/local/lib/python3.6/dist-packages/matplotlib/image.py\u001b[0m in \u001b[0;36mset_data\u001b[0;34m(self, A)\u001b[0m\n\u001b[1;32m    688\u001b[0m                 or self._A.ndim == 3 and self._A.shape[-1] in [3, 4]):\n\u001b[1;32m    689\u001b[0m             raise TypeError(\"Invalid shape {} for image data\"\n\u001b[0;32m--> 690\u001b[0;31m                             .format(self._A.shape))\n\u001b[0m\u001b[1;32m    691\u001b[0m \u001b[0;34m\u001b[0m\u001b[0m\n\u001b[1;32m    692\u001b[0m         \u001b[0;32mif\u001b[0m \u001b[0mself\u001b[0m\u001b[0;34m.\u001b[0m\u001b[0m_A\u001b[0m\u001b[0;34m.\u001b[0m\u001b[0mndim\u001b[0m \u001b[0;34m==\u001b[0m \u001b[0;36m3\u001b[0m\u001b[0;34m:\u001b[0m\u001b[0;34m\u001b[0m\u001b[0;34m\u001b[0m\u001b[0m\n",
            "\u001b[0;31mTypeError\u001b[0m: Invalid shape (1, 3, 4, 1) for image data"
          ]
        },
        {
          "output_type": "display_data",
          "data": {
            "image/png": "[encoded data removed]",
            "text/plain": [
              "<Figure size 432x288 with 2 Axes>"
            ]
          },
          "metadata": {
            "tags": []
          }
        }
      ]
    },
    {
      "cell_type": "code",
      "metadata": {
        "id": "-DF06pPVoPnO",
        "colab_type": "code",
        "colab": {
          "base_uri": "https://localhost:8080/",
          "height": 35
        },
        "outputId": "7c8cd8c7-2169-4c65-ecf0-67c9c8d6d461"
      },
      "source": [
        "x.shape"
      ],
      "execution_count": 41,
      "outputs": [
        {
          "output_type": "execute_result",
          "data": {
            "text/plain": [
              "torch.Size([2, 1, 3, 4, 1])"
            ]
          },
          "metadata": {
            "tags": []
          },
          "execution_count": 41
        }
      ]
    },
    {
      "cell_type": "code",
      "metadata": {
        "id": "epuD5ab8uz25",
        "colab_type": "code",
        "colab": {
          "base_uri": "https://localhost:8080/",
          "height": 53
        },
        "outputId": "447b5cdd-57ad-4f2c-98ff-136427b0ef42"
      },
      "source": [
        "a = torch.rand( (2,3) )\n",
        "a"
      ],
      "execution_count": 54,
      "outputs": [
        {
          "output_type": "execute_result",
          "data": {
            "text/plain": [
              "tensor([[0.1011, 0.2988, 0.8175],\n",
              "        [0.4554, 0.1694, 0.8304]])"
            ]
          },
          "metadata": {
            "tags": []
          },
          "execution_count": 54
        }
      ]
    },
    {
      "cell_type": "code",
      "metadata": {
        "id": "5FC7zvGCu8qg",
        "colab_type": "code",
        "colab": {
          "base_uri": "https://localhost:8080/",
          "height": 53
        },
        "outputId": "835cc74e-d3f5-46fa-fbae-878b4d5ebffa"
      },
      "source": [
        "b = torch.rand( (2,3) )\n",
        "b"
      ],
      "execution_count": 55,
      "outputs": [
        {
          "output_type": "execute_result",
          "data": {
            "text/plain": [
              "tensor([[0.3460, 0.0728, 0.6175],\n",
              "        [0.2505, 0.2457, 0.6954]])"
            ]
          },
          "metadata": {
            "tags": []
          },
          "execution_count": 55
        }
      ]
    },
    {
      "cell_type": "code",
      "metadata": {
        "id": "fTNnIxYRu8tF",
        "colab_type": "code",
        "colab": {
          "base_uri": "https://localhost:8080/",
          "height": 89
        },
        "outputId": "9bbb7292-4fde-45ce-d2d6-7f7ae254cc9d"
      },
      "source": [
        "# cat\n",
        "# dim=0 -> 1차원 기준\n",
        "ab_cat = torch.cat([a,b],dim=0)\n",
        "ab_cat, ab_cat.size()"
      ],
      "execution_count": 56,
      "outputs": [
        {
          "output_type": "execute_result",
          "data": {
            "text/plain": [
              "(tensor([[0.1011, 0.2988, 0.8175],\n",
              "         [0.4554, 0.1694, 0.8304],\n",
              "         [0.3460, 0.0728, 0.6175],\n",
              "         [0.2505, 0.2457, 0.6954]]), torch.Size([4, 3]))"
            ]
          },
          "metadata": {
            "tags": []
          },
          "execution_count": 56
        }
      ]
    },
    {
      "cell_type": "code",
      "metadata": {
        "id": "yl-pjv9Gu8vg",
        "colab_type": "code",
        "colab": {
          "base_uri": "https://localhost:8080/",
          "height": 575
        },
        "outputId": "ea2f91d7-cff5-4474-ada4-e6fd503b6c09"
      },
      "source": [
        "drawTensorEx(a), drawTensorEx(b)"
      ],
      "execution_count": 57,
      "outputs": [
        {
          "output_type": "stream",
          "text": [
            "1\n",
            "1\n"
          ],
          "name": "stdout"
        },
        {
          "output_type": "execute_result",
          "data": {
            "text/plain": [
              "(None, None)"
            ]
          },
          "metadata": {
            "tags": []
          },
          "execution_count": 57
        },
        {
          "output_type": "display_data",
          "data": {
            "image/png": "[encoded data removed]",
            "text/plain": [
              "<Figure size 432x288 with 1 Axes>"
            ]
          },
          "metadata": {
            "tags": []
          }
        },
        {
          "output_type": "display_data",
          "data": {
            "image/png": "[encoded data removed]",
            "text/plain": [
              "<Figure size 432x288 with 1 Axes>"
            ]
          },
          "metadata": {
            "tags": []
          }
        }
      ]
    },
    {
      "cell_type": "code",
      "metadata": {
        "id": "5DVN6XOAu80e",
        "colab_type": "code",
        "colab": {
          "base_uri": "https://localhost:8080/",
          "height": 287
        },
        "outputId": "4bb3bccf-5d4d-46a7-dc13-5d109c6d82d9"
      },
      "source": [
        "drawTensorEx(ab_cat)"
      ],
      "execution_count": 58,
      "outputs": [
        {
          "output_type": "stream",
          "text": [
            "1\n"
          ],
          "name": "stdout"
        },
        {
          "output_type": "display_data",
          "data": {
            "image/png": "[encoded data removed]",
            "text/plain": [
              "<Figure size 432x288 with 1 Axes>"
            ]
          },
          "metadata": {
            "tags": []
          }
        }
      ]
    },
    {
      "cell_type": "code",
      "metadata": {
        "id": "8MXdbFX4wjb6",
        "colab_type": "code",
        "colab": {
          "base_uri": "https://localhost:8080/",
          "height": 71
        },
        "outputId": "1c8e25d5-9297-46c0-d319-50c974503f4b"
      },
      "source": [
        "ab_cat2 = torch.cat([a,b],dim=1)\n",
        "ab_cat2, ab_cat2.size()"
      ],
      "execution_count": 59,
      "outputs": [
        {
          "output_type": "execute_result",
          "data": {
            "text/plain": [
              "(tensor([[0.1011, 0.2988, 0.8175, 0.3460, 0.0728, 0.6175],\n",
              "         [0.4554, 0.1694, 0.8304, 0.2505, 0.2457, 0.6954]]),\n",
              " torch.Size([2, 6]))"
            ]
          },
          "metadata": {
            "tags": []
          },
          "execution_count": 59
        }
      ]
    },
    {
      "cell_type": "code",
      "metadata": {
        "id": "eKUzoB-qu85Q",
        "colab_type": "code",
        "colab": {
          "base_uri": "https://localhost:8080/",
          "height": 107
        },
        "outputId": "d1b0e108-9cbb-4f0e-f34f-8fe04e4055d3"
      },
      "source": [
        "# stack => 텐서를 쌓는다 -> 차원을 새로 만들어야한다 -> 차원추가\n",
        "ab_stack = torch.stack([a,b], dim=0)\n",
        "ab_stack, ab_stack.size()"
      ],
      "execution_count": 77,
      "outputs": [
        {
          "output_type": "execute_result",
          "data": {
            "text/plain": [
              "(tensor([[[0.1011, 0.2988, 0.8175],\n",
              "          [0.4554, 0.1694, 0.8304]],\n",
              " \n",
              "         [[0.3460, 0.0728, 0.6175],\n",
              "          [0.2505, 0.2457, 0.6954]]]), torch.Size([2, 2, 3]))"
            ]
          },
          "metadata": {
            "tags": []
          },
          "execution_count": 77
        }
      ]
    },
    {
      "cell_type": "code",
      "metadata": {
        "id": "6Y00ivQqwBmY",
        "colab_type": "code",
        "colab": {
          "base_uri": "https://localhost:8080/",
          "height": 287
        },
        "outputId": "0333103a-ab6d-49d7-e05b-e7b62424538c"
      },
      "source": [
        "drawTensorEx(ab_stack)"
      ],
      "execution_count": 78,
      "outputs": [
        {
          "output_type": "stream",
          "text": [
            "2\n"
          ],
          "name": "stdout"
        },
        {
          "output_type": "display_data",
          "data": {
            "image/png": "[encoded data removed]",
            "text/plain": [
              "<Figure size 432x288 with 2 Axes>"
            ]
          },
          "metadata": {
            "tags": []
          }
        }
      ]
    },
    {
      "cell_type": "markdown",
      "metadata": {
        "id": "nmneTIT7zp6D",
        "colab_type": "text"
      },
      "source": [
        "## 텐서의 덧셈,뺄셈,곱셈, 나눗셈, 내적(dot)"
      ]
    },
    {
      "cell_type": "code",
      "metadata": {
        "id": "dbS_mHFq0hAN",
        "colab_type": "code",
        "colab": {
          "base_uri": "https://localhost:8080/",
          "height": 35
        },
        "outputId": "5c1fb15a-6204-4dd0-965b-31aaf7e87852"
      },
      "source": [
        "x = torch.Tensor([1,2,3])\n",
        "y = torch.Tensor([4,1,2])\n",
        "x, y, x.type()"
      ],
      "execution_count": 70,
      "outputs": [
        {
          "output_type": "execute_result",
          "data": {
            "text/plain": [
              "(tensor([1., 2., 3.]), tensor([4., 1., 2.]), 'torch.FloatTensor')"
            ]
          },
          "metadata": {
            "tags": []
          },
          "execution_count": 70
        }
      ]
    },
    {
      "cell_type": "code",
      "metadata": {
        "id": "djgBQqMR3tzT",
        "colab_type": "code",
        "colab": {
          "base_uri": "https://localhost:8080/",
          "height": 35
        },
        "outputId": "1399d2e6-1e02-4500-97be-6ae0beec95ec"
      },
      "source": [
        "# 덧셈\n",
        "torch.add(x,y), x + y"
      ],
      "execution_count": 73,
      "outputs": [
        {
          "output_type": "execute_result",
          "data": {
            "text/plain": [
              "(tensor([5., 3., 5.]), tensor([5., 3., 5.]))"
            ]
          },
          "metadata": {
            "tags": []
          },
          "execution_count": 73
        }
      ]
    },
    {
      "cell_type": "code",
      "metadata": {
        "id": "QIFylk3W30g1",
        "colab_type": "code",
        "colab": {
          "base_uri": "https://localhost:8080/",
          "height": 35
        },
        "outputId": "97284093-b36a-4d8b-c85e-d7afe807f3c7"
      },
      "source": [
        "# 덧셈\n",
        "torch.sub(x,y), x - y"
      ],
      "execution_count": 74,
      "outputs": [
        {
          "output_type": "execute_result",
          "data": {
            "text/plain": [
              "(tensor([-3.,  1.,  1.]), tensor([-3.,  1.,  1.]))"
            ]
          },
          "metadata": {
            "tags": []
          },
          "execution_count": 74
        }
      ]
    },
    {
      "cell_type": "code",
      "metadata": {
        "id": "eJu5zv0A30jq",
        "colab_type": "code",
        "colab": {
          "base_uri": "https://localhost:8080/",
          "height": 35
        },
        "outputId": "801b4f17-42fd-4319-e5cf-9835c1760286"
      },
      "source": [
        "# 곱셈\n",
        "torch.mul(x,y), x * y"
      ],
      "execution_count": 76,
      "outputs": [
        {
          "output_type": "execute_result",
          "data": {
            "text/plain": [
              "(tensor([4., 2., 6.]), tensor([4., 2., 6.]))"
            ]
          },
          "metadata": {
            "tags": []
          },
          "execution_count": 76
        }
      ]
    },
    {
      "cell_type": "code",
      "metadata": {
        "id": "fbIW6lVx309B",
        "colab_type": "code",
        "colab": {}
      },
      "source": [
        "# 나눗셈\n",
        "torch.(x,y), x / y"
      ],
      "execution_count": 0,
      "outputs": []
    },
    {
      "cell_type": "code",
      "metadata": {
        "id": "I9E0kBYQ30eJ",
        "colab_type": "code",
        "colab": {
          "base_uri": "https://localhost:8080/",
          "height": 35
        },
        "outputId": "a12ab922-8689-4343-b5a6-6ee033ae44fb"
      },
      "source": [
        "# 내적\n",
        "# 12 = 1*4 + 2*1 + 3*2\n",
        "# 합성곱층에서 커널을 통과시켜서 특성을 추출할때의 계산식하고 동일\n",
        "torch.dot(x,y)"
      ],
      "execution_count": 75,
      "outputs": [
        {
          "output_type": "execute_result",
          "data": {
            "text/plain": [
              "tensor(12.)"
            ]
          },
          "metadata": {
            "tags": []
          },
          "execution_count": 75
        }
      ]
    },
    {
      "cell_type": "code",
      "metadata": {
        "id": "U7oyXO3z4Z4o",
        "colab_type": "code",
        "colab": {
          "base_uri": "https://localhost:8080/",
          "height": 35
        },
        "outputId": "92e2820f-eccb-4d97-bee9-6bf155472e9b"
      },
      "source": [
        "# 텐서에 스칼라연산\n",
        "# 각구성원에 1씩 더함\n",
        "x +1"
      ],
      "execution_count": 79,
      "outputs": [
        {
          "output_type": "execute_result",
          "data": {
            "text/plain": [
              "tensor([2., 3., 4.])"
            ]
          },
          "metadata": {
            "tags": []
          },
          "execution_count": 79
        }
      ]
    },
    {
      "cell_type": "code",
      "metadata": {
        "id": "l9jtLMrU5umP",
        "colab_type": "code",
        "colab": {
          "base_uri": "https://localhost:8080/",
          "height": 71
        },
        "outputId": "f84dce3f-b84b-4a1d-d47b-19246451f6da"
      },
      "source": [
        "# 행렬의 곱\n",
        "# mm\n",
        "x = torch.Tensor( [ [1,3],[2,4],[5,7] ] ) #(3,2)\n",
        "y = torch.Tensor([ [7,9],[10,2] ]) #(2,2)\n",
        "x.shape, y.shape\n",
        "torch.mm(x,y)\n",
        "# 37 = 1*7 + 3*10 = x[0,0]*y[0,0]+x[0,1]*y[1,0]\n",
        "# 15 = 1*9 + 3*2 = x[0,0]*y[0,1]+x[0,1]*y[1,1]"
      ],
      "execution_count": 89,
      "outputs": [
        {
          "output_type": "execute_result",
          "data": {
            "text/plain": [
              "tensor([[ 37.,  15.],\n",
              "        [ 54.,  26.],\n",
              "        [105.,  59.]])"
            ]
          },
          "metadata": {
            "tags": []
          },
          "execution_count": 89
        }
      ]
    },
    {
      "cell_type": "code",
      "metadata": {
        "id": "h-SAYjTK879k",
        "colab_type": "code",
        "colab": {
          "base_uri": "https://localhost:8080/",
          "height": 35
        },
        "outputId": "c1fc91e7-2dba-42d1-9406-a6925d1d7bf9"
      },
      "source": [
        "x[0,0]*y[0,1]+x[0,1]*y[1,1]"
      ],
      "execution_count": 90,
      "outputs": [
        {
          "output_type": "execute_result",
          "data": {
            "text/plain": [
              "tensor(15.)"
            ]
          },
          "metadata": {
            "tags": []
          },
          "execution_count": 90
        }
      ]
    },
    {
      "cell_type": "code",
      "metadata": {
        "id": "Fw4oCmfa8dNa",
        "colab_type": "code",
        "colab": {
          "base_uri": "https://localhost:8080/",
          "height": 35
        },
        "outputId": "ce0a5fc6-ccc7-413f-b707-3b08aacbe783"
      },
      "source": [
        "x[0,0]*y[0,0]+x[0,1]*y[1,0]"
      ],
      "execution_count": 88,
      "outputs": [
        {
          "output_type": "execute_result",
          "data": {
            "text/plain": [
              "tensor(37.)"
            ]
          },
          "metadata": {
            "tags": []
          },
          "execution_count": 88
        }
      ]
    },
    {
      "cell_type": "markdown",
      "metadata": {
        "id": "fEmYUxtmzuFg",
        "colab_type": "text"
      },
      "source": [
        "## sum, mean"
      ]
    },
    {
      "cell_type": "code",
      "metadata": {
        "id": "KQJxJcFt5IgA",
        "colab_type": "code",
        "colab": {
          "base_uri": "https://localhost:8080/",
          "height": 35
        },
        "outputId": "95b9749a-acec-433e-b6bb-7e7c5368e215"
      },
      "source": [
        "# (2,2,2)\n",
        "z = torch.Tensor( [1,2,3,4,5,6,7,8] )\n",
        "z.size(), z.shape\n",
        "# z를 2,2,2로 만들어라\n",
        "z = z.view(2,2,2)\n",
        "z.size()"
      ],
      "execution_count": 96,
      "outputs": [
        {
          "output_type": "execute_result",
          "data": {
            "text/plain": [
              "torch.Size([2, 2, 2])"
            ]
          },
          "metadata": {
            "tags": []
          },
          "execution_count": 96
        }
      ]
    },
    {
      "cell_type": "code",
      "metadata": {
        "id": "KXkoaEc3-LoN",
        "colab_type": "code",
        "colab": {
          "base_uri": "https://localhost:8080/",
          "height": 107
        },
        "outputId": "e9641a2e-caf1-4ce6-8710-1efe7c290460"
      },
      "source": [
        "z"
      ],
      "execution_count": 98,
      "outputs": [
        {
          "output_type": "execute_result",
          "data": {
            "text/plain": [
              "tensor([[[1., 2.],\n",
              "         [3., 4.]],\n",
              "\n",
              "        [[5., 6.],\n",
              "         [7., 8.]]])"
            ]
          },
          "metadata": {
            "tags": []
          },
          "execution_count": 98
        }
      ]
    },
    {
      "cell_type": "code",
      "metadata": {
        "id": "9s3_NUlU5Ii9",
        "colab_type": "code",
        "colab": {
          "base_uri": "https://localhost:8080/",
          "height": 53
        },
        "outputId": "b6b2c317-149b-4f68-e130-a670c6eb8c66"
      },
      "source": [
        "torch.sum(z, dim=0)"
      ],
      "execution_count": 97,
      "outputs": [
        {
          "output_type": "execute_result",
          "data": {
            "text/plain": [
              "tensor([[ 6.,  8.],\n",
              "        [10., 12.]])"
            ]
          },
          "metadata": {
            "tags": []
          },
          "execution_count": 97
        }
      ]
    },
    {
      "cell_type": "code",
      "metadata": {
        "id": "MTaATo1j-Lsd",
        "colab_type": "code",
        "colab": {
          "base_uri": "https://localhost:8080/",
          "height": 53
        },
        "outputId": "ffeb9a49-ee07-4287-a6c7-05e27974ffca"
      },
      "source": [
        "torch.sum(z, dim=1)"
      ],
      "execution_count": 99,
      "outputs": [
        {
          "output_type": "execute_result",
          "data": {
            "text/plain": [
              "tensor([[ 4.,  6.],\n",
              "        [12., 14.]])"
            ]
          },
          "metadata": {
            "tags": []
          },
          "execution_count": 99
        }
      ]
    },
    {
      "cell_type": "code",
      "metadata": {
        "id": "nD9mCTD6_W21",
        "colab_type": "code",
        "colab": {
          "base_uri": "https://localhost:8080/",
          "height": 53
        },
        "outputId": "d0c9b2ba-10ab-46de-a94a-42655438a819"
      },
      "source": [
        "torch.sum(z, dim=2)"
      ],
      "execution_count": 103,
      "outputs": [
        {
          "output_type": "execute_result",
          "data": {
            "text/plain": [
              "tensor([[ 3.,  7.],\n",
              "        [11., 15.]])"
            ]
          },
          "metadata": {
            "tags": []
          },
          "execution_count": 103
        }
      ]
    },
    {
      "cell_type": "code",
      "metadata": {
        "id": "SycWlqUr-Lvn",
        "colab_type": "code",
        "colab": {
          "base_uri": "https://localhost:8080/",
          "height": 53
        },
        "outputId": "62b18cd6-3062-48f1-b1b6-55002434a281"
      },
      "source": [
        "torch.mean(z, dim=0)"
      ],
      "execution_count": 104,
      "outputs": [
        {
          "output_type": "execute_result",
          "data": {
            "text/plain": [
              "tensor([[3., 4.],\n",
              "        [5., 6.]])"
            ]
          },
          "metadata": {
            "tags": []
          },
          "execution_count": 104
        }
      ]
    },
    {
      "cell_type": "code",
      "metadata": {
        "id": "tOG0bIlM5IoI",
        "colab_type": "code",
        "colab": {
          "base_uri": "https://localhost:8080/",
          "height": 53
        },
        "outputId": "27ebc877-7699-4ba4-cb20-9168c7a84d7b"
      },
      "source": [
        "torch.mean(z, dim=1)"
      ],
      "execution_count": 102,
      "outputs": [
        {
          "output_type": "execute_result",
          "data": {
            "text/plain": [
              "tensor([[2., 3.],\n",
              "        [6., 7.]])"
            ]
          },
          "metadata": {
            "tags": []
          },
          "execution_count": 102
        }
      ]
    },
    {
      "cell_type": "markdown",
      "metadata": {
        "id": "0cVj-N93zxO7",
        "colab_type": "text"
      },
      "source": [
        "## max, min, argmax, argmin"
      ]
    },
    {
      "cell_type": "code",
      "metadata": {
        "id": "qxk1Aeec5ImC",
        "colab_type": "code",
        "colab": {
          "base_uri": "https://localhost:8080/",
          "height": 35
        },
        "outputId": "83f44d48-e245-4210-b7a0-e7a895542f16"
      },
      "source": [
        "torch.max(z), torch.min(z)"
      ],
      "execution_count": 105,
      "outputs": [
        {
          "output_type": "execute_result",
          "data": {
            "text/plain": [
              "(tensor(8.), tensor(1.))"
            ]
          },
          "metadata": {
            "tags": []
          },
          "execution_count": 105
        }
      ]
    },
    {
      "cell_type": "code",
      "metadata": {
        "id": "z40TcL3lztOh",
        "colab_type": "code",
        "colab": {
          "base_uri": "https://localhost:8080/",
          "height": 35
        },
        "outputId": "d95aab36-fcc1-40dc-b81e-3ef78c0bf52a"
      },
      "source": [
        "# 그 값이 존재하는 위치 값 => 데이터를 flatten 해서 인덱스를 계산했다 (ok)\n",
        "# flatten(최대값 혹은 최솟값)기준으로 나열해서 인덱스?\n",
        "torch.argmax(z), torch.argmin(z)"
      ],
      "execution_count": 106,
      "outputs": [
        {
          "output_type": "execute_result",
          "data": {
            "text/plain": [
              "(tensor(7), tensor(0))"
            ]
          },
          "metadata": {
            "tags": []
          },
          "execution_count": 106
        }
      ]
    },
    {
      "cell_type": "code",
      "metadata": {
        "id": "fhAk7MGqwBrJ",
        "colab_type": "code",
        "colab": {
          "base_uri": "https://localhost:8080/",
          "height": 71
        },
        "outputId": "2872a070-e834-4b44-9ef4-ff4880afaf5a"
      },
      "source": [
        "# 1차원 기준으로 원소들을 수직으로 배치하고, 위에서 내려봤을때 같은 포지션에 겹치는 원소끼리 비교해서 최댓값을 찾음 => 총결과물 4개\n",
        "# 그 최댓값과 그 위치값이 결과로 나온다\n",
        "torch.max(z,dim=0)"
      ],
      "execution_count": 107,
      "outputs": [
        {
          "output_type": "execute_result",
          "data": {
            "text/plain": [
              "torch.return_types.max(values=tensor([[5., 6.],\n",
              "        [7., 8.]]), indices=tensor([[1, 1],\n",
              "        [1, 1]]))"
            ]
          },
          "metadata": {
            "tags": []
          },
          "execution_count": 107
        }
      ]
    },
    {
      "cell_type": "markdown",
      "metadata": {
        "id": "L0OOGHdzz0Ef",
        "colab_type": "text"
      },
      "source": [
        "## 논리연산\n",
        "- 같다, 크거나 같다, 작거나 같다, 작다 => True, False, BoolTensor"
      ]
    },
    {
      "cell_type": "code",
      "metadata": {
        "id": "8f2fBjmHwBkB",
        "colab_type": "code",
        "colab": {
          "base_uri": "https://localhost:8080/",
          "height": 35
        },
        "outputId": "cdccf04d-e48a-492a-ced3-080d25a5a14f"
      },
      "source": [
        "z = torch.Tensor([-4,3,0])\n",
        "z"
      ],
      "execution_count": 108,
      "outputs": [
        {
          "output_type": "execute_result",
          "data": {
            "text/plain": [
              "tensor([-4.,  3.,  0.])"
            ]
          },
          "metadata": {
            "tags": []
          },
          "execution_count": 108
        }
      ]
    },
    {
      "cell_type": "code",
      "metadata": {
        "id": "jfq4SeS9wBtl",
        "colab_type": "code",
        "colab": {
          "base_uri": "https://localhost:8080/",
          "height": 197
        },
        "outputId": "1562a12f-8368-4af0-dc6a-8b6e5f1e380b"
      },
      "source": [
        "# BoolTensor 가 결론(True, False)\n",
        "\n",
        "# 같다\n",
        "print(z.eq(0))\n",
        "print(z == 0)\n",
        "\n",
        "# 크거나 같다\n",
        "print(z.ge(0))\n",
        "print(z >= 0)\n",
        "\n",
        "# 작거나 같다\n",
        "print(z.le(0))\n",
        "print(z <= 0)\n",
        "\n",
        "# 작다\n",
        "print(z.lt(0))\n",
        "print(z < 0)\n",
        "\n",
        "# 크다\n",
        "print(z.gt(0))\n",
        "print(z > 0)"
      ],
      "execution_count": 110,
      "outputs": [
        {
          "output_type": "stream",
          "text": [
            "tensor([False, False,  True])\n",
            "tensor([False, False,  True])\n",
            "tensor([False,  True,  True])\n",
            "tensor([False,  True,  True])\n",
            "tensor([ True, False,  True])\n",
            "tensor([ True, False,  True])\n",
            "tensor([ True, False, False])\n",
            "tensor([ True, False, False])\n",
            "tensor([False,  True, False])\n",
            "tensor([False,  True, False])\n"
          ],
          "name": "stdout"
        }
      ]
    },
    {
      "cell_type": "code",
      "metadata": {
        "id": "wYFBkzPtu83T",
        "colab_type": "code",
        "colab": {}
      },
      "source": [
        ""
      ],
      "execution_count": 0,
      "outputs": []
    }
  ]
}