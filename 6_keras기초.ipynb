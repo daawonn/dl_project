{
  "nbformat": 4,
  "nbformat_minor": 0,
  "metadata": {
    "colab": {
      "name": "6.keras기초.ipynb",
      "provenance": [],
      "toc_visible": true,
      "authorship_tag": "ABX9TyNH1x9KpC1SvbczmS38xSkc",
      "include_colab_link": true
    },
    "kernelspec": {
      "name": "python3",
      "display_name": "Python 3"
    }
  },
  "cells": [
    {
      "cell_type": "markdown",
      "metadata": {
        "id": "view-in-github",
        "colab_type": "text"
      },
      "source": [
        "<a href=\"https://colab.research.google.com/github/daawonn/dl_project/blob/master/6_keras%EA%B8%B0%EC%B4%88.ipynb\" target=\"_parent\"><img src=\"https://colab.research.google.com/assets/colab-badge.svg\" alt=\"Open In Colab\"/></a>"
      ]
    },
    {
      "cell_type": "markdown",
      "metadata": {
        "id": "laIyjbi9WnJr",
        "colab_type": "text"
      },
      "source": [
        "# 개요\n",
        "- 케라스는 많은 사람들이 손쉽게 딥러닝을 할 수 있도록 다양한 엔진(플랫폼) 위에서 딥러닝 모델을 구현 할 수 있는 API이다\n",
        "- 어떤 엔진을 사용하더라도 그 위에서 구현된 코드는 동일하다\n",
        "- 2017\n",
        "  - Tensorflow Dev SUMMIT 2017에서 케라스와 텐서플로우의 통합을 발표\n",
        "- tf.keras를 통해서 케라스를 사용\n",
        "- 텐서플로우 코어 레이어와 케라스 레이어는 동일\n",
        "- 순수 텐서플로우 기능과 케라스 기능이 쉽게 어우러져 사용할 수 있다\n",
        "- 모델정의는 케라스의 고차원 API를 이용하여 구현\n",
        "  "
      ]
    },
    {
      "cell_type": "code",
      "metadata": {
        "id": "4pYEOqGMYcbz",
        "colab_type": "code",
        "colab": {
          "base_uri": "https://localhost:8080/",
          "height": 82
        },
        "outputId": "42695738-ef47-494b-fa19-ff7649e48395"
      },
      "source": [
        "import keras"
      ],
      "execution_count": 1,
      "outputs": [
        {
          "output_type": "stream",
          "text": [
            "Using TensorFlow backend.\n"
          ],
          "name": "stderr"
        },
        {
          "output_type": "display_data",
          "data": {
            "text/html": [
              "<p style=\"color: red;\">\n",
              "The default version of TensorFlow in Colab will soon switch to TensorFlow 2.x.<br>\n",
              "We recommend you <a href=\"https://www.tensorflow.org/guide/migrate\" target=\"_blank\">upgrade</a> now \n",
              "or ensure your notebook will continue to use TensorFlow 1.x via the <code>%tensorflow_version 1.x</code> magic:\n",
              "<a href=\"https://colab.research.google.com/notebooks/tensorflow_version.ipynb\" target=\"_blank\">more info</a>.</p>\n"
            ],
            "text/plain": [
              "<IPython.core.display.HTML object>"
            ]
          },
          "metadata": {
            "tags": []
          }
        }
      ]
    },
    {
      "cell_type": "markdown",
      "metadata": {
        "id": "-va91PMoYt1T",
        "colab_type": "text"
      },
      "source": [
        "# 간단한 데이터로 기본 루틴"
      ]
    },
    {
      "cell_type": "code",
      "metadata": {
        "id": "x59Pt3SPYeqq",
        "colab_type": "code",
        "colab": {}
      },
      "source": [
        "import numpy as np"
      ],
      "execution_count": 0,
      "outputs": []
    },
    {
      "cell_type": "code",
      "metadata": {
        "id": "IyG-rdg-Y8BK",
        "colab_type": "code",
        "colab": {
          "base_uri": "https://localhost:8080/",
          "height": 35
        },
        "outputId": "2f15b9f1-742f-4cbe-ca7f-57a521012f2b"
      },
      "source": [
        "# 데이터 준비\n",
        "x = np.array( [0,1,2,3,4] )\n",
        "# 인공신경망 : 딥러닝의 알고리즘이다\n",
        "# W(가중치) => 2\n",
        "# b(편향) => 1\n",
        "y = x * 2 + 1\n",
        "x , y"
      ],
      "execution_count": 3,
      "outputs": [
        {
          "output_type": "execute_result",
          "data": {
            "text/plain": [
              "(array([0, 1, 2, 3, 4]), array([1, 3, 5, 7, 9]))"
            ]
          },
          "metadata": {
            "tags": []
          },
          "execution_count": 3
        }
      ]
    },
    {
      "cell_type": "code",
      "metadata": {
        "id": "lZrAgFeGZnTS",
        "colab_type": "code",
        "colab": {
          "base_uri": "https://localhost:8080/",
          "height": 53
        },
        "outputId": "fe5abc3c-b481-43d7-a461-83ac9e191b43"
      },
      "source": [
        "# 인공신경망 만들기 => 층을 쌓는다\n",
        "# 1. 인공신경망 모델을 만들기 시작했음을 파이썬 프로세스에게 알린다\n",
        "model = keras.models.Sequential()"
      ],
      "execution_count": 4,
      "outputs": [
        {
          "output_type": "stream",
          "text": [
            "WARNING:tensorflow:From /usr/local/lib/python3.6/dist-packages/keras/backend/tensorflow_backend.py:66: The name tf.get_default_graph is deprecated. Please use tf.compat.v1.get_default_graph instead.\n",
            "\n"
          ],
          "name": "stdout"
        }
      ]
    },
    {
      "cell_type": "code",
      "metadata": {
        "id": "OXRnP5Xiaafq",
        "colab_type": "code",
        "colab": {
          "base_uri": "https://localhost:8080/",
          "height": 89
        },
        "outputId": "377d26a8-5cad-42d0-9c90-ea70a8be514a"
      },
      "source": [
        "# 2. 레이어 추가 => 층을 쌓는다 => add() 사용\n",
        "# 입력 노드는 한개, 가중치도 1개인 선형 처리 계층\n",
        "model.add( keras.layers.Dense(1,input_shape=(1,)) )"
      ],
      "execution_count": 5,
      "outputs": [
        {
          "output_type": "stream",
          "text": [
            "WARNING:tensorflow:From /usr/local/lib/python3.6/dist-packages/keras/backend/tensorflow_backend.py:541: The name tf.placeholder is deprecated. Please use tf.compat.v1.placeholder instead.\n",
            "\n",
            "WARNING:tensorflow:From /usr/local/lib/python3.6/dist-packages/keras/backend/tensorflow_backend.py:4432: The name tf.random_uniform is deprecated. Please use tf.random.uniform instead.\n",
            "\n"
          ],
          "name": "stdout"
        }
      ]
    },
    {
      "cell_type": "code",
      "metadata": {
        "id": "PzNwLPjWa7RJ",
        "colab_type": "code",
        "colab": {
          "base_uri": "https://localhost:8080/",
          "height": 53
        },
        "outputId": "6b34c749-3208-4707-e060-f6ca5579ca45"
      },
      "source": [
        "# 3. 학습단계 설정\n",
        "# SGD : 경사하강법 , Stochastic gradient descent\n",
        "# mse : 손실함수를 표현할때 사용하는 평균제곱오차 , Mean squared error\n",
        "model.compile( 'SGD', 'mse')"
      ],
      "execution_count": 6,
      "outputs": [
        {
          "output_type": "stream",
          "text": [
            "WARNING:tensorflow:From /usr/local/lib/python3.6/dist-packages/keras/optimizers.py:793: The name tf.train.Optimizer is deprecated. Please use tf.compat.v1.train.Optimizer instead.\n",
            "\n"
          ],
          "name": "stdout"
        }
      ]
    },
    {
      "cell_type": "code",
      "metadata": {
        "id": "dMeUN0i7bnZp",
        "colab_type": "code",
        "colab": {
          "base_uri": "https://localhost:8080/",
          "height": 323
        },
        "outputId": "08c6d257-6c29-4bfc-bbdc-e7ec78cd13d1"
      },
      "source": [
        "# 4. 훈련\n",
        "# 훈련데이터 , 답을 삽입\n",
        "# epochs  : 인공신경망이 한번 학습을 수행할 때 사용된 한회, 한세대를 지칭\n",
        "# verbose : 로그, 학습 진행 사랑을 표시 0이면 미표시\n",
        "model.fit(x[:2], y[:2], epochs=1000 , verbose=0)"
      ],
      "execution_count": 7,
      "outputs": [
        {
          "output_type": "stream",
          "text": [
            "WARNING:tensorflow:From /usr/local/lib/python3.6/dist-packages/keras/backend/tensorflow_backend.py:1033: The name tf.assign_add is deprecated. Please use tf.compat.v1.assign_add instead.\n",
            "\n",
            "WARNING:tensorflow:From /usr/local/lib/python3.6/dist-packages/keras/backend/tensorflow_backend.py:1020: The name tf.assign is deprecated. Please use tf.compat.v1.assign instead.\n",
            "\n",
            "WARNING:tensorflow:From /usr/local/lib/python3.6/dist-packages/keras/backend/tensorflow_backend.py:3005: The name tf.Session is deprecated. Please use tf.compat.v1.Session instead.\n",
            "\n",
            "WARNING:tensorflow:From /usr/local/lib/python3.6/dist-packages/keras/backend/tensorflow_backend.py:190: The name tf.get_default_session is deprecated. Please use tf.compat.v1.get_default_session instead.\n",
            "\n",
            "WARNING:tensorflow:From /usr/local/lib/python3.6/dist-packages/keras/backend/tensorflow_backend.py:197: The name tf.ConfigProto is deprecated. Please use tf.compat.v1.ConfigProto instead.\n",
            "\n",
            "WARNING:tensorflow:From /usr/local/lib/python3.6/dist-packages/keras/backend/tensorflow_backend.py:207: The name tf.global_variables is deprecated. Please use tf.compat.v1.global_variables instead.\n",
            "\n",
            "WARNING:tensorflow:From /usr/local/lib/python3.6/dist-packages/keras/backend/tensorflow_backend.py:216: The name tf.is_variable_initialized is deprecated. Please use tf.compat.v1.is_variable_initialized instead.\n",
            "\n",
            "WARNING:tensorflow:From /usr/local/lib/python3.6/dist-packages/keras/backend/tensorflow_backend.py:223: The name tf.variables_initializer is deprecated. Please use tf.compat.v1.variables_initializer instead.\n",
            "\n"
          ],
          "name": "stdout"
        },
        {
          "output_type": "execute_result",
          "data": {
            "text/plain": [
              "<keras.callbacks.History at 0x7f91183ad4a8>"
            ]
          },
          "metadata": {
            "tags": []
          },
          "execution_count": 7
        }
      ]
    },
    {
      "cell_type": "code",
      "metadata": {
        "id": "Rpb3vo5xcY1Q",
        "colab_type": "code",
        "colab": {
          "base_uri": "https://localhost:8080/",
          "height": 35
        },
        "outputId": "df751ac8-9c39-4d76-b5e1-d57951274dee"
      },
      "source": [
        "# 5. 예측, 평가\n",
        "model.predict( x[2:] ).flatten()"
      ],
      "execution_count": 8,
      "outputs": [
        {
          "output_type": "execute_result",
          "data": {
            "text/plain": [
              "array([4.99954  , 6.9992065, 8.998874 ], dtype=float32)"
            ]
          },
          "metadata": {
            "tags": []
          },
          "execution_count": 8
        }
      ]
    },
    {
      "cell_type": "code",
      "metadata": {
        "id": "odi9l5TxdtSh",
        "colab_type": "code",
        "colab": {
          "base_uri": "https://localhost:8080/",
          "height": 35
        },
        "outputId": "f919e707-3c07-4f72-b4ec-c1a12db1cc86"
      },
      "source": [
        "y[2:]"
      ],
      "execution_count": 9,
      "outputs": [
        {
          "output_type": "execute_result",
          "data": {
            "text/plain": [
              "array([5, 7, 9])"
            ]
          },
          "metadata": {
            "tags": []
          },
          "execution_count": 9
        }
      ]
    }
  ]
}