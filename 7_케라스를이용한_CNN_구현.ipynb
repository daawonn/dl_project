{
  "nbformat": 4,
  "nbformat_minor": 0,
  "metadata": {
    "colab": {
      "name": "7.케라스를이용한 CNN 구현.ipynb",
      "provenance": [],
      "collapsed_sections": [],
      "toc_visible": true,
      "authorship_tag": "ABX9TyOgFckg9gV+J27YN+uI+ZKG",
      "include_colab_link": true
    },
    "kernelspec": {
      "name": "python3",
      "display_name": "Python 3"
    }
  },
  "cells": [
    {
      "cell_type": "markdown",
      "metadata": {
        "id": "view-in-github",
        "colab_type": "text"
      },
      "source": [
        "<a href=\"https://colab.research.google.com/github/daawonn/dl_project/blob/master/7_%EC%BC%80%EB%9D%BC%EC%8A%A4%EB%A5%BC%EC%9D%B4%EC%9A%A9%ED%95%9C_CNN_%EA%B5%AC%ED%98%84.ipynb\" target=\"_parent\"><img src=\"https://colab.research.google.com/assets/colab-badge.svg\" alt=\"Open In Colab\"/></a>"
      ]
    },
    {
      "cell_type": "markdown",
      "metadata": {
        "id": "XGHqRA1hje-L",
        "colab_type": "text"
      },
      "source": [
        "# 절차\n",
        "- 시퀀스 -> add() -> compile() -> fit() -> 평가"
      ]
    },
    {
      "cell_type": "code",
      "metadata": {
        "id": "LlH3L5zVirrf",
        "colab_type": "code",
        "colab": {}
      },
      "source": [
        "import keras\n",
        "from keras import models, layers, backend\n",
        "from keras.datasets import mnist\n",
        "%tensorflow_version 1.x"
      ],
      "execution_count": 0,
      "outputs": []
    },
    {
      "cell_type": "markdown",
      "metadata": {
        "id": "iQ7m1-9SjEKz",
        "colab_type": "text"
      },
      "source": [
        "# 데이터 확보, 준비"
      ]
    },
    {
      "cell_type": "code",
      "metadata": {
        "id": "7c7-O1tvkZhL",
        "colab_type": "code",
        "outputId": "52a1fcb3-6b28-495f-ed82-3d581dfd76b7",
        "colab": {
          "base_uri": "https://localhost:8080/",
          "height": 35
        }
      },
      "source": [
        "len(mnist.load_data())"
      ],
      "execution_count": 96,
      "outputs": [
        {
          "output_type": "execute_result",
          "data": {
            "text/plain": [
              "2"
            ]
          },
          "metadata": {
            "tags": []
          },
          "execution_count": 96
        }
      ]
    },
    {
      "cell_type": "code",
      "metadata": {
        "id": "v2VuU42tj9wj",
        "colab_type": "code",
        "colab": {}
      },
      "source": [
        "(x_train,y_train),(x_test,y_test) = mnist.load_data()\n",
        "# type(train),len(train)"
      ],
      "execution_count": 0,
      "outputs": []
    },
    {
      "cell_type": "code",
      "metadata": {
        "id": "4RAY9eBvkrfl",
        "colab_type": "code",
        "outputId": "4d0a6c41-04d7-4f41-f4a2-03725ede701d",
        "colab": {
          "base_uri": "https://localhost:8080/",
          "height": 35
        }
      },
      "source": [
        "x_train.shape ,y_train.shape\n",
        "# y_train, y_test는 벡터화처리 해야한다"
      ],
      "execution_count": 98,
      "outputs": [
        {
          "output_type": "execute_result",
          "data": {
            "text/plain": [
              "((60000, 28, 28), (60000,))"
            ]
          },
          "metadata": {
            "tags": []
          },
          "execution_count": 98
        }
      ]
    },
    {
      "cell_type": "code",
      "metadata": {
        "id": "FfacWB45krrS",
        "colab_type": "code",
        "colab": {}
      },
      "source": [
        "# 이미지 크기\n",
        "img_rows, img_cols = x_train.shape[1:]"
      ],
      "execution_count": 0,
      "outputs": []
    },
    {
      "cell_type": "code",
      "metadata": {
        "id": "8lcBKTwrlami",
        "colab_type": "code",
        "outputId": "3ea42b57-e6d7-4c00-a4b8-753689f8f8eb",
        "colab": {
          "base_uri": "https://localhost:8080/",
          "height": 35
        }
      },
      "source": [
        "# 채널을 설명하는 값에 의해 데이터에 채널값을 앞 혹은 뒤에 추가하여\n",
        "# Dememsion(차원)을 확장한다 -> 텐서플로우에서는 보이지 않았던 부분\n",
        "backend.image_data_format()"
      ],
      "execution_count": 100,
      "outputs": [
        {
          "output_type": "execute_result",
          "data": {
            "text/plain": [
              "'channels_last'"
            ]
          },
          "metadata": {
            "tags": []
          },
          "execution_count": 100
        }
      ]
    },
    {
      "cell_type": "code",
      "metadata": {
        "id": "zN4yYiqflau7",
        "colab_type": "code",
        "colab": {}
      },
      "source": [
        "\n",
        "\n",
        "\n"
      ],
      "execution_count": 0,
      "outputs": []
    },
    {
      "cell_type": "code",
      "metadata": {
        "id": "mwseUQ77la08",
        "colab_type": "code",
        "outputId": "c7a222f0-463d-4a8f-a89b-297dead9f7c7",
        "colab": {
          "base_uri": "https://localhost:8080/",
          "height": 521
        }
      },
      "source": [
        "x_train[0][0] #dtype=uint8 -> float32로 변환"
      ],
      "execution_count": 102,
      "outputs": [
        {
          "output_type": "execute_result",
          "data": {
            "text/plain": [
              "array([[0],\n",
              "       [0],\n",
              "       [0],\n",
              "       [0],\n",
              "       [0],\n",
              "       [0],\n",
              "       [0],\n",
              "       [0],\n",
              "       [0],\n",
              "       [0],\n",
              "       [0],\n",
              "       [0],\n",
              "       [0],\n",
              "       [0],\n",
              "       [0],\n",
              "       [0],\n",
              "       [0],\n",
              "       [0],\n",
              "       [0],\n",
              "       [0],\n",
              "       [0],\n",
              "       [0],\n",
              "       [0],\n",
              "       [0],\n",
              "       [0],\n",
              "       [0],\n",
              "       [0],\n",
              "       [0]], dtype=uint8)"
            ]
          },
          "metadata": {
            "tags": []
          },
          "execution_count": 102
        }
      ]
    },
    {
      "cell_type": "code",
      "metadata": {
        "id": "9Mx1Iba2ozAW",
        "colab_type": "code",
        "colab": {}
      },
      "source": [
        "# 배열의 형변환\n",
        "x_train = x_train.astype('float32')\n",
        "x_test = x_test.astype('float32')"
      ],
      "execution_count": 0,
      "outputs": []
    },
    {
      "cell_type": "code",
      "metadata": {
        "id": "R8wI9dUfpK_m",
        "colab_type": "code",
        "colab": {}
      },
      "source": [
        "# 데이터의 정규화 ~/256 (총 분류갯수) , ~/255 (최대값으로 정규화) \n",
        "x_train /= 255\n",
        "x_test  /= 255"
      ],
      "execution_count": 0,
      "outputs": []
    },
    {
      "cell_type": "code",
      "metadata": {
        "id": "6Cy6L2tnpryd",
        "colab_type": "code",
        "outputId": "dd699e19-8b25-4394-e601-d0033dcd2339",
        "colab": {
          "base_uri": "https://localhost:8080/",
          "height": 35
        }
      },
      "source": [
        "# 레이블 데이터 -> 벡터화\n",
        "y_train[:10]"
      ],
      "execution_count": 105,
      "outputs": [
        {
          "output_type": "execute_result",
          "data": {
            "text/plain": [
              "array([5, 0, 4, 1, 9, 2, 1, 3, 1, 4], dtype=uint8)"
            ]
          },
          "metadata": {
            "tags": []
          },
          "execution_count": 105
        }
      ]
    },
    {
      "cell_type": "code",
      "metadata": {
        "id": "PKeNuiAZp8ms",
        "colab_type": "code",
        "outputId": "118047ab-fe0a-4bc7-ad05-027b131f3742",
        "colab": {
          "base_uri": "https://localhost:8080/",
          "height": 35
        }
      },
      "source": [
        "# 10 :y_train.unique : 0~9 까지\n",
        "y_train = keras.utils.to_categorical(y_train, 10) \n",
        "y_test = keras.utils.to_categorical(y_test, 10) \n",
        "y_train.shape, y_train[0]"
      ],
      "execution_count": 106,
      "outputs": [
        {
          "output_type": "execute_result",
          "data": {
            "text/plain": [
              "((60000, 10), array([0., 0., 0., 0., 0., 1., 0., 0., 0., 0.], dtype=float32))"
            ]
          },
          "metadata": {
            "tags": []
          },
          "execution_count": 106
        }
      ]
    },
    {
      "cell_type": "markdown",
      "metadata": {
        "id": "EMeU7UVujSbL",
        "colab_type": "text"
      },
      "source": [
        "# CNN 레이어 설계\n",
        "- 시퀀스 -> add() -> compile() -> fit() -> 평가"
      ]
    },
    {
      "cell_type": "code",
      "metadata": {
        "id": "QnOmjINAuIS0",
        "colab_type": "code",
        "colab": {}
      },
      "source": [
        "# 모델준비(시퀀스)\n",
        "model = models.Sequential()"
      ],
      "execution_count": 0,
      "outputs": []
    },
    {
      "cell_type": "code",
      "metadata": {
        "id": "4gqKjIAOuIVr",
        "colab_type": "code",
        "colab": {}
      },
      "source": [
        "# 합성곱층 추가 : 채널수 증가, 특징이 추출\n",
        "# filters : 32  => 출력채널수 \n",
        "# kernel_size : 가중치(W) shape\n",
        "# strides = (1,1) => 커널을 1칸씩 이동\n",
        "# padding : 보정, 잘라진 이미지의 크기를 보정하기 ㅜ이해서 행렬을 늘려서 shape을 맞춤\n",
        "# activation : 활성화 함수\n",
        "# input_shape : 입력데이터의 shape\n",
        "model.add( layers.Conv2D( 32,\n",
        "                         kernel_size =(3,3),\n",
        "                         strides = (1,1),\n",
        "                         padding ='valid',\n",
        "                         activation = 'relu',\n",
        "                         input_shape = input_shape\n",
        "                         ) )"
      ],
      "execution_count": 0,
      "outputs": []
    },
    {
      "cell_type": "code",
      "metadata": {
        "id": "sAqTRY-ZuIas",
        "colab_type": "code",
        "colab": {}
      },
      "source": [
        "# 풀링층 추가 : 이미지사이즈 감소, 특징이 강화\n",
        "model.add( layers.MaxPool2D( pool_size = (2,2),\n",
        "                            strides = None , # 기본값 적용\n",
        "                            ) )"
      ],
      "execution_count": 0,
      "outputs": []
    },
    {
      "cell_type": "code",
      "metadata": {
        "id": "YwAVHFpCuIdj",
        "colab_type": "code",
        "colab": {}
      },
      "source": [
        "# 과적합방지 : 데이터에 적응되는것을 방지, 학습을 방해(부분적)\n",
        "# 0.25 : 설정값\n",
        "model.add( layers.Dropout( 0.25 ) )"
      ],
      "execution_count": 0,
      "outputs": []
    },
    {
      "cell_type": "code",
      "metadata": {
        "id": "nnlbmU2uuIgb",
        "colab_type": "code",
        "colab": {}
      },
      "source": [
        "# 합성곱층 추가 : 채널수 증가, 특징이 추출\n",
        "model.add( layers.Conv2D( 64,(3,3),activation='relu') )"
      ],
      "execution_count": 0,
      "outputs": []
    },
    {
      "cell_type": "code",
      "metadata": {
        "id": "C6FY-7e3ucnE",
        "colab_type": "code",
        "colab": {}
      },
      "source": [
        "# 풀링층 추가 : 이미지사이즈 감소, 특징이 강화\n",
        "model.add( layers.MaxPool2D( pool_size = (2,2) ) )"
      ],
      "execution_count": 0,
      "outputs": []
    },
    {
      "cell_type": "code",
      "metadata": {
        "id": "99aPhqIpuzE1",
        "colab_type": "code",
        "colab": {}
      },
      "source": [
        "# 과적합방지 : 데이터에 적응되는것을 방지, 학습을 방해(부분적)\n",
        "model.add( layers.Dropout( 0.25 ) )"
      ],
      "execution_count": 0,
      "outputs": []
    },
    {
      "cell_type": "code",
      "metadata": {
        "id": "BXUUF7551Ye4",
        "colab_type": "code",
        "colab": {}
      },
      "source": [
        "# 데이터를 펴준다 Flatten 처리\n",
        "model.add( layers.Flatten() )"
      ],
      "execution_count": 0,
      "outputs": []
    },
    {
      "cell_type": "code",
      "metadata": {
        "id": "i1GM09k2uzJb",
        "colab_type": "code",
        "colab": {}
      },
      "source": [
        "# 전결합층 : 데이터를 1차로 펴준다. Flatten\n",
        "# layers.Dense() => 일반 계층 1개\n",
        "# 7 x 7 x 64 => Flatten => 128\n",
        "model.add( layers.Dense( 128 ,activation='relu') )"
      ],
      "execution_count": 0,
      "outputs": []
    },
    {
      "cell_type": "code",
      "metadata": {
        "id": "OHWE6vTauzOU",
        "colab_type": "code",
        "colab": {}
      },
      "source": [
        "# 과적합방지 : 데이터에 적응되는것을 방지, 학습을 방해(부분적)\n",
        "model.add( layers.Dropout( 0.5 ) )"
      ],
      "execution_count": 0,
      "outputs": []
    },
    {
      "cell_type": "code",
      "metadata": {
        "id": "V3AMEW8Iu32U",
        "colab_type": "code",
        "colab": {}
      },
      "source": [
        "# 출력층 : 데이터를 10개(레이블의 분류 개수만큼)로 수렴\n",
        "model.add( layers.Dense( 10 ,activation='softmax') )"
      ],
      "execution_count": 0,
      "outputs": []
    },
    {
      "cell_type": "markdown",
      "metadata": {
        "id": "eoh22Y9ejT3O",
        "colab_type": "text"
      },
      "source": [
        "# 학습 및 평가"
      ]
    },
    {
      "cell_type": "code",
      "metadata": {
        "id": "snDiCLPLjETy",
        "colab_type": "code",
        "colab": {}
      },
      "source": [
        "# 크로스엔트로피, 경사하강법\n",
        "# 손실값을 줄이기 위해 조금씩 이동시키면서 학습을 수행한다\n",
        "model.compile( optimizer= 'rmsprop' ,\n",
        "              loss = keras.losses.categorical_crossentropy ,\n",
        "              metrics = ['accuracy']\n",
        "              )"
      ],
      "execution_count": 0,
      "outputs": []
    },
    {
      "cell_type": "code",
      "metadata": {
        "id": "LjwmqDqo2c6M",
        "colab_type": "code",
        "colab": {}
      },
      "source": [
        "# 총 학습의 횟수 = 훈련세대수 \n",
        "epochs     = 10\n",
        "# 1회 학습시 사용하는 데이터의 양 \n",
        "batch_size = 128"
      ],
      "execution_count": 0,
      "outputs": []
    },
    {
      "cell_type": "code",
      "metadata": {
        "id": "21onS_z62JLl",
        "colab_type": "code",
        "outputId": "c62482ee-a8da-484c-b508-425a71f9d762",
        "colab": {
          "base_uri": "https://localhost:8080/",
          "height": 755
        }
      },
      "source": [
        "model.fit( x_train, y_train,\n",
        "          batch_size = batch_size,\n",
        "          epochs = epochs, \n",
        "          validation_split =0.25 \n",
        "          )"
      ],
      "execution_count": 124,
      "outputs": [
        {
          "output_type": "stream",
          "text": [
            "WARNING:tensorflow:From /usr/local/lib/python3.6/dist-packages/tensorflow_core/python/ops/math_grad.py:1424: where (from tensorflow.python.ops.array_ops) is deprecated and will be removed in a future version.\n",
            "Instructions for updating:\n",
            "Use tf.where in 2.0, which has the same broadcast rule as np.where\n",
            "WARNING:tensorflow:From /usr/local/lib/python3.6/dist-packages/keras/backend/tensorflow_backend.py:1033: The name tf.assign_add is deprecated. Please use tf.compat.v1.assign_add instead.\n",
            "\n",
            "WARNING:tensorflow:From /usr/local/lib/python3.6/dist-packages/keras/backend/tensorflow_backend.py:1020: The name tf.assign is deprecated. Please use tf.compat.v1.assign instead.\n",
            "\n",
            "WARNING:tensorflow:From /usr/local/lib/python3.6/dist-packages/keras/backend/tensorflow_backend.py:3005: The name tf.Session is deprecated. Please use tf.compat.v1.Session instead.\n",
            "\n",
            "Train on 45000 samples, validate on 15000 samples\n",
            "Epoch 1/10\n",
            "WARNING:tensorflow:From /usr/local/lib/python3.6/dist-packages/keras/backend/tensorflow_backend.py:190: The name tf.get_default_session is deprecated. Please use tf.compat.v1.get_default_session instead.\n",
            "\n",
            "WARNING:tensorflow:From /usr/local/lib/python3.6/dist-packages/keras/backend/tensorflow_backend.py:197: The name tf.ConfigProto is deprecated. Please use tf.compat.v1.ConfigProto instead.\n",
            "\n",
            "WARNING:tensorflow:From /usr/local/lib/python3.6/dist-packages/keras/backend/tensorflow_backend.py:207: The name tf.global_variables is deprecated. Please use tf.compat.v1.global_variables instead.\n",
            "\n",
            "WARNING:tensorflow:From /usr/local/lib/python3.6/dist-packages/keras/backend/tensorflow_backend.py:216: The name tf.is_variable_initialized is deprecated. Please use tf.compat.v1.is_variable_initialized instead.\n",
            "\n",
            "WARNING:tensorflow:From /usr/local/lib/python3.6/dist-packages/keras/backend/tensorflow_backend.py:223: The name tf.variables_initializer is deprecated. Please use tf.compat.v1.variables_initializer instead.\n",
            "\n",
            "45000/45000 [==============================] - 41s 918us/step - loss: 1.9885 - acc: 0.4997 - val_loss: 1.7366 - val_acc: 0.5853\n",
            "Epoch 2/10\n",
            "45000/45000 [==============================] - 40s 881us/step - loss: 1.5589 - acc: 0.5792 - val_loss: 1.3711 - val_acc: 0.5850\n",
            "Epoch 3/10\n",
            "45000/45000 [==============================] - 40s 888us/step - loss: 1.2446 - acc: 0.5844 - val_loss: 1.0997 - val_acc: 0.5896\n",
            "Epoch 4/10\n",
            "45000/45000 [==============================] - 40s 887us/step - loss: 1.0252 - acc: 0.5884 - val_loss: 0.9240 - val_acc: 0.5893\n",
            "Epoch 5/10\n",
            "45000/45000 [==============================] - 40s 879us/step - loss: 0.8864 - acc: 0.5920 - val_loss: 0.8184 - val_acc: 0.5897\n",
            "Epoch 6/10\n",
            "45000/45000 [==============================] - 40s 881us/step - loss: 0.8044 - acc: 0.5930 - val_loss: 0.7572 - val_acc: 0.5949\n",
            "Epoch 7/10\n",
            "45000/45000 [==============================] - 40s 880us/step - loss: 0.7533 - acc: 0.5938 - val_loss: 0.7242 - val_acc: 0.5941\n",
            "Epoch 8/10\n",
            "45000/45000 [==============================] - 40s 881us/step - loss: 0.7216 - acc: 0.5989 - val_loss: 0.7007 - val_acc: 0.5937\n",
            "Epoch 9/10\n",
            "45000/45000 [==============================] - 40s 881us/step - loss: 0.7018 - acc: 0.6026 - val_loss: 0.6807 - val_acc: 0.6107\n",
            "Epoch 10/10\n",
            "45000/45000 [==============================] - 40s 881us/step - loss: 0.6870 - acc: 0.6101 - val_loss: 0.6715 - val_acc: 0.6052\n"
          ],
          "name": "stdout"
        },
        {
          "output_type": "execute_result",
          "data": {
            "text/plain": [
              "<keras.callbacks.History at 0x7f7c9467e780>"
            ]
          },
          "metadata": {
            "tags": []
          },
          "execution_count": 124
        }
      ]
    },
    {
      "cell_type": "code",
      "metadata": {
        "id": "ZDVjc2ic2JOT",
        "colab_type": "code",
        "colab": {}
      },
      "source": [
        ""
      ],
      "execution_count": 0,
      "outputs": []
    },
    {
      "cell_type": "code",
      "metadata": {
        "id": "lbNTLSTE2JRP",
        "colab_type": "code",
        "colab": {}
      },
      "source": [
        ""
      ],
      "execution_count": 0,
      "outputs": []
    },
    {
      "cell_type": "code",
      "metadata": {
        "id": "4bJL-zLj2JT9",
        "colab_type": "code",
        "colab": {}
      },
      "source": [
        ""
      ],
      "execution_count": 0,
      "outputs": []
    }
  ]
}