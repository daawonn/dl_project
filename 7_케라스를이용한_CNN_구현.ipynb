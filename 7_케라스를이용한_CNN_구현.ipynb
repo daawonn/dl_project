{
  "nbformat": 4,
  "nbformat_minor": 0,
  "metadata": {
    "colab": {
      "name": "7.케라스를이용한 CNN 구현.ipynb",
      "provenance": [],
      "collapsed_sections": [],
      "toc_visible": true,
      "authorship_tag": "ABX9TyMCboqYGpBeC7NuM/1tfkxC",
      "include_colab_link": true
    },
    "kernelspec": {
      "name": "python3",
      "display_name": "Python 3"
    }
  },
  "cells": [
    {
      "cell_type": "markdown",
      "metadata": {
        "id": "view-in-github",
        "colab_type": "text"
      },
      "source": [
        "<a href=\"https://colab.research.google.com/github/daawonn/dl_project/blob/master/7_%EC%BC%80%EB%9D%BC%EC%8A%A4%EB%A5%BC%EC%9D%B4%EC%9A%A9%ED%95%9C_CNN_%EA%B5%AC%ED%98%84.ipynb\" target=\"_parent\"><img src=\"https://colab.research.google.com/assets/colab-badge.svg\" alt=\"Open In Colab\"/></a>"
      ]
    },
    {
      "cell_type": "markdown",
      "metadata": {
        "id": "XGHqRA1hje-L",
        "colab_type": "text"
      },
      "source": [
        "# 절차\n",
        "- 시퀀스 -> add() -> compile() -> fit() -> 평가"
      ]
    },
    {
      "cell_type": "code",
      "metadata": {
        "id": "LlH3L5zVirrf",
        "colab_type": "code",
        "colab": {}
      },
      "source": [
        "import keras\n",
        "from keras import models, layers, backend\n",
        "from keras.datasets import mnist\n",
        "%tensorflow_version 1.x"
      ],
      "execution_count": 0,
      "outputs": []
    },
    {
      "cell_type": "markdown",
      "metadata": {
        "id": "iQ7m1-9SjEKz",
        "colab_type": "text"
      },
      "source": [
        "# 데이터 확보, 준비"
      ]
    },
    {
      "cell_type": "code",
      "metadata": {
        "id": "7c7-O1tvkZhL",
        "colab_type": "code",
        "outputId": "b602f087-b306-4240-b570-bd20d4b371d8",
        "colab": {
          "base_uri": "https://localhost:8080/",
          "height": 35
        }
      },
      "source": [
        "len(mnist.load_data())"
      ],
      "execution_count": 151,
      "outputs": [
        {
          "output_type": "execute_result",
          "data": {
            "text/plain": [
              "2"
            ]
          },
          "metadata": {
            "tags": []
          },
          "execution_count": 151
        }
      ]
    },
    {
      "cell_type": "code",
      "metadata": {
        "id": "v2VuU42tj9wj",
        "colab_type": "code",
        "colab": {}
      },
      "source": [
        "(x_train,y_train),(x_test,y_test) = mnist.load_data()\n",
        "# type(train),len(train)"
      ],
      "execution_count": 0,
      "outputs": []
    },
    {
      "cell_type": "code",
      "metadata": {
        "id": "4RAY9eBvkrfl",
        "colab_type": "code",
        "outputId": "f3596f2d-1119-40d2-dc1a-117a819b4b4b",
        "colab": {
          "base_uri": "https://localhost:8080/",
          "height": 35
        }
      },
      "source": [
        "x_train.shape ,y_train.shape\n",
        "# y_train, y_test는 벡터화처리 해야한다"
      ],
      "execution_count": 153,
      "outputs": [
        {
          "output_type": "execute_result",
          "data": {
            "text/plain": [
              "((60000, 28, 28), (60000,))"
            ]
          },
          "metadata": {
            "tags": []
          },
          "execution_count": 153
        }
      ]
    },
    {
      "cell_type": "code",
      "metadata": {
        "id": "FfacWB45krrS",
        "colab_type": "code",
        "colab": {}
      },
      "source": [
        "# 이미지 크기\n",
        "img_rows, img_cols = x_train.shape[1:]"
      ],
      "execution_count": 0,
      "outputs": []
    },
    {
      "cell_type": "code",
      "metadata": {
        "id": "8lcBKTwrlami",
        "colab_type": "code",
        "outputId": "22e1371b-a101-404c-eb34-2fecd6822da7",
        "colab": {
          "base_uri": "https://localhost:8080/",
          "height": 35
        }
      },
      "source": [
        "# 채널을 설명하는 값에 의해 데이터에 채널값을 앞 혹은 뒤에 추가하여\n",
        "# Dememsion(차원)을 확장한다 -> 텐서플로우에서는 보이지 않았던 부분\n",
        "backend.image_data_format()"
      ],
      "execution_count": 155,
      "outputs": [
        {
          "output_type": "execute_result",
          "data": {
            "text/plain": [
              "'channels_last'"
            ]
          },
          "metadata": {
            "tags": []
          },
          "execution_count": 155
        }
      ]
    },
    {
      "cell_type": "code",
      "metadata": {
        "id": "zN4yYiqflau7",
        "colab_type": "code",
        "colab": {}
      },
      "source": [
        "# 입력데이터 보정\n",
        "if backend.image_data_format() == 'channels_first':\n",
        "  # [60000, 28, 28] => [60000, 1, 28 ,28]\n",
        "  x_train = x_train.reshape( x_train.shape[0], 1, img_rows, img_cols )\n",
        "  x_test = x_test.reshape( x_test.shape[0], 1, img_rows, img_cols )\n",
        "  input_shape = (1, img_rows, img_cols)\n",
        "else :\n",
        "  # [60000, 28, 28] => [60000, 28 ,28, 1] <- 텐서플로우 CNN 예제의 x의 shape랑 같은 형식\n",
        "  x_train = x_train.reshape( x_train.shape[0], img_rows, img_cols, 1 )\n",
        "  x_test = x_test.reshape( x_test.shape[0], img_rows, img_cols, 1 )\n",
        "  input_shape = (img_rows, img_cols, 1)"
      ],
      "execution_count": 0,
      "outputs": []
    },
    {
      "cell_type": "code",
      "metadata": {
        "id": "mwseUQ77la08",
        "colab_type": "code",
        "outputId": "a2a2465a-9261-4bd9-875d-beba36069e4e",
        "colab": {
          "base_uri": "https://localhost:8080/",
          "height": 521
        }
      },
      "source": [
        "x_train[0][0] #dtype=uint8 -> float32로 변환"
      ],
      "execution_count": 157,
      "outputs": [
        {
          "output_type": "execute_result",
          "data": {
            "text/plain": [
              "array([[0],\n",
              "       [0],\n",
              "       [0],\n",
              "       [0],\n",
              "       [0],\n",
              "       [0],\n",
              "       [0],\n",
              "       [0],\n",
              "       [0],\n",
              "       [0],\n",
              "       [0],\n",
              "       [0],\n",
              "       [0],\n",
              "       [0],\n",
              "       [0],\n",
              "       [0],\n",
              "       [0],\n",
              "       [0],\n",
              "       [0],\n",
              "       [0],\n",
              "       [0],\n",
              "       [0],\n",
              "       [0],\n",
              "       [0],\n",
              "       [0],\n",
              "       [0],\n",
              "       [0],\n",
              "       [0]], dtype=uint8)"
            ]
          },
          "metadata": {
            "tags": []
          },
          "execution_count": 157
        }
      ]
    },
    {
      "cell_type": "code",
      "metadata": {
        "id": "9Mx1Iba2ozAW",
        "colab_type": "code",
        "colab": {}
      },
      "source": [
        "# 배열의 형변환\n",
        "x_train = x_train.astype('float32')\n",
        "x_test = x_test.astype('float32')"
      ],
      "execution_count": 0,
      "outputs": []
    },
    {
      "cell_type": "code",
      "metadata": {
        "id": "R8wI9dUfpK_m",
        "colab_type": "code",
        "colab": {}
      },
      "source": [
        "# 데이터의 정규화 ~/256 (총 분류갯수) , ~/255 (최대값으로 정규화) \n",
        "x_train /= 255\n",
        "x_test  /= 255"
      ],
      "execution_count": 0,
      "outputs": []
    },
    {
      "cell_type": "code",
      "metadata": {
        "id": "6Cy6L2tnpryd",
        "colab_type": "code",
        "outputId": "bb884bf4-b9f6-4c7b-af05-d4c60133a6a7",
        "colab": {
          "base_uri": "https://localhost:8080/",
          "height": 35
        }
      },
      "source": [
        "# 레이블 데이터 -> 벡터화\n",
        "y_train[:10]"
      ],
      "execution_count": 160,
      "outputs": [
        {
          "output_type": "execute_result",
          "data": {
            "text/plain": [
              "array([5, 0, 4, 1, 9, 2, 1, 3, 1, 4], dtype=uint8)"
            ]
          },
          "metadata": {
            "tags": []
          },
          "execution_count": 160
        }
      ]
    },
    {
      "cell_type": "code",
      "metadata": {
        "id": "PKeNuiAZp8ms",
        "colab_type": "code",
        "outputId": "b1cff1b8-effa-4b71-9b4f-92898baa75a5",
        "colab": {
          "base_uri": "https://localhost:8080/",
          "height": 35
        }
      },
      "source": [
        "# 10 :y_train.unique : 0~9 까지\n",
        "y_train = keras.utils.to_categorical(y_train, 10) \n",
        "y_test = keras.utils.to_categorical(y_test, 10) \n",
        "y_train.shape, y_train[0]"
      ],
      "execution_count": 161,
      "outputs": [
        {
          "output_type": "execute_result",
          "data": {
            "text/plain": [
              "((60000, 10), array([0., 0., 0., 0., 0., 1., 0., 0., 0., 0.], dtype=float32))"
            ]
          },
          "metadata": {
            "tags": []
          },
          "execution_count": 161
        }
      ]
    },
    {
      "cell_type": "markdown",
      "metadata": {
        "id": "EMeU7UVujSbL",
        "colab_type": "text"
      },
      "source": [
        "# CNN 레이어 설계\n",
        "- 시퀀스 -> add() -> compile() -> fit() -> 평가"
      ]
    },
    {
      "cell_type": "code",
      "metadata": {
        "id": "QnOmjINAuIS0",
        "colab_type": "code",
        "colab": {}
      },
      "source": [
        "# 모델준비(시퀀스)\n",
        "model = models.Sequential()"
      ],
      "execution_count": 0,
      "outputs": []
    },
    {
      "cell_type": "code",
      "metadata": {
        "id": "4gqKjIAOuIVr",
        "colab_type": "code",
        "colab": {}
      },
      "source": [
        "# 합성곱층 추가 : 채널수 증가, 특징이 추출\n",
        "# filters : 32  => 출력채널수 \n",
        "# kernel_size : 가중치(W) shape\n",
        "# strides = (1,1) => 커널을 1칸씩 이동\n",
        "# padding : 보정, 잘라진 이미지의 크기를 보정하기 ㅜ이해서 행렬을 늘려서 shape을 맞춤\n",
        "# activation : 활성화 함수\n",
        "# input_shape : 입력데이터의 shape\n",
        "model.add( layers.Conv2D( 32,\n",
        "                         kernel_size =(3,3),\n",
        "                         strides = (1,1),\n",
        "                         padding ='valid',\n",
        "                         activation = 'relu',\n",
        "                         input_shape = input_shape\n",
        "                         ) )"
      ],
      "execution_count": 0,
      "outputs": []
    },
    {
      "cell_type": "code",
      "metadata": {
        "id": "sAqTRY-ZuIas",
        "colab_type": "code",
        "colab": {}
      },
      "source": [
        "# 풀링층 추가 : 이미지사이즈 감소, 특징이 강화\n",
        "model.add( layers.MaxPool2D( pool_size = (2,2),\n",
        "                            strides = None , # 기본값 적용\n",
        "                            ) )"
      ],
      "execution_count": 0,
      "outputs": []
    },
    {
      "cell_type": "code",
      "metadata": {
        "id": "YwAVHFpCuIdj",
        "colab_type": "code",
        "colab": {}
      },
      "source": [
        "# 과적합방지 : 데이터에 적응되는것을 방지, 학습을 방해(부분적)\n",
        "# 0.25 : 설정값\n",
        "model.add( layers.Dropout( 0.25 ) )"
      ],
      "execution_count": 0,
      "outputs": []
    },
    {
      "cell_type": "code",
      "metadata": {
        "id": "nnlbmU2uuIgb",
        "colab_type": "code",
        "colab": {}
      },
      "source": [
        "# 합성곱층 추가 : 채널수 증가, 특징이 추출\n",
        "model.add( layers.Conv2D( 64,(3,3),activation='relu') )"
      ],
      "execution_count": 0,
      "outputs": []
    },
    {
      "cell_type": "code",
      "metadata": {
        "id": "C6FY-7e3ucnE",
        "colab_type": "code",
        "colab": {}
      },
      "source": [
        "# 풀링층 추가 : 이미지사이즈 감소, 특징이 강화\n",
        "model.add( layers.MaxPool2D( pool_size = (2,2) ) )"
      ],
      "execution_count": 0,
      "outputs": []
    },
    {
      "cell_type": "code",
      "metadata": {
        "id": "99aPhqIpuzE1",
        "colab_type": "code",
        "colab": {}
      },
      "source": [
        "# 과적합방지 : 데이터에 적응되는것을 방지, 학습을 방해(부분적)\n",
        "model.add( layers.Dropout( 0.25 ) )"
      ],
      "execution_count": 0,
      "outputs": []
    },
    {
      "cell_type": "code",
      "metadata": {
        "id": "BXUUF7551Ye4",
        "colab_type": "code",
        "colab": {}
      },
      "source": [
        "# 데이터를 펴준다 Flatten 처리\n",
        "model.add( layers.Flatten() )"
      ],
      "execution_count": 0,
      "outputs": []
    },
    {
      "cell_type": "code",
      "metadata": {
        "id": "i1GM09k2uzJb",
        "colab_type": "code",
        "colab": {}
      },
      "source": [
        "# 전결합층 : 데이터를 1차로 펴준다. Flatten\n",
        "# layers.Dense() => 일반 계층 1개\n",
        "# 7 x 7 x 64 => Flatten => 128\n",
        "model.add( layers.Dense( 128 ,activation='relu') )"
      ],
      "execution_count": 0,
      "outputs": []
    },
    {
      "cell_type": "code",
      "metadata": {
        "id": "OHWE6vTauzOU",
        "colab_type": "code",
        "colab": {}
      },
      "source": [
        "# 과적합방지 : 데이터에 적응되는것을 방지, 학습을 방해(부분적)\n",
        "model.add( layers.Dropout( 0.5 ) )"
      ],
      "execution_count": 0,
      "outputs": []
    },
    {
      "cell_type": "code",
      "metadata": {
        "id": "V3AMEW8Iu32U",
        "colab_type": "code",
        "colab": {}
      },
      "source": [
        "# 출력층 : 데이터를 10개(레이블의 분류 개수만큼)로 수렴\n",
        "model.add( layers.Dense( 10 ,activation='softmax') )"
      ],
      "execution_count": 0,
      "outputs": []
    },
    {
      "cell_type": "markdown",
      "metadata": {
        "id": "eoh22Y9ejT3O",
        "colab_type": "text"
      },
      "source": [
        "# 학습 및 평가"
      ]
    },
    {
      "cell_type": "code",
      "metadata": {
        "id": "snDiCLPLjETy",
        "colab_type": "code",
        "colab": {}
      },
      "source": [
        "# 크로스엔트로피, 경사하강법\n",
        "# 손실값을 줄이기 위해 조금씩 이동시키면서 학습을 수행한다\n",
        "model.compile( optimizer= 'rmsprop' ,\n",
        "              loss = keras.losses.categorical_crossentropy ,\n",
        "              metrics = ['accuracy']\n",
        "              )"
      ],
      "execution_count": 0,
      "outputs": []
    },
    {
      "cell_type": "code",
      "metadata": {
        "id": "LjwmqDqo2c6M",
        "colab_type": "code",
        "colab": {}
      },
      "source": [
        "# 총 학습의 횟수 = 훈련세대수 \n",
        "epochs     = 10\n",
        "# 1회 학습시 사용하는 데이터의 양 \n",
        "batch_size = 128"
      ],
      "execution_count": 0,
      "outputs": []
    },
    {
      "cell_type": "code",
      "metadata": {
        "id": "21onS_z62JLl",
        "colab_type": "code",
        "outputId": "a54345d8-c39d-4490-ba4b-94020f27cd98",
        "colab": {
          "base_uri": "https://localhost:8080/",
          "height": 413
        }
      },
      "source": [
        "model.fit( x_train, y_train,\n",
        "          batch_size = batch_size,\n",
        "          epochs = epochs, \n",
        "          validation_split =0.25 \n",
        "          )"
      ],
      "execution_count": 175,
      "outputs": [
        {
          "output_type": "stream",
          "text": [
            "Train on 45000 samples, validate on 15000 samples\n",
            "Epoch 1/10\n",
            "45000/45000 [==============================] - 41s 908us/step - loss: 0.3877 - acc: 0.8763 - val_loss: 0.0910 - val_acc: 0.9713\n",
            "Epoch 2/10\n",
            "45000/45000 [==============================] - 40s 894us/step - loss: 0.1273 - acc: 0.9618 - val_loss: 0.0639 - val_acc: 0.9801\n",
            "Epoch 3/10\n",
            "45000/45000 [==============================] - 40s 886us/step - loss: 0.0939 - acc: 0.9716 - val_loss: 0.0563 - val_acc: 0.9825\n",
            "Epoch 4/10\n",
            "45000/45000 [==============================] - 40s 881us/step - loss: 0.0800 - acc: 0.9764 - val_loss: 0.0446 - val_acc: 0.9863\n",
            "Epoch 5/10\n",
            "45000/45000 [==============================] - 40s 882us/step - loss: 0.0689 - acc: 0.9790 - val_loss: 0.0425 - val_acc: 0.9872\n",
            "Epoch 6/10\n",
            "45000/45000 [==============================] - 40s 881us/step - loss: 0.0641 - acc: 0.9811 - val_loss: 0.0390 - val_acc: 0.9885\n",
            "Epoch 7/10\n",
            "45000/45000 [==============================] - 39s 874us/step - loss: 0.0577 - acc: 0.9828 - val_loss: 0.0393 - val_acc: 0.9882\n",
            "Epoch 8/10\n",
            "45000/45000 [==============================] - 40s 881us/step - loss: 0.0528 - acc: 0.9842 - val_loss: 0.0372 - val_acc: 0.9891\n",
            "Epoch 9/10\n",
            "45000/45000 [==============================] - 39s 873us/step - loss: 0.0497 - acc: 0.9849 - val_loss: 0.0362 - val_acc: 0.9894\n",
            "Epoch 10/10\n",
            "45000/45000 [==============================] - 39s 876us/step - loss: 0.0469 - acc: 0.9867 - val_loss: 0.0355 - val_acc: 0.9899\n"
          ],
          "name": "stdout"
        },
        {
          "output_type": "execute_result",
          "data": {
            "text/plain": [
              "<keras.callbacks.History at 0x7f7c8e09f518>"
            ]
          },
          "metadata": {
            "tags": []
          },
          "execution_count": 175
        }
      ]
    },
    {
      "cell_type": "code",
      "metadata": {
        "id": "ZDVjc2ic2JOT",
        "colab_type": "code",
        "colab": {}
      },
      "source": [
        "# loss: 0.0469 - acc: 0.9867 - val_loss: 0.0355 - val_acc: 0.9899"
      ],
      "execution_count": 0,
      "outputs": []
    }
  ]
}